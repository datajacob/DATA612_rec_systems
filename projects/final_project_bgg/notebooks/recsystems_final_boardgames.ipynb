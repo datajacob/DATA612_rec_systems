{
  "cells": [
    {
      "cell_type": "markdown",
      "source": [
        "#### Introduction"
      ],
      "metadata": {},
      "id": "c5f8cb9d-729d-4ef7-8a2f-df600f9ff63c"
    },
    {
      "cell_type": "markdown",
      "source": [
        "As a big fan of social table-top gaming, and all manner of board, card and dice games, I was thrilled to find a rich set of review data from BoardGameGeek.com [on kaggle](https://www.kaggle.com/datasets/jvanelteren/boardgamegeek-reviews/data?select=games_detailed_info2025.csv). The data consists of at least 15 million user reviews of various games on the site, with metadata on over 21 thousand distinct items (games).\n",
        "\n",
        "Because that metadata is itself quite rich, it lends itself a content-based approach for recommender systems. Games are tagged with useful attributes like category and game mechanic, as well as numerical values like recommended player count, age and release date (which could be reduced to categories themselves as needed). I expect that with this approach, I could get a strong sense of what to recommend for, say, someone who wants quick card games for their kids, or someone who wants complex, violent war games for their adult friend group and everything in between.\n",
        "\n",
        "But something else that really excited me about the data was that it includes a text description for each game as well. This affords me the opportunity to use a more \"unstructured\" data approach, converting those text strings into vectors, valued by wordcount or TF-IDF, and assessing potential recommendations that way. Then, I could compare which content-based approach is stronger, and make recommendations to game developers based on my findings--for example, to ensure that their descriptions are as detailed as possible, or that they tag their games accurately and comprehensively.\n"
      ],
      "metadata": {
        "nteract": {
          "transient": {
            "deleting": false
          }
        }
      },
      "id": "b8d86857-fe83-42cf-a626-9d9b1816aadd"
    },
    {
      "cell_type": "markdown",
      "source": [
        "I'll start by importing the necessary packages, including those required to run my code here on the Microsoft Azure platform:"
      ],
      "metadata": {},
      "id": "6fbb2958-bde2-40e3-a66e-540f0f98ce10"
    },
    {
      "cell_type": "code",
      "source": [
        "import os\n",
        "from dotenv import load_dotenv\n",
        "from azure.storage.filedatalake import DataLakeServiceClient\n",
        "\n",
        "import numpy as np\n",
        "import pandas as pd\n",
        "import json\n",
        "import matplotlib.pyplot as plt\n",
        "import ast\n",
        "\n",
        "import scipy.sparse as sp\n",
        "from scipy.sparse import coo_matrix\n",
        "from sklearn.preprocessing import MultiLabelBinarizer, normalize\n",
        "from sklearn.metrics.pairwise import cosine_similarity\n",
        "from sklearn.feature_extraction.text import TfidfVectorizer\n",
        "from sklearn.decomposition import TruncatedSVD\n",
        "from implicit.als import AlternatingLeastSquares\n",
        "from tqdm.auto import tqdm"
      ],
      "outputs": [
        {
          "output_type": "stream",
          "name": "stderr",
          "text": "/anaconda/envs/azureml_py38/lib/python3.10/site-packages/tqdm/auto.py:21: TqdmWarning: IProgress not found. Please update jupyter and ipywidgets. See https://ipywidgets.readthedocs.io/en/stable/user_install.html\n  from .autonotebook import tqdm as notebook_tqdm\n"
        }
      ],
      "execution_count": 1,
      "metadata": {
        "gather": {
          "logged": 1752537393197
        }
      },
      "id": "429d8559-b550-4223-8beb-08f0927e7c90"
    },
    {
      "cell_type": "code",
      "source": [
        "#bring in .env which contains connection string\n",
        "load_dotenv()"
      ],
      "outputs": [
        {
          "output_type": "execute_result",
          "execution_count": 2,
          "data": {
            "text/plain": "True"
          },
          "metadata": {}
        }
      ],
      "execution_count": 2,
      "metadata": {
        "gather": {
          "logged": 1752537393365
        }
      },
      "id": "1220218c-4403-454f-a063-f816484a9148"
    },
    {
      "cell_type": "code",
      "source": [
        "#connect to the account\n",
        "conn_str = os.environ[\"AZURE_STORAGE_CONNECTION_STRING\"]\n",
        "service = DataLakeServiceClient.from_connection_string(conn_str)\n",
        "\n",
        "#set filesystem and fs_client\n",
        "filesystem = \"raw-boardgames-data\"\n",
        "fs_client   = service.get_file_system_client(filesystem)"
      ],
      "outputs": [],
      "execution_count": 3,
      "metadata": {
        "gather": {
          "logged": 1752537393580
        }
      },
      "id": "3f47732f-daeb-4710-bfb9-c2661eee22c2"
    },
    {
      "cell_type": "markdown",
      "source": [
        "##### Review Data"
      ],
      "metadata": {},
      "id": "163f0696-294d-40a6-932c-f664d18091c2"
    },
    {
      "cell_type": "markdown",
      "source": [
        "Let's start by pulling in our review data, which I need to chunk in order to read efficiently."
      ],
      "metadata": {
        "nteract": {
          "transient": {
            "deleting": false
          }
        }
      },
      "id": "7a5bcbd7-a7d8-4c42-b3ca-7708ec28a6c9"
    },
    {
      "cell_type": "code",
      "source": [
        "#set filepath and file client\n",
        "filepath   = \"bgg-15m-reviews.csv\"\n",
        "file_client = fs_client.get_file_client(filepath)"
      ],
      "outputs": [],
      "execution_count": 4,
      "metadata": {
        "gather": {
          "logged": 1752537393722
        }
      },
      "id": "ffd9234a-0cb5-44d2-8049-3530e45bbf41"
    },
    {
      "cell_type": "code",
      "source": [
        "#stream the CSV blob down to a local file\n",
        "with open(\"bgg-15m-reviews.csv\", \"wb\") as f:\n",
        "    downloader = file_client.download_file()\n",
        "    downloader.readinto(f)\n",
        "\n",
        "#pick only necessary columns\n",
        "usecols = ['user','rating','ID']\n",
        "\n",
        "#read in chunks and concatenate\n",
        "reader = pd.read_csv(\n",
        "    \"bgg-15m-reviews.csv\",\n",
        "    usecols=usecols,\n",
        "    chunksize=100_000,\n",
        "    dtype={\"author_id\": str, \"podcast_id\": str, \"rating\": float}\n",
        ")\n",
        "\n",
        "df_r = pd.concat(reader, ignore_index=True)\n",
        "\n",
        "#clean up the on-disk file (csv no longer needed)\n",
        "os.remove(\"bgg-15m-reviews.csv\")"
      ],
      "outputs": [],
      "execution_count": 5,
      "metadata": {
        "gather": {
          "logged": 1752537441625
        }
      },
      "id": "10c8a69c-bd16-4258-a355-b38fd799a46e"
    },
    {
      "cell_type": "code",
      "source": [
        "#inspect\n",
        "print(df_r.shape)\n",
        "df_r.head()"
      ],
      "outputs": [
        {
          "output_type": "stream",
          "name": "stdout",
          "text": "(15823269, 3)\n"
        },
        {
          "output_type": "execute_result",
          "execution_count": 6,
          "data": {
            "text/plain": "              user  rating     ID\n0          Torsten    10.0  30549\n1  mitnachtKAUBO-I    10.0  30549\n2           avlawn    10.0  30549\n3       Mike Mayer    10.0  30549\n4          Mease19    10.0  30549",
            "text/html": "<div>\n<style scoped>\n    .dataframe tbody tr th:only-of-type {\n        vertical-align: middle;\n    }\n\n    .dataframe tbody tr th {\n        vertical-align: top;\n    }\n\n    .dataframe thead th {\n        text-align: right;\n    }\n</style>\n<table border=\"1\" class=\"dataframe\">\n  <thead>\n    <tr style=\"text-align: right;\">\n      <th></th>\n      <th>user</th>\n      <th>rating</th>\n      <th>ID</th>\n    </tr>\n  </thead>\n  <tbody>\n    <tr>\n      <th>0</th>\n      <td>Torsten</td>\n      <td>10.0</td>\n      <td>30549</td>\n    </tr>\n    <tr>\n      <th>1</th>\n      <td>mitnachtKAUBO-I</td>\n      <td>10.0</td>\n      <td>30549</td>\n    </tr>\n    <tr>\n      <th>2</th>\n      <td>avlawn</td>\n      <td>10.0</td>\n      <td>30549</td>\n    </tr>\n    <tr>\n      <th>3</th>\n      <td>Mike Mayer</td>\n      <td>10.0</td>\n      <td>30549</td>\n    </tr>\n    <tr>\n      <th>4</th>\n      <td>Mease19</td>\n      <td>10.0</td>\n      <td>30549</td>\n    </tr>\n  </tbody>\n</table>\n</div>"
          },
          "metadata": {}
        }
      ],
      "execution_count": 6,
      "metadata": {
        "gather": {
          "logged": 1752537441818
        }
      },
      "id": "ec3bb055-fc70-4ae9-a997-7b11eb4cc3e2"
    },
    {
      "cell_type": "markdown",
      "source": [
        "This looks perfect, as we have all we need for our interactions data: a username, their rating of a particular game, and the ID of that game (which corresponds to our board game metadata). Speaking of:"
      ],
      "metadata": {
        "nteract": {
          "transient": {
            "deleting": false
          }
        }
      },
      "id": "88c86a0b-0014-4e29-9a74-f871348b4048"
    },
    {
      "cell_type": "markdown",
      "source": [
        "##### Board Game metadata"
      ],
      "metadata": {},
      "id": "932a8c1d-3219-4e1b-ba15-60e88423c916"
    },
    {
      "cell_type": "markdown",
      "source": [
        "We can now pull in the board game data in a similar fashion:"
      ],
      "metadata": {
        "nteract": {
          "transient": {
            "deleting": false
          }
        }
      },
      "id": "a5e43961-c98a-40be-946e-224a9491eedc"
    },
    {
      "cell_type": "code",
      "source": [
        "#set filepath and file client\n",
        "filepath   = \"games_detailed_info2025.csv\"\n",
        "file_client = fs_client.get_file_client(filepath)"
      ],
      "outputs": [],
      "execution_count": 7,
      "metadata": {
        "gather": {
          "logged": 1752537441961
        }
      },
      "id": "b350d7e7-c80e-4694-a5cf-25eb24b4f362"
    },
    {
      "cell_type": "code",
      "source": [
        "#stream the CSV blob down to a local file\n",
        "with open(\"games_detailed_info2025.csv\", \"wb\") as f:\n",
        "    downloader = file_client.download_file()\n",
        "    downloader.readinto(f)\n",
        "\n",
        "#read in chunks and concatenate\n",
        "reader = pd.read_csv(\n",
        "    \"games_detailed_info2025.csv\",\n",
        "    #usecols=usecols,\n",
        "    chunksize=100_000,\n",
        "    dtype={\"author_id\": str, \"podcast_id\": str, \"rating\": float}\n",
        ")\n",
        "\n",
        "df_bg = pd.concat(reader, ignore_index=True)\n",
        "\n",
        "#clean up the on-disk file (csv no longer needed)\n",
        "os.remove(\"games_detailed_info2025.csv\")"
      ],
      "outputs": [],
      "execution_count": 8,
      "metadata": {
        "gather": {
          "logged": 1752537445191
        }
      },
      "id": "d39cd204-5847-4772-ae0c-1d94a22519b2"
    },
    {
      "cell_type": "markdown",
      "source": [
        "##### Exploratory Data Analysis"
      ],
      "metadata": {
        "nteract": {
          "transient": {
            "deleting": false
          }
        }
      },
      "id": "9506e20a-2600-4607-a017-ceb0daa1184f"
    },
    {
      "cell_type": "markdown",
      "source": [
        "Let's start by analyzing our ratings data, as it is less complex then our game metadata and can give us a quick sense of our review distribution. We can also get a sense of user and game volume, which we can then use to filter down the board game data to make it a bit less noisy, while retaining the benefits of high volume."
      ],
      "metadata": {
        "nteract": {
          "transient": {
            "deleting": false
          }
        }
      },
      "id": "33f40ebe-09da-41b4-801f-ce116de7f448"
    },
    {
      "cell_type": "code",
      "source": [
        "df_r['rating'].value_counts()"
      ],
      "outputs": [
        {
          "output_type": "execute_result",
          "execution_count": 9,
          "data": {
            "text/plain": "7.00000    3566154\n8.00000    3002815\n6.00000    2346047\n9.00000    1424911\n5.00000    1077762\n            ...   \n8.10675          1\n9.95556          1\n8.76598          1\n8.42800          1\n4.33375          1\nName: rating, Length: 10172, dtype: int64"
          },
          "metadata": {}
        }
      ],
      "execution_count": 9,
      "metadata": {
        "gather": {
          "logged": 1752537445472
        }
      },
      "id": "ce312cca-37b2-40bf-b422-5d9612de377a"
    },
    {
      "cell_type": "code",
      "source": [
        "#divide num of integer ratings by total ratings\n",
        "len(df_r[df_r['rating'].isin(range(0,11))]) / len(df_r)"
      ],
      "outputs": [
        {
          "output_type": "execute_result",
          "execution_count": 10,
          "data": {
            "text/plain": "0.829082789403378"
          },
          "metadata": {}
        }
      ],
      "execution_count": 10,
      "metadata": {
        "jupyter": {
          "source_hidden": false,
          "outputs_hidden": false
        },
        "nteract": {
          "transient": {
            "deleting": false
          }
        },
        "gather": {
          "logged": 1752537454185
        }
      },
      "id": "24879810-1ce4-4834-8f4c-8cdbda034360"
    },
    {
      "cell_type": "markdown",
      "source": [
        "Interesting! Seems like the values allow for float entries, though the large majority of ratings are indeed integers. I'm not sure why some individual ratings have such a high level of precision, but I believe it makes sense to simplify them all to the same level (ie. rounded to the nearest 10th place) and work from there."
      ],
      "metadata": {
        "nteract": {
          "transient": {
            "deleting": false
          }
        }
      },
      "id": "94b2da24-b820-4d0c-b5ef-1f0a46a0da44"
    },
    {
      "cell_type": "code",
      "source": [
        "df_r['rating'] = df_r['rating'].apply(lambda x: round(x,1))"
      ],
      "outputs": [],
      "execution_count": 11,
      "metadata": {
        "gather": {
          "logged": 1752537464561
        }
      },
      "id": "a381d365-208c-4ed3-8726-419a2a81e6fc"
    },
    {
      "cell_type": "code",
      "source": [
        "#now observe distribution\n",
        "df_r['rating'].hist()"
      ],
      "outputs": [
        {
          "output_type": "execute_result",
          "execution_count": 12,
          "data": {
            "text/plain": "<Axes: >"
          },
          "metadata": {}
        },
        {
          "output_type": "display_data",
          "data": {
            "text/plain": "<Figure size 640x480 with 1 Axes>",
            "image/png": "[encoded data removed]"
          },
          "metadata": {}
        }
      ],
      "execution_count": 12,
      "metadata": {
        "gather": {
          "logged": 1752537465324
        }
      },
      "id": "e13c8a9b-7a6d-4a78-91c2-e9379e48dc13"
    },
    {
      "cell_type": "markdown",
      "source": [
        "This looks like a sensible distribution, relatively normal with most ratings sitting in the high-but-not-extreme range of 6-9 and a leftward skew. 10s are common but not easy to come by, suggesting we have a discerning audience.\n",
        "\n",
        "Next, we want to filter down our data only to users and board games with a mininum number of ratings corresponding to the ~90th percentile, ensuring that users and games with very few ratings don't clutter our classifier."
      ],
      "metadata": {
        "nteract": {
          "transient": {
            "deleting": false
          }
        }
      },
      "id": "fa2f3b1d-98d3-48c8-bea7-628d5ba0882d"
    },
    {
      "cell_type": "code",
      "source": [
        "#90th percentile of users\n",
        "np.percentile(df_r['user'].value_counts(), 80)"
      ],
      "outputs": [
        {
          "output_type": "execute_result",
          "execution_count": 13,
          "data": {
            "text/plain": "57.0"
          },
          "metadata": {}
        }
      ],
      "execution_count": 13,
      "metadata": {
        "gather": {
          "logged": 1752537469730
        }
      },
      "id": "64ae6ce9-d929-44fe-b82f-f1f935531cdf"
    },
    {
      "cell_type": "code",
      "source": [
        "#90th percentile of games\n",
        "np.percentile(df_r['ID'].value_counts(), 80)"
      ],
      "outputs": [
        {
          "output_type": "execute_result",
          "execution_count": 14,
          "data": {
            "text/plain": "525.2000000000007"
          },
          "metadata": {}
        }
      ],
      "execution_count": 14,
      "metadata": {
        "gather": {
          "logged": 1752537469923
        }
      },
      "id": "64805fa1-1f60-4785-aeb5-49359cf7acf5"
    },
    {
      "cell_type": "markdown",
      "source": [
        "Now we can filter down the ratings data based on these figures. This needs to be done on a loop as the loss of games iteratively impacts the number of users meeting the criteria and vice versa."
      ],
      "metadata": {
        "nteract": {
          "transient": {
            "deleting": false
          }
        }
      },
      "id": "37be80cf-8fb2-4985-9273-f842b9741038"
    },
    {
      "cell_type": "code",
      "source": [
        "MIN_GAME_RATINGS = 500\n",
        "MIN_USER_RATINGS = 50\n",
        "\n",
        "df_r2 = df_r.copy()\n",
        "\n",
        "while True:\n",
        "    before = df_r2.shape[0]\n",
        "    \n",
        "    #drop games with too few reviews\n",
        "    df_r2 = df_r2.groupby('ID').filter(lambda x: len(x) >= MIN_GAME_RATINGS)\n",
        "    #drop users with too few reviews\n",
        "    df_r2 = df_r2.groupby('user').filter(lambda x: len(x) >= MIN_USER_RATINGS)\n",
        "    \n",
        "    after = df_r2.shape[0]\n",
        "    if after == before:\n",
        "        break"
      ],
      "outputs": [],
      "execution_count": 15,
      "metadata": {
        "jupyter": {
          "source_hidden": false,
          "outputs_hidden": false
        },
        "nteract": {
          "transient": {
            "deleting": false
          }
        },
        "gather": {
          "logged": 1752537529455
        }
      },
      "id": "de14c058-8d89-4680-b7d0-5a1fc505b465"
    },
    {
      "cell_type": "code",
      "source": [
        "df_r2['user'].value_counts()"
      ],
      "outputs": [
        {
          "output_type": "execute_result",
          "execution_count": 16,
          "data": {
            "text/plain": "leffe dubbel    3042\nJasonSaastad    2365\nTomVasel        2307\nHessu68         2306\nDoel            2226\n                ... \nshawnmain         50\nAlatazans         50\nbennettboy        50\nSandevid          50\nLundi_tabula      50\nName: user, Length: 71058, dtype: int64"
          },
          "metadata": {}
        }
      ],
      "execution_count": 16,
      "metadata": {
        "gather": {
          "logged": 1752537531552
        }
      },
      "id": "e3dccc43-a62a-4e30-98c2-2ec99c5b951e"
    },
    {
      "cell_type": "code",
      "source": [
        "df_r2['ID'].value_counts()"
      ],
      "outputs": [
        {
          "output_type": "execute_result",
          "execution_count": 17,
          "data": {
            "text/plain": "30549     50338\n822       49201\n13        46833\n68448     46811\n36218     43398\n          ...  \n186995      500\n3341        500\n2767        500\n281152      500\n217362      500\nName: ID, Length: 3493, dtype: int64"
          },
          "metadata": {}
        }
      ],
      "execution_count": 17,
      "metadata": {
        "gather": {
          "logged": 1752537531729
        }
      },
      "id": "0ee75174-6d52-404c-8357-4b1171bc6e7f"
    },
    {
      "cell_type": "markdown",
      "source": [
        "Perfect--now we can filter down our board game data to correspond with the new ratings:"
      ],
      "metadata": {
        "nteract": {
          "transient": {
            "deleting": false
          }
        }
      },
      "id": "04c695cc-e1c7-4679-9a4c-bb38e0da18e8"
    },
    {
      "cell_type": "code",
      "source": [
        "df_bg2 = df_bg[df_bg['id'].isin(df_r2['ID'].value_counts().index)]"
      ],
      "outputs": [],
      "execution_count": 18,
      "metadata": {
        "jupyter": {
          "source_hidden": false,
          "outputs_hidden": false
        },
        "nteract": {
          "transient": {
            "deleting": false
          }
        },
        "gather": {
          "logged": 1752537531918
        }
      },
      "id": "43dd0422-3dd7-4a14-bb67-9045d17fd85f"
    },
    {
      "cell_type": "code",
      "source": [
        "#make column names consistent\n",
        "df_r2.rename(columns={'ID':'game_id'}, inplace = True)\n",
        "df_bg2.rename(columns={'id':'game_id'}, inplace = True)"
      ],
      "outputs": [
        {
          "output_type": "stream",
          "name": "stderr",
          "text": "/tmp/ipykernel_50357/865567345.py:3: SettingWithCopyWarning: \nA value is trying to be set on a copy of a slice from a DataFrame\n\nSee the caveats in the documentation: https://pandas.pydata.org/pandas-docs/stable/user_guide/indexing.html#returning-a-view-versus-a-copy\n  df_bg2.rename(columns={'id':'game_id'}, inplace = True)\n"
        }
      ],
      "execution_count": 19,
      "metadata": {
        "gather": {
          "logged": 1752537532104
        }
      },
      "id": "3c47a66d-f361-4230-ad6e-5bf281aa348a"
    },
    {
      "cell_type": "markdown",
      "source": [
        "###### Descriptions"
      ],
      "metadata": {
        "nteract": {
          "transient": {
            "deleting": false
          }
        }
      },
      "id": "9c863912-6510-4b0c-9b5d-a8851f217c73"
    },
    {
      "cell_type": "markdown",
      "source": [
        "Let's start by analyzing our raw-text descriptions. I'm curious to see the length distribution and check for anomalies:"
      ],
      "metadata": {
        "nteract": {
          "transient": {
            "deleting": false
          }
        }
      },
      "id": "d440a7cb-6460-45b7-82ab-4a62b33630e1"
    },
    {
      "cell_type": "code",
      "source": [
        "#histogram of rough word count\n",
        "df_bg2['description'].apply(lambda x: len(x.split(' '))).hist(bins=100)"
      ],
      "outputs": [
        {
          "output_type": "execute_result",
          "execution_count": 20,
          "data": {
            "text/plain": "<Axes: >"
          },
          "metadata": {}
        },
        {
          "output_type": "display_data",
          "data": {
            "text/plain": "<Figure size 640x480 with 1 Axes>",
            "image/png": "[encoded data removed]"
          },
          "metadata": {}
        }
      ],
      "execution_count": 20,
      "metadata": {
        "gather": {
          "logged": 1752537532341
        }
      },
      "id": "e03638ca-c5b1-4dd7-8181-5ac7a1d3da2f"
    },
    {
      "cell_type": "markdown",
      "source": [
        "Looks to be quite normally distributed, with descriptions tending toward a couple hundred words, skewing right with a few larger (but not outrageous) outliers. This should be suitable for a TF-IDF vectorization. Let's take a quick look at some descriptions to get a sense of what they include:"
      ],
      "metadata": {
        "nteract": {
          "transient": {
            "deleting": false
          }
        }
      },
      "id": "30bbd717-083e-4208-b059-a8e30941ff1d"
    },
    {
      "cell_type": "code",
      "source": [
        "for i in range(0, 3):\n",
        "    print(str.upper(df_bg2.sample(5, random_state=910)[['name','description']].iloc[i,0]))\n",
        "    print(df_bg2.sample(5, random_state=910)[['name','description']].iloc[i,1])"
      ],
      "outputs": [
        {
          "output_type": "stream",
          "name": "stdout",
          "text": "CARTOGRAPHERS\nQueen Gimnax has ordered the reclamation of the northern lands. As a cartographer in her service, you are sent to map this territory, claiming it for the Kingdom of Nalos. Through official edicts, the queen announces which lands she prizes most, and you will increase your reputation by meeting her demands. But you are not alone in this wilderness. The Dragul contest your claims with their outposts, so you must draw your lines carefully to reduce their influence. Reclaim the greatest share of the queen&rsquo;s desired lands and you will be declared the greatest cartographer in the kingdom.&#10;&#10;In Cartographers: A Roll Player Tale, players compete to earn the most reputation stars by the time four seasons have passed. Each season, players draw on their map sheets and earn reputation by carrying out the queen's edicts before the season is over. The player with the most reputation stars at the end of winter wins!&#10;&#10;&mdash;description from the publisher&#10;&#10;\nPARIS PARIS\nEvery year, millions of tourists visit Paris and the many attractions the city has to offer. To the joy of the Parisian business owners &ndash; represented by the players &ndash; the tourists leave a substantial amount of their vacation money in the Caf&eacute;s, Bistros, and Souvenir shops. There are five tour bus operators that offer different routes. The places where the most successful tour buses stop are great places to open businesses that cater to tourists. Then the next time the tour comes by, the owners can reap big rewards for their investments. The player who earns the most money will win the game.&#10;&#10;Expanded by:&#10;&#10;    Paris Paris: Zusatzkarten Expansion&#10;&#10;&#10;\nNO THANKS!\nNo Thanks! is a card game designed to be as simple as it is engaging.&#10;&#10;The rules are simple.  Each turn, players have two options:&#10;&#10;    play one of their chips to avoid picking up the current face-up card&#10;    pick up the face-up card (along with any chips that have already been played on that card) and turn over the next card&#10;&#10;&#10;However, the choices aren't so easy as players compete to have the lowest score at the end of the game.  The deck of cards is numbered from 3 to 35, with each card counting for a number of points equal to its face value.  Runs of two or more cards only count as the lowest value in the run - but nine cards are removed from the deck before starting, so be careful looking for connectors.  Each chip is worth -1 point, but they can be even more valuable by allowing you to avoid drawing that unwanted card.&#10;&#10;The first versions of the game supported up to five players, but the German 2011 edition supports up to seven (simply by increasing the number of chips).&#10;&#10;This game was originally published in Germany in 2004 by Amigo as Geschenkt ...ist noch zu teuer!, meaning Even given as a gift, it is still too expensive!.  Amigo's 2006 international edition, titled No Merci! (a delightful multi-lingual pun), had rules in several languages, including English. The game has subsequently been released in other countries under an assortment of names. The German 2024 edition includes additional cards to allow for play with variant rules.&#10;&#10;\n"
        }
      ],
      "execution_count": 21,
      "metadata": {
        "gather": {
          "logged": 1752537532549
        }
      },
      "id": "cd42074b-b21d-4e2f-8016-829d5a88cfb9"
    },
    {
      "cell_type": "markdown",
      "source": [
        "From this sample, we can get a sense of the thematic ideas occurring in the descriptions. My anecdotal sense is that the descriptions provide more of a \"vibe-based\" overview of the games, describing the aesthetics, style and mood rather than delving deeply into the mechanics. Therefore, a recommender based on these descriptions may help us identify whether that tends to be a deciding factor for game enjoyers (ie. games about fantastical realms or modern Europe) as opposed to functionality concerns."
      ],
      "metadata": {
        "nteract": {
          "transient": {
            "deleting": false
          }
        }
      },
      "id": "bca3dd53-0988-465a-b797-a85073b36f75"
    },
    {
      "cell_type": "markdown",
      "source": [
        "###### Categorical Features"
      ],
      "metadata": {
        "nteract": {
          "transient": {
            "deleting": false
          }
        }
      },
      "id": "6ff24914-9aa2-4819-8997-4e68c8826567"
    },
    {
      "cell_type": "markdown",
      "source": [
        "Apart from the text description, we have a number of columns that tell us valuable information about game functionality and mechanics. Let's examine them, filter down to those we expect to be predictive in some way, and re-format the data to be classifier friendly."
      ],
      "metadata": {
        "nteract": {
          "transient": {
            "deleting": false
          }
        }
      },
      "id": "4f59f094-1d2d-4fe3-ba9b-5cc6fea34bc6"
    },
    {
      "cell_type": "code",
      "source": [
        "df_bg2.columns"
      ],
      "outputs": [
        {
          "output_type": "execute_result",
          "execution_count": 22,
          "data": {
            "text/plain": "Index(['Unnamed: 0', 'type', 'game_id', 'thumbnail', 'image', 'alternate',\n       'description', 'yearpublished', 'minplayers', 'maxplayers',\n       'suggested_num_players', 'suggested_playerage',\n       'suggested_language_dependence', 'playingtime', 'minplaytime',\n       'maxplaytime', 'minage', 'boardgamecategory', 'boardgamemechanic',\n       'boardgamefamily', 'boardgameexpansion', 'boardgameaccessory',\n       'boardgamecompilation', 'boardgameimplementation', 'boardgamedesigner',\n       'boardgameartist', 'boardgamepublisher', 'usersrated', 'average',\n       'bayesaverage', 'Board Game Rank', 'Strategy Game Rank',\n       'Family Game Rank', 'stddev', 'median', 'owned', 'trading', 'wanting',\n       'wishing', 'numcomments', 'numweights', 'averageweight',\n       'boardgameintegration', 'Abstract Game Rank', 'Party Game Rank',\n       'Thematic Rank', 'War Game Rank', 'Customizable Rank',\n       'Children's Game Rank', 'RPG Item Rank', 'Accessory Rank', 'name'],\n      dtype='object')"
          },
          "metadata": {}
        }
      ],
      "execution_count": 22,
      "metadata": {
        "gather": {
          "logged": 1752537532701
        }
      },
      "id": "a6191717-6aee-4e60-b480-2f9a2a3ace65"
    },
    {
      "cell_type": "markdown",
      "source": [
        "Based on these columns, I want to focus on those describing: when the game was published, player number, player age, playing time, category, and mechanic. The rest appear to be more about how the games have been rated, and I know those contain many null values (and besides, we have much more detailed rating data in df_r2)."
      ],
      "metadata": {
        "nteract": {
          "transient": {
            "deleting": false
          }
        }
      },
      "id": "70f37c68-7562-44e0-8660-3afee6f5132f"
    },
    {
      "cell_type": "code",
      "source": [
        "#c for categorical features\n",
        "df_bg2_c = df_bg2[['game_id', 'name', 'yearpublished', 'minplayers', 'maxplayers',\n",
        "       'suggested_num_players', 'suggested_playerage','playingtime', 'minplaytime','maxplaytime', \n",
        "       'minage', 'boardgamecategory', 'boardgamemechanic']]"
      ],
      "outputs": [],
      "execution_count": 23,
      "metadata": {
        "gather": {
          "logged": 1752537532853
        }
      },
      "id": "e8ad97d3-134f-47a5-bab3-a86f26724082"
    },
    {
      "cell_type": "code",
      "source": [
        "df_bg2_c.head()"
      ],
      "outputs": [
        {
          "output_type": "execute_result",
          "execution_count": 24,
          "data": {
            "text/plain": "   game_id               name  yearpublished  minplayers  maxplayers  \\\n0       13              CATAN           1995           3           4   \n1      822        Carcassonne           2000           2           5   \n2    30549           Pandemic           2008           2           4   \n3    68448          7 Wonders           2010           2           7   \n4   167791  Terraforming Mars           2016           1           5   \n\n                               suggested_num_players  \\\n0  [{'@numplayers': '1', 'result': [{'@value': 'B...   \n1  [{'@numplayers': '1', 'result': [{'@value': 'B...   \n2  [{'@numplayers': '1', 'result': [{'@value': 'B...   \n3  [{'@numplayers': '1', 'result': [{'@value': 'B...   \n4  [{'@numplayers': '1', 'result': [{'@value': 'B...   \n\n                                 suggested_playerage  playingtime  \\\n0  [{'@value': '2', '@numvotes': '1'}, {'@value':...          120   \n1  [{'@value': '2', '@numvotes': '2'}, {'@value':...           45   \n2  [{'@value': '2', '@numvotes': '0'}, {'@value':...           45   \n3  [{'@value': '2', '@numvotes': '0'}, {'@value':...           30   \n4  [{'@value': '2', '@numvotes': '0'}, {'@value':...          120   \n\n   minplaytime  maxplaytime  minage  \\\n0           60          120      10   \n1           30           45       7   \n2           45           45       8   \n3           30           30      10   \n4          120          120      12   \n\n                                   boardgamecategory  \\\n0                        ['Economic', 'Negotiation']   \n1                 ['Medieval', 'Territory Building']   \n2                                        ['Medical']   \n3  ['Ancient', 'Card Game', 'City Building', 'Civ...   \n4  ['Economic', 'Environmental', 'Industry / Manu...   \n\n                                   boardgamemechanic  \n0  ['Chaining', 'Dice Rolling', 'Hexagon Grid', '...  \n1  ['Area Majority / Influence', 'Enclosure', 'Ma...  \n2  ['Action Points', 'Cooperative Game', 'Hand Ma...  \n3  ['Closed Drafting', 'Hand Management', 'Neighb...  \n4  ['Closed Drafting', 'Contracts', 'End Game Bon...  ",
            "text/html": "<div>\n<style scoped>\n    .dataframe tbody tr th:only-of-type {\n        vertical-align: middle;\n    }\n\n    .dataframe tbody tr th {\n        vertical-align: top;\n    }\n\n    .dataframe thead th {\n        text-align: right;\n    }\n</style>\n<table border=\"1\" class=\"dataframe\">\n  <thead>\n    <tr style=\"text-align: right;\">\n      <th></th>\n      <th>game_id</th>\n      <th>name</th>\n      <th>yearpublished</th>\n      <th>minplayers</th>\n      <th>maxplayers</th>\n      <th>suggested_num_players</th>\n      <th>suggested_playerage</th>\n      <th>playingtime</th>\n      <th>minplaytime</th>\n      <th>maxplaytime</th>\n      <th>minage</th>\n      <th>boardgamecategory</th>\n      <th>boardgamemechanic</th>\n    </tr>\n  </thead>\n  <tbody>\n    <tr>\n      <th>0</th>\n      <td>13</td>\n      <td>CATAN</td>\n      <td>1995</td>\n      <td>3</td>\n      <td>4</td>\n      <td>[{'@numplayers': '1', 'result': [{'@value': 'B...</td>\n      <td>[{'@value': '2', '@numvotes': '1'}, {'@value':...</td>\n      <td>120</td>\n      <td>60</td>\n      <td>120</td>\n      <td>10</td>\n      <td>['Economic', 'Negotiation']</td>\n      <td>['Chaining', 'Dice Rolling', 'Hexagon Grid', '...</td>\n    </tr>\n    <tr>\n      <th>1</th>\n      <td>822</td>\n      <td>Carcassonne</td>\n      <td>2000</td>\n      <td>2</td>\n      <td>5</td>\n      <td>[{'@numplayers': '1', 'result': [{'@value': 'B...</td>\n      <td>[{'@value': '2', '@numvotes': '2'}, {'@value':...</td>\n      <td>45</td>\n      <td>30</td>\n      <td>45</td>\n      <td>7</td>\n      <td>['Medieval', 'Territory Building']</td>\n      <td>['Area Majority / Influence', 'Enclosure', 'Ma...</td>\n    </tr>\n    <tr>\n      <th>2</th>\n      <td>30549</td>\n      <td>Pandemic</td>\n      <td>2008</td>\n      <td>2</td>\n      <td>4</td>\n      <td>[{'@numplayers': '1', 'result': [{'@value': 'B...</td>\n      <td>[{'@value': '2', '@numvotes': '0'}, {'@value':...</td>\n      <td>45</td>\n      <td>45</td>\n      <td>45</td>\n      <td>8</td>\n      <td>['Medical']</td>\n      <td>['Action Points', 'Cooperative Game', 'Hand Ma...</td>\n    </tr>\n    <tr>\n      <th>3</th>\n      <td>68448</td>\n      <td>7 Wonders</td>\n      <td>2010</td>\n      <td>2</td>\n      <td>7</td>\n      <td>[{'@numplayers': '1', 'result': [{'@value': 'B...</td>\n      <td>[{'@value': '2', '@numvotes': '0'}, {'@value':...</td>\n      <td>30</td>\n      <td>30</td>\n      <td>30</td>\n      <td>10</td>\n      <td>['Ancient', 'Card Game', 'City Building', 'Civ...</td>\n      <td>['Closed Drafting', 'Hand Management', 'Neighb...</td>\n    </tr>\n    <tr>\n      <th>4</th>\n      <td>167791</td>\n      <td>Terraforming Mars</td>\n      <td>2016</td>\n      <td>1</td>\n      <td>5</td>\n      <td>[{'@numplayers': '1', 'result': [{'@value': 'B...</td>\n      <td>[{'@value': '2', '@numvotes': '0'}, {'@value':...</td>\n      <td>120</td>\n      <td>120</td>\n      <td>120</td>\n      <td>12</td>\n      <td>['Economic', 'Environmental', 'Industry / Manu...</td>\n      <td>['Closed Drafting', 'Contracts', 'End Game Bon...</td>\n    </tr>\n  </tbody>\n</table>\n</div>"
          },
          "metadata": {}
        }
      ],
      "execution_count": 24,
      "metadata": {
        "jupyter": {
          "source_hidden": false,
          "outputs_hidden": false
        },
        "nteract": {
          "transient": {
            "deleting": false
          }
        },
        "gather": {
          "logged": 1752537533013
        }
      },
      "id": "6032486d-93a1-4e1b-b6d1-cbf3409c6755"
    },
    {
      "cell_type": "markdown",
      "source": [
        "Let's now go factor by factor and try to make sense of and ultimately consolidate these features."
      ],
      "metadata": {
        "nteract": {
          "transient": {
            "deleting": false
          }
        }
      },
      "id": "c172408d-8141-4759-91e2-901d34bfc451"
    },
    {
      "cell_type": "markdown",
      "source": [
        "**Publication Date**"
      ],
      "metadata": {
        "nteract": {
          "transient": {
            "deleting": false
          }
        }
      },
      "id": "fb14f31a-529d-4bad-9d9f-20da0f6fdd5c"
    },
    {
      "cell_type": "code",
      "source": [
        "df_bg2_c['yearpublished'].hist()"
      ],
      "outputs": [
        {
          "output_type": "execute_result",
          "execution_count": 25,
          "data": {
            "text/plain": "<Axes: >"
          },
          "metadata": {}
        },
        {
          "output_type": "display_data",
          "data": {
            "text/plain": "<Figure size 640x480 with 1 Axes>",
            "image/png": "[encoded data removed]"
          },
          "metadata": {}
        }
      ],
      "execution_count": 25,
      "metadata": {
        "gather": {
          "logged": 1752537533216
        }
      },
      "id": "db2a5cc5-07b8-4704-aba3-c8085918c064"
    },
    {
      "cell_type": "markdown",
      "source": [
        "Yikes! I was expecting to get a few decades in here, but it looks like we have a number of ancient games throwing off the distribution. Let's take a look:"
      ],
      "metadata": {
        "nteract": {
          "transient": {
            "deleting": false
          }
        }
      },
      "id": "a73f9a79-19a0-4163-97fe-99228dc766f8"
    },
    {
      "cell_type": "code",
      "source": [
        "df_bg2_c.sort_values(by='yearpublished').head(20)"
      ],
      "outputs": [
        {
          "output_type": "execute_result",
          "execution_count": 26,
          "data": {
            "text/plain": "      game_id                    name  yearpublished  minplayers  maxplayers  \\\n4210     2399                   Senet          -3500           2           2   \n254       188                      Go          -2200           2           2   \n2528     3886       Nine Men's Morris          -1400           2           2   \n1192    11901             Tic-Tac-Toe          -1300           2           2   \n999      5432      Chutes and Ladders           -200           2           6   \n2566    30618        Eat Poop You Cat              0           3          99   \n3244    11017            Crazy Eights              0           2           5   \n2541    16398                     War              0           2           2   \n2286     7682                 Go Fish              0           2           6   \n3309    21804  Traditional Card Games              0           0           0   \n3558    18291   Unpublished Prototype              0           0           0   \n2325     5072                  Carrom              0           2           4   \n2544     2932               Hnefatafl            400           2           2   \n848      2136                 Pachisi            400           2           6   \n661      2448                   Kalah            700           2           2   \n2076     2393                 Xiangqi            762           2           2   \n540      2083                Checkers           1150           2           2   \n3890     4505                   Tarot           1425           2           8   \n70        171                   Chess           1475           2           2   \n656      2394                Dominoes           1500           2          10   \n\n                                  suggested_num_players  \\\n4210  [{'@numplayers': '1', 'result': [{'@value': 'B...   \n254   [{'@numplayers': '1', 'result': [{'@value': 'B...   \n2528  [{'@numplayers': '1', 'result': [{'@value': 'B...   \n1192  [{'@numplayers': '1', 'result': [{'@value': 'B...   \n999   [{'@numplayers': '1', 'result': [{'@value': 'B...   \n2566  [{'@numplayers': '1', 'result': [{'@value': 'B...   \n3244  [{'@numplayers': '1', 'result': [{'@value': 'B...   \n2541  [{'@numplayers': '1', 'result': [{'@value': 'B...   \n2286  [{'@numplayers': '1', 'result': [{'@value': 'B...   \n3309  {'@numplayers': '0+', 'result': [{'@value': 'B...   \n3558  {'@numplayers': '0+', 'result': [{'@value': 'B...   \n2325  [{'@numplayers': '1', 'result': [{'@value': 'B...   \n2544  [{'@numplayers': '1', 'result': [{'@value': 'B...   \n848   [{'@numplayers': '1', 'result': [{'@value': 'B...   \n661   [{'@numplayers': '1', 'result': [{'@value': 'B...   \n2076  [{'@numplayers': '1', 'result': [{'@value': 'B...   \n540   [{'@numplayers': '1', 'result': [{'@value': 'B...   \n3890  [{'@numplayers': '1', 'result': [{'@value': 'B...   \n70    [{'@numplayers': '1', 'result': [{'@value': 'B...   \n656   [{'@numplayers': '1', 'result': [{'@value': 'B...   \n\n                                    suggested_playerage  playingtime  \\\n4210  [{'@value': '2', '@numvotes': '0'}, {'@value':...           30   \n254   [{'@value': '2', '@numvotes': '3'}, {'@value':...          180   \n2528  [{'@value': '2', '@numvotes': '0'}, {'@value':...           20   \n1192  [{'@value': '2', '@numvotes': '7'}, {'@value':...            1   \n999   [{'@value': '2', '@numvotes': '5'}, {'@value':...           30   \n2566  [{'@value': '2', '@numvotes': '0'}, {'@value':...           20   \n3244  [{'@value': '2', '@numvotes': '1'}, {'@value':...           20   \n2541  [{'@value': '2', '@numvotes': '0'}, {'@value':...           30   \n2286  [{'@value': '2', '@numvotes': '0'}, {'@value':...           20   \n3309  [{'@value': '2', '@numvotes': '1'}, {'@value':...            0   \n3558  [{'@value': '2', '@numvotes': '6'}, {'@value':...            0   \n2325  [{'@value': '2', '@numvotes': '0'}, {'@value':...           60   \n2544  [{'@value': '2', '@numvotes': '0'}, {'@value':...           20   \n848   [{'@value': '2', '@numvotes': '0'}, {'@value':...           30   \n661   [{'@value': '2', '@numvotes': '0'}, {'@value':...           10   \n2076  [{'@value': '2', '@numvotes': '0'}, {'@value':...           60   \n540   [{'@value': '2', '@numvotes': '0'}, {'@value':...           30   \n3890  [{'@value': '2', '@numvotes': '0'}, {'@value':...           30   \n70    [{'@value': '2', '@numvotes': '3'}, {'@value':...            0   \n656   [{'@value': '2', '@numvotes': '0'}, {'@value':...           30   \n\n      minplaytime  maxplaytime  minage  \\\n4210           30           30       6   \n254            30          180       8   \n2528           20           20       6   \n1192            1            1       4   \n999            30           30       3   \n2566           20           20       0   \n3244           20           20       4   \n2541           30           30       4   \n2286           20           20       4   \n3309            0            0       0   \n3558            0            0       0   \n2325           60           60       6   \n2544           20           20       7   \n848            30           30       5   \n661            10           10       5   \n2076           60           60       8   \n540            30           30       6   \n3890           30           30      12   \n70              0            0       6   \n656            30           30       5   \n\n                                      boardgamecategory  \\\n4210                 ['Abstract Strategy', 'Religious']   \n254                               ['Abstract Strategy']   \n2528                              ['Abstract Strategy']   \n1192           ['Abstract Strategy', \"Children's Game\"]   \n999   ['Animals', \"Children's Game\", 'Movies / TV / ...   \n2566                            ['Humor', 'Party Game']   \n3244         ['Card Game', \"Children's Game\", 'Number']   \n2541                   ['Card Game', \"Children's Game\"]   \n2286  ['Card Game', \"Children's Game\", 'Deduction', ...   \n3309                       ['Card Game', 'Game System']   \n3558                                                NaN   \n2325                             ['Action / Dexterity']   \n2544                   ['Abstract Strategy', 'Ancient']   \n848                                 [\"Children's Game\"]   \n661                               ['Abstract Strategy']   \n2076                              ['Abstract Strategy']   \n540         ['Abstract Strategy', 'Comic Book / Strip']   \n3890           ['Bluffing', 'Card Game', 'Game System']   \n70                                ['Abstract Strategy']   \n656                ['Abstract Strategy', 'Game System']   \n\n                                      boardgamemechanic  \n4210           ['Dice Rolling', 'Roll / Spin and Move']  \n254   ['Chaining', 'Enclosure', 'Pattern Building', ...  \n2528    ['Pattern Building', 'Point to Point Movement']  \n1192  ['Paper-and-Pencil', 'Pattern Building', 'Squa...  \n999   ['Events', 'Race', 'Roll / Spin and Move', 'Tr...  \n2566                    ['Drawing', 'Paper-and-Pencil']  \n3244                    ['Hand Management', 'Matching']  \n2541                                                NaN  \n2286                       ['Memory', 'Set Collection']  \n3309                                                NaN  \n3558                                                NaN  \n2325                    ['Flicking', 'Team-Based Game']  \n2544  ['Grid Movement', 'Square Grid', 'Variable Pla...  \n848   ['Dice Rolling', 'Race', 'Roll / Spin and Move...  \n661                                         ['Mancala']  \n2076                                  ['Grid Movement']  \n540   ['Grid Movement', 'Pattern Movement', 'Square ...  \n3890  ['Auction / Bidding', 'Team-Based Game', 'Tric...  \n70    ['Grid Movement', 'Once-Per-Game Abilities', '...  \n656   ['Pattern Building', 'Pattern Recognition', 'T...  ",
            "text/html": "<div>\n<style scoped>\n    .dataframe tbody tr th:only-of-type {\n        vertical-align: middle;\n    }\n\n    .dataframe tbody tr th {\n        vertical-align: top;\n    }\n\n    .dataframe thead th {\n        text-align: right;\n    }\n</style>\n<table border=\"1\" class=\"dataframe\">\n  <thead>\n    <tr style=\"text-align: right;\">\n      <th></th>\n      <th>game_id</th>\n      <th>name</th>\n      <th>yearpublished</th>\n      <th>minplayers</th>\n      <th>maxplayers</th>\n      <th>suggested_num_players</th>\n      <th>suggested_playerage</th>\n      <th>playingtime</th>\n      <th>minplaytime</th>\n      <th>maxplaytime</th>\n      <th>minage</th>\n      <th>boardgamecategory</th>\n      <th>boardgamemechanic</th>\n    </tr>\n  </thead>\n  <tbody>\n    <tr>\n      <th>4210</th>\n      <td>2399</td>\n      <td>Senet</td>\n      <td>-3500</td>\n      <td>2</td>\n      <td>2</td>\n      <td>[{'@numplayers': '1', 'result': [{'@value': 'B...</td>\n      <td>[{'@value': '2', '@numvotes': '0'}, {'@value':...</td>\n      <td>30</td>\n      <td>30</td>\n      <td>30</td>\n      <td>6</td>\n      <td>['Abstract Strategy', 'Religious']</td>\n      <td>['Dice Rolling', 'Roll / Spin and Move']</td>\n    </tr>\n    <tr>\n      <th>254</th>\n      <td>188</td>\n      <td>Go</td>\n      <td>-2200</td>\n      <td>2</td>\n      <td>2</td>\n      <td>[{'@numplayers': '1', 'result': [{'@value': 'B...</td>\n      <td>[{'@value': '2', '@numvotes': '3'}, {'@value':...</td>\n      <td>180</td>\n      <td>30</td>\n      <td>180</td>\n      <td>8</td>\n      <td>['Abstract Strategy']</td>\n      <td>['Chaining', 'Enclosure', 'Pattern Building', ...</td>\n    </tr>\n    <tr>\n      <th>2528</th>\n      <td>3886</td>\n      <td>Nine Men's Morris</td>\n      <td>-1400</td>\n      <td>2</td>\n      <td>2</td>\n      <td>[{'@numplayers': '1', 'result': [{'@value': 'B...</td>\n      <td>[{'@value': '2', '@numvotes': '0'}, {'@value':...</td>\n      <td>20</td>\n      <td>20</td>\n      <td>20</td>\n      <td>6</td>\n      <td>['Abstract Strategy']</td>\n      <td>['Pattern Building', 'Point to Point Movement']</td>\n    </tr>\n    <tr>\n      <th>1192</th>\n      <td>11901</td>\n      <td>Tic-Tac-Toe</td>\n      <td>-1300</td>\n      <td>2</td>\n      <td>2</td>\n      <td>[{'@numplayers': '1', 'result': [{'@value': 'B...</td>\n      <td>[{'@value': '2', '@numvotes': '7'}, {'@value':...</td>\n      <td>1</td>\n      <td>1</td>\n      <td>1</td>\n      <td>4</td>\n      <td>['Abstract Strategy', \"Children's Game\"]</td>\n      <td>['Paper-and-Pencil', 'Pattern Building', 'Squa...</td>\n    </tr>\n    <tr>\n      <th>999</th>\n      <td>5432</td>\n      <td>Chutes and Ladders</td>\n      <td>-200</td>\n      <td>2</td>\n      <td>6</td>\n      <td>[{'@numplayers': '1', 'result': [{'@value': 'B...</td>\n      <td>[{'@value': '2', '@numvotes': '5'}, {'@value':...</td>\n      <td>30</td>\n      <td>30</td>\n      <td>30</td>\n      <td>3</td>\n      <td>['Animals', \"Children's Game\", 'Movies / TV / ...</td>\n      <td>['Events', 'Race', 'Roll / Spin and Move', 'Tr...</td>\n    </tr>\n    <tr>\n      <th>2566</th>\n      <td>30618</td>\n      <td>Eat Poop You Cat</td>\n      <td>0</td>\n      <td>3</td>\n      <td>99</td>\n      <td>[{'@numplayers': '1', 'result': [{'@value': 'B...</td>\n      <td>[{'@value': '2', '@numvotes': '0'}, {'@value':...</td>\n      <td>20</td>\n      <td>20</td>\n      <td>20</td>\n      <td>0</td>\n      <td>['Humor', 'Party Game']</td>\n      <td>['Drawing', 'Paper-and-Pencil']</td>\n    </tr>\n    <tr>\n      <th>3244</th>\n      <td>11017</td>\n      <td>Crazy Eights</td>\n      <td>0</td>\n      <td>2</td>\n      <td>5</td>\n      <td>[{'@numplayers': '1', 'result': [{'@value': 'B...</td>\n      <td>[{'@value': '2', '@numvotes': '1'}, {'@value':...</td>\n      <td>20</td>\n      <td>20</td>\n      <td>20</td>\n      <td>4</td>\n      <td>['Card Game', \"Children's Game\", 'Number']</td>\n      <td>['Hand Management', 'Matching']</td>\n    </tr>\n    <tr>\n      <th>2541</th>\n      <td>16398</td>\n      <td>War</td>\n      <td>0</td>\n      <td>2</td>\n      <td>2</td>\n      <td>[{'@numplayers': '1', 'result': [{'@value': 'B...</td>\n      <td>[{'@value': '2', '@numvotes': '0'}, {'@value':...</td>\n      <td>30</td>\n      <td>30</td>\n      <td>30</td>\n      <td>4</td>\n      <td>['Card Game', \"Children's Game\"]</td>\n      <td>NaN</td>\n    </tr>\n    <tr>\n      <th>2286</th>\n      <td>7682</td>\n      <td>Go Fish</td>\n      <td>0</td>\n      <td>2</td>\n      <td>6</td>\n      <td>[{'@numplayers': '1', 'result': [{'@value': 'B...</td>\n      <td>[{'@value': '2', '@numvotes': '0'}, {'@value':...</td>\n      <td>20</td>\n      <td>20</td>\n      <td>20</td>\n      <td>4</td>\n      <td>['Card Game', \"Children's Game\", 'Deduction', ...</td>\n      <td>['Memory', 'Set Collection']</td>\n    </tr>\n    <tr>\n      <th>3309</th>\n      <td>21804</td>\n      <td>Traditional Card Games</td>\n      <td>0</td>\n      <td>0</td>\n      <td>0</td>\n      <td>{'@numplayers': '0+', 'result': [{'@value': 'B...</td>\n      <td>[{'@value': '2', '@numvotes': '1'}, {'@value':...</td>\n      <td>0</td>\n      <td>0</td>\n      <td>0</td>\n      <td>0</td>\n      <td>['Card Game', 'Game System']</td>\n      <td>NaN</td>\n    </tr>\n    <tr>\n      <th>3558</th>\n      <td>18291</td>\n      <td>Unpublished Prototype</td>\n      <td>0</td>\n      <td>0</td>\n      <td>0</td>\n      <td>{'@numplayers': '0+', 'result': [{'@value': 'B...</td>\n      <td>[{'@value': '2', '@numvotes': '6'}, {'@value':...</td>\n      <td>0</td>\n      <td>0</td>\n      <td>0</td>\n      <td>0</td>\n      <td>NaN</td>\n      <td>NaN</td>\n    </tr>\n    <tr>\n      <th>2325</th>\n      <td>5072</td>\n      <td>Carrom</td>\n      <td>0</td>\n      <td>2</td>\n      <td>4</td>\n      <td>[{'@numplayers': '1', 'result': [{'@value': 'B...</td>\n      <td>[{'@value': '2', '@numvotes': '0'}, {'@value':...</td>\n      <td>60</td>\n      <td>60</td>\n      <td>60</td>\n      <td>6</td>\n      <td>['Action / Dexterity']</td>\n      <td>['Flicking', 'Team-Based Game']</td>\n    </tr>\n    <tr>\n      <th>2544</th>\n      <td>2932</td>\n      <td>Hnefatafl</td>\n      <td>400</td>\n      <td>2</td>\n      <td>2</td>\n      <td>[{'@numplayers': '1', 'result': [{'@value': 'B...</td>\n      <td>[{'@value': '2', '@numvotes': '0'}, {'@value':...</td>\n      <td>20</td>\n      <td>20</td>\n      <td>20</td>\n      <td>7</td>\n      <td>['Abstract Strategy', 'Ancient']</td>\n      <td>['Grid Movement', 'Square Grid', 'Variable Pla...</td>\n    </tr>\n    <tr>\n      <th>848</th>\n      <td>2136</td>\n      <td>Pachisi</td>\n      <td>400</td>\n      <td>2</td>\n      <td>6</td>\n      <td>[{'@numplayers': '1', 'result': [{'@value': 'B...</td>\n      <td>[{'@value': '2', '@numvotes': '0'}, {'@value':...</td>\n      <td>30</td>\n      <td>30</td>\n      <td>30</td>\n      <td>5</td>\n      <td>[\"Children's Game\"]</td>\n      <td>['Dice Rolling', 'Race', 'Roll / Spin and Move...</td>\n    </tr>\n    <tr>\n      <th>661</th>\n      <td>2448</td>\n      <td>Kalah</td>\n      <td>700</td>\n      <td>2</td>\n      <td>2</td>\n      <td>[{'@numplayers': '1', 'result': [{'@value': 'B...</td>\n      <td>[{'@value': '2', '@numvotes': '0'}, {'@value':...</td>\n      <td>10</td>\n      <td>10</td>\n      <td>10</td>\n      <td>5</td>\n      <td>['Abstract Strategy']</td>\n      <td>['Mancala']</td>\n    </tr>\n    <tr>\n      <th>2076</th>\n      <td>2393</td>\n      <td>Xiangqi</td>\n      <td>762</td>\n      <td>2</td>\n      <td>2</td>\n      <td>[{'@numplayers': '1', 'result': [{'@value': 'B...</td>\n      <td>[{'@value': '2', '@numvotes': '0'}, {'@value':...</td>\n      <td>60</td>\n      <td>60</td>\n      <td>60</td>\n      <td>8</td>\n      <td>['Abstract Strategy']</td>\n      <td>['Grid Movement']</td>\n    </tr>\n    <tr>\n      <th>540</th>\n      <td>2083</td>\n      <td>Checkers</td>\n      <td>1150</td>\n      <td>2</td>\n      <td>2</td>\n      <td>[{'@numplayers': '1', 'result': [{'@value': 'B...</td>\n      <td>[{'@value': '2', '@numvotes': '0'}, {'@value':...</td>\n      <td>30</td>\n      <td>30</td>\n      <td>30</td>\n      <td>6</td>\n      <td>['Abstract Strategy', 'Comic Book / Strip']</td>\n      <td>['Grid Movement', 'Pattern Movement', 'Square ...</td>\n    </tr>\n    <tr>\n      <th>3890</th>\n      <td>4505</td>\n      <td>Tarot</td>\n      <td>1425</td>\n      <td>2</td>\n      <td>8</td>\n      <td>[{'@numplayers': '1', 'result': [{'@value': 'B...</td>\n      <td>[{'@value': '2', '@numvotes': '0'}, {'@value':...</td>\n      <td>30</td>\n      <td>30</td>\n      <td>30</td>\n      <td>12</td>\n      <td>['Bluffing', 'Card Game', 'Game System']</td>\n      <td>['Auction / Bidding', 'Team-Based Game', 'Tric...</td>\n    </tr>\n    <tr>\n      <th>70</th>\n      <td>171</td>\n      <td>Chess</td>\n      <td>1475</td>\n      <td>2</td>\n      <td>2</td>\n      <td>[{'@numplayers': '1', 'result': [{'@value': 'B...</td>\n      <td>[{'@value': '2', '@numvotes': '3'}, {'@value':...</td>\n      <td>0</td>\n      <td>0</td>\n      <td>0</td>\n      <td>6</td>\n      <td>['Abstract Strategy']</td>\n      <td>['Grid Movement', 'Once-Per-Game Abilities', '...</td>\n    </tr>\n    <tr>\n      <th>656</th>\n      <td>2394</td>\n      <td>Dominoes</td>\n      <td>1500</td>\n      <td>2</td>\n      <td>10</td>\n      <td>[{'@numplayers': '1', 'result': [{'@value': 'B...</td>\n      <td>[{'@value': '2', '@numvotes': '0'}, {'@value':...</td>\n      <td>30</td>\n      <td>30</td>\n      <td>30</td>\n      <td>5</td>\n      <td>['Abstract Strategy', 'Game System']</td>\n      <td>['Pattern Building', 'Pattern Recognition', 'T...</td>\n    </tr>\n  </tbody>\n</table>\n</div>"
          },
          "metadata": {}
        }
      ],
      "execution_count": 26,
      "metadata": {
        "gather": {
          "logged": 1752537533641
        }
      },
      "id": "866ad564-ef02-4871-860e-7e593c6b7f44"
    },
    {
      "cell_type": "markdown",
      "source": [
        "Let's make pre-1900 its own category, then otherwise class games by their decade:"
      ],
      "metadata": {
        "nteract": {
          "transient": {
            "deleting": false
          }
        }
      },
      "id": "4736fd6f-e3a0-4692-b163-5008132b5c1b"
    },
    {
      "cell_type": "code",
      "source": [
        "def return_decade(yearpublished):\n",
        "    '''returns lowest multiple of 10, or 1900 if prior to. Value returned as string\n",
        "    to ensure treated as category rather than numerical val'''\n",
        "    if yearpublished < 1900:\n",
        "        return \"pre_1900\"\n",
        "    else:\n",
        "        return str((yearpublished // 10) * 10)+'s'"
      ],
      "outputs": [],
      "execution_count": 27,
      "metadata": {
        "gather": {
          "logged": 1752537533900
        }
      },
      "id": "fca51f2f-c727-43d1-acb3-25511b24a82a"
    },
    {
      "cell_type": "code",
      "source": [
        "df_bg2_c['yearpublished'] = df_bg2_c['yearpublished'].apply(return_decade)"
      ],
      "outputs": [
        {
          "output_type": "stream",
          "name": "stderr",
          "text": "/tmp/ipykernel_50357/1125526808.py:1: SettingWithCopyWarning: \nA value is trying to be set on a copy of a slice from a DataFrame.\nTry using .loc[row_indexer,col_indexer] = value instead\n\nSee the caveats in the documentation: https://pandas.pydata.org/pandas-docs/stable/user_guide/indexing.html#returning-a-view-versus-a-copy\n  df_bg2_c['yearpublished'] = df_bg2_c['yearpublished'].apply(return_decade)\n"
        }
      ],
      "execution_count": 28,
      "metadata": {
        "jupyter": {
          "source_hidden": false,
          "outputs_hidden": false
        },
        "nteract": {
          "transient": {
            "deleting": false
          }
        },
        "gather": {
          "logged": 1752537534076
        }
      },
      "id": "7cfff573-0160-48b7-860b-8f7c4037ec70"
    },
    {
      "cell_type": "code",
      "source": [
        "df_bg2_c['yearpublished'].value_counts()"
      ],
      "outputs": [
        {
          "output_type": "execute_result",
          "execution_count": 29,
          "data": {
            "text/plain": "2010s       1964\n2000s        958\n1990s        276\n1980s        114\n1970s         67\npre_1900      45\n1960s         31\n1950s          8\n1940s          8\n2020s          7\n1930s          6\n1900s          3\n1920s          3\nName: yearpublished, dtype: int64"
          },
          "metadata": {}
        }
      ],
      "execution_count": 29,
      "metadata": {
        "gather": {
          "logged": 1752537534246
        }
      },
      "id": "258bb89b-bf17-4d90-953b-12afd3b421e1"
    },
    {
      "cell_type": "markdown",
      "source": [
        "For size reasons, let's reduce these values one more time:"
      ],
      "metadata": {
        "nteract": {
          "transient": {
            "deleting": false
          }
        }
      },
      "id": "c979265f-11ad-4982-aaa3-c151dbaf052a"
    },
    {
      "cell_type": "code",
      "source": [
        "def final_filter_year(year_cat):\n",
        "    '''An additional layer of filtering for year categories to reduce count'''\n",
        "    if year_cat in ['2010s', '2020s']:\n",
        "        return '2010s_20s'\n",
        "    elif year_cat in ['1980s','1990s']:\n",
        "        return '1980s_90s'\n",
        "    elif year_cat in ['1960s','1970s']:\n",
        "        return '1960s_70s'\n",
        "    elif year_cat in ['1900s','1910s','1920s','1930s','1940s','1950s']:\n",
        "        return 'early_through_mid_1900s'\n",
        "    else:\n",
        "        return year_cat"
      ],
      "outputs": [],
      "execution_count": 30,
      "metadata": {
        "gather": {
          "logged": 1752537534414
        }
      },
      "id": "9d0d04b1-6550-40ff-83d9-fcc552debcd6"
    },
    {
      "cell_type": "code",
      "source": [
        "df_bg2_c['yearpublished'] = df_bg2_c['yearpublished'].apply(final_filter_year)"
      ],
      "outputs": [
        {
          "output_type": "stream",
          "name": "stderr",
          "text": "/tmp/ipykernel_50357/2918233092.py:1: SettingWithCopyWarning: \nA value is trying to be set on a copy of a slice from a DataFrame.\nTry using .loc[row_indexer,col_indexer] = value instead\n\nSee the caveats in the documentation: https://pandas.pydata.org/pandas-docs/stable/user_guide/indexing.html#returning-a-view-versus-a-copy\n  df_bg2_c['yearpublished'] = df_bg2_c['yearpublished'].apply(final_filter_year)\n"
        }
      ],
      "execution_count": 31,
      "metadata": {
        "gather": {
          "logged": 1752537534583
        }
      },
      "id": "818dc876-2e3c-47ba-b75c-d134b4e7e437"
    },
    {
      "cell_type": "markdown",
      "source": [
        "**Player Count**"
      ],
      "metadata": {
        "nteract": {
          "transient": {
            "deleting": false
          }
        }
      },
      "id": "134625e7-f7b0-4087-91b3-c95c38ef7600"
    },
    {
      "cell_type": "markdown",
      "source": [
        "Based on my domain knowledge of board games, I anticipate they should be judged not on a subjective sense of the 'best' number of players for the game, but whether it is possible to play with x players. Therefore, I'll convert the min and max columns into a list of the range of possibilities for each game. That way, each *possible* player count becomes a feature in my final data."
      ],
      "metadata": {
        "nteract": {
          "transient": {
            "deleting": false
          }
        }
      },
      "id": "7d56cf63-1f18-46ff-b790-6e527d2f2bb9"
    },
    {
      "cell_type": "code",
      "source": [
        "df_bg['maxplayers'].value_counts().sort_index(ascending=False)"
      ],
      "outputs": [
        {
          "output_type": "execute_result",
          "execution_count": 32,
          "data": {
            "text/plain": "999       2\n362       1\n163       1\n127       1\n120       1\n100      31\n99      288\n80        1\n75        1\n69        2\n68        1\n64        1\n60        1\n52        2\n50        9\n48        1\n45        1\n44        1\n42        1\n41        1\n40        7\n38        1\n36       15\n34        1\n33        2\n32        5\n31        1\n30       20\n28        2\n26        1\n25        3\n24       22\n23        2\n22        7\n21        4\n20       94\n18       11\n17        6\n16       76\n15       55\n14       15\n13       10\n12      301\n11       17\n10      523\n9       101\n8      1525\n7       388\n6      4968\n5      3874\n4      8966\n3       360\n2      5272\n1       603\n0       174\nName: maxplayers, dtype: int64"
          },
          "metadata": {}
        }
      ],
      "execution_count": 32,
      "metadata": {
        "gather": {
          "logged": 1752537534781
        }
      },
      "id": "87ae4184-9fae-415c-93cb-271abcbaf4c7"
    },
    {
      "cell_type": "markdown",
      "source": [
        "The long tail above 8 players could add noise to my data, so I'll cap it there and make a \"more than 8\" category to account for the rest."
      ],
      "metadata": {
        "nteract": {
          "transient": {
            "deleting": false
          }
        }
      },
      "id": "3ed7c51a-1a7f-49cc-8c89-c1c3aa53968c"
    },
    {
      "cell_type": "code",
      "source": [
        "df_bg2_c['maxplayers'] = df_bg2_c['maxplayers'].apply(lambda x: min(x, 9))"
      ],
      "outputs": [
        {
          "output_type": "stream",
          "name": "stderr",
          "text": "/tmp/ipykernel_50357/2545089138.py:1: SettingWithCopyWarning: \nA value is trying to be set on a copy of a slice from a DataFrame.\nTry using .loc[row_indexer,col_indexer] = value instead\n\nSee the caveats in the documentation: https://pandas.pydata.org/pandas-docs/stable/user_guide/indexing.html#returning-a-view-versus-a-copy\n  df_bg2_c['maxplayers'] = df_bg2_c['maxplayers'].apply(lambda x: min(x, 9))\n"
        }
      ],
      "execution_count": 33,
      "metadata": {
        "gather": {
          "logged": 1752537534949
        }
      },
      "id": "a70450de-ba8e-42b9-ac2c-a3bad9fee1cd"
    },
    {
      "cell_type": "code",
      "source": [
        "df_bg2_c['player_range'] = df_bg2_c.apply(\n",
        "    lambda row: list(range(row['minplayers'], row['maxplayers'] + 1)),\n",
        "    axis=1)"
      ],
      "outputs": [
        {
          "output_type": "stream",
          "name": "stderr",
          "text": "/tmp/ipykernel_50357/1532400796.py:1: SettingWithCopyWarning: \nA value is trying to be set on a copy of a slice from a DataFrame.\nTry using .loc[row_indexer,col_indexer] = value instead\n\nSee the caveats in the documentation: https://pandas.pydata.org/pandas-docs/stable/user_guide/indexing.html#returning-a-view-versus-a-copy\n  df_bg2_c['player_range'] = df_bg2_c.apply(\n"
        }
      ],
      "execution_count": 34,
      "metadata": {
        "gather": {
          "logged": 1752537535116
        }
      },
      "id": "6299d13c-0e10-4cdf-ab15-c755144484da"
    },
    {
      "cell_type": "code",
      "source": [
        "df_bg2_c.drop(columns=['minplayers','maxplayers','suggested_num_players'],\n",
        "                        inplace=True)"
      ],
      "outputs": [
        {
          "output_type": "stream",
          "name": "stderr",
          "text": "/tmp/ipykernel_50357/3724207813.py:1: SettingWithCopyWarning: \nA value is trying to be set on a copy of a slice from a DataFrame\n\nSee the caveats in the documentation: https://pandas.pydata.org/pandas-docs/stable/user_guide/indexing.html#returning-a-view-versus-a-copy\n  df_bg2_c.drop(columns=['minplayers','maxplayers','suggested_num_players'],\n"
        }
      ],
      "execution_count": 35,
      "metadata": {
        "gather": {
          "logged": 1752537535287
        }
      },
      "id": "6f195bb9-2dc1-4fc6-9a86-2f318dd58d62"
    },
    {
      "cell_type": "code",
      "source": [
        "df_bg2_c['player_range'] = df_bg2_c['player_range'].apply(lambda lst: [\"more_than_8\" if x == 9 else str(x) for x in lst])"
      ],
      "outputs": [
        {
          "output_type": "stream",
          "name": "stderr",
          "text": "/tmp/ipykernel_50357/601768594.py:1: SettingWithCopyWarning: \nA value is trying to be set on a copy of a slice from a DataFrame.\nTry using .loc[row_indexer,col_indexer] = value instead\n\nSee the caveats in the documentation: https://pandas.pydata.org/pandas-docs/stable/user_guide/indexing.html#returning-a-view-versus-a-copy\n  df_bg2_c['player_range'] = df_bg2_c['player_range'].apply(lambda lst: [\"more_than_8\" if x == 9 else str(x) for x in lst])\n"
        }
      ],
      "execution_count": 36,
      "metadata": {
        "gather": {
          "logged": 1752537535448
        }
      },
      "id": "0a541597-f24f-47cf-acf4-f6dfcfd43790"
    },
    {
      "cell_type": "markdown",
      "source": [
        "**Player Age Group**"
      ],
      "metadata": {
        "nteract": {
          "transient": {
            "deleting": false
          }
        }
      },
      "id": "8d307dd7-6caf-462d-a619-784b0825c96a"
    },
    {
      "cell_type": "code",
      "source": [
        "df_bg2_c['minage'].value_counts().sort_index()"
      ],
      "outputs": [
        {
          "output_type": "execute_result",
          "execution_count": 37,
          "data": {
            "text/plain": "0      20\n2       1\n3      10\n4      28\n5      25\n6      80\n7      94\n8     714\n9      67\n10    834\n11     15\n12    774\n13    321\n14    451\n15     21\n16     15\n17     11\n18      9\nName: minage, dtype: int64"
          },
          "metadata": {}
        }
      ],
      "execution_count": 37,
      "metadata": {
        "gather": {
          "logged": 1752537535624
        }
      },
      "id": "192ae868-b54a-4a47-8205-8eee0718a747"
    },
    {
      "cell_type": "markdown",
      "source": [
        "Once again relying on the developers, I can see that the minimum age maps pretty neatly into three categories: 8 and below, 9 to 12, and 13 and up. While these figures skew younger than the probable player bases, the idea is that they speak to a maturity needed for playing (ie. 13+ games are not only for teenagers, just as PG-13 movies are enjoyed by many adults). I'll re-do the categories accordingly."
      ],
      "metadata": {
        "nteract": {
          "transient": {
            "deleting": false
          }
        }
      },
      "id": "b4f7ca0b-22cf-4d29-b1a0-ee2cddd7e156"
    },
    {
      "cell_type": "code",
      "source": [
        "def set_age_category(minage):\n",
        "    '''Convert minimum age provided by developer to minage_cat string val'''\n",
        "    if minage <=8:\n",
        "        return 'less_than_8'\n",
        "    elif minage <=12:\n",
        "        return '9_to_12'\n",
        "    else:\n",
        "        return '13_and_up'"
      ],
      "outputs": [],
      "execution_count": 38,
      "metadata": {
        "gather": {
          "logged": 1752537535784
        }
      },
      "id": "1996da57-3ad9-48e4-a4a8-69059b539735"
    },
    {
      "cell_type": "code",
      "source": [
        "df_bg2_c['min_age_range'] = df_bg2_c['minage'].apply(set_age_category)"
      ],
      "outputs": [
        {
          "output_type": "stream",
          "name": "stderr",
          "text": "/tmp/ipykernel_50357/2074010653.py:1: SettingWithCopyWarning: \nA value is trying to be set on a copy of a slice from a DataFrame.\nTry using .loc[row_indexer,col_indexer] = value instead\n\nSee the caveats in the documentation: https://pandas.pydata.org/pandas-docs/stable/user_guide/indexing.html#returning-a-view-versus-a-copy\n  df_bg2_c['min_age_range'] = df_bg2_c['minage'].apply(set_age_category)\n"
        }
      ],
      "execution_count": 39,
      "metadata": {
        "gather": {
          "logged": 1752537535956
        }
      },
      "id": "d84bc0b2-845a-4752-ad15-033ee341fe16"
    },
    {
      "cell_type": "code",
      "source": [
        "df_bg2_c.drop(columns=['suggested_playerage','minage'], inplace=True)"
      ],
      "outputs": [
        {
          "output_type": "stream",
          "name": "stderr",
          "text": "/tmp/ipykernel_50357/4127716041.py:1: SettingWithCopyWarning: \nA value is trying to be set on a copy of a slice from a DataFrame\n\nSee the caveats in the documentation: https://pandas.pydata.org/pandas-docs/stable/user_guide/indexing.html#returning-a-view-versus-a-copy\n  df_bg2_c.drop(columns=['suggested_playerage','minage'], inplace=True)\n"
        }
      ],
      "execution_count": 40,
      "metadata": {
        "gather": {
          "logged": 1752537536126
        }
      },
      "id": "1af6d7a8-b2c4-4403-a385-aae462e0ec63"
    },
    {
      "cell_type": "markdown",
      "source": [],
      "metadata": {
        "nteract": {
          "transient": {
            "deleting": false
          }
        }
      },
      "id": "76b78cc0-db75-4726-bc0f-1649b6f32e63"
    },
    {
      "cell_type": "markdown",
      "source": [
        "**Playing Time**"
      ],
      "metadata": {
        "nteract": {
          "transient": {
            "deleting": false
          }
        }
      },
      "id": "f3b29704-eb75-42d0-affd-d07bd63ac913"
    },
    {
      "cell_type": "markdown",
      "source": [
        "We have three columns for playing time: playingtime, minplaytime, and maxplaytime. It appears playingtime is simply the same as the max "
      ],
      "metadata": {
        "nteract": {
          "transient": {
            "deleting": false
          }
        }
      },
      "id": "1a7ed73e-4d5f-4ef0-8afd-1586a6529e75"
    },
    {
      "cell_type": "code",
      "source": [
        "(df_bg2_c['playingtime'] == df_bg2_c['maxplaytime']).value_counts()"
      ],
      "outputs": [
        {
          "output_type": "execute_result",
          "execution_count": 41,
          "data": {
            "text/plain": "True    3490\ndtype: int64"
          },
          "metadata": {}
        }
      ],
      "execution_count": 41,
      "metadata": {
        "gather": {
          "logged": 1752537536306
        }
      },
      "id": "3c8309fb-b296-48c0-97cf-f897170f15a0"
    },
    {
      "cell_type": "markdown",
      "source": [
        "For consistency's sake, even though these are numeric values, as with publication year I want to instead treat them like categories. That means grouping them based on either min, average or max play time in a way that maps to real world use cases."
      ],
      "metadata": {
        "nteract": {
          "transient": {
            "deleting": false
          }
        }
      },
      "id": "3a3187d2-aab0-43e6-af12-af514e4978d7"
    },
    {
      "cell_type": "code",
      "source": [
        "df_bg2_c['maxplaytime'].value_counts().sort_index()"
      ],
      "outputs": [
        {
          "output_type": "execute_result",
          "execution_count": 42,
          "data": {
            "text/plain": "0          4\n1          4\n2          1\n5         11\n6          1\n10        62\n13         1\n15       145\n20       264\n25        37\n30       584\n32         1\n35        14\n40        99\n42         1\n45       461\n50        21\n55         2\n60       628\n70         9\n72         1\n75        67\n80        17\n90       393\n95         1\n100       18\n105        1\n110        2\n115        1\n120      340\n125        2\n135        2\n150       37\n165        1\n180      128\n200        4\n210        5\n240       61\n270        2\n300       15\n360       24\n420        2\n480        8\n720        3\n999        1\n1000       1\n1200       1\n6000       1\n12000      1\nName: maxplaytime, dtype: int64"
          },
          "metadata": {}
        }
      ],
      "execution_count": 42,
      "metadata": {
        "gather": {
          "logged": 1752537536487
        }
      },
      "id": "0d77bfb1-420e-465a-a277-27b30c9e2605"
    },
    {
      "cell_type": "markdown",
      "source": [
        "These figures also map quite neatly into categories based on playing time"
      ],
      "metadata": {
        "nteract": {
          "transient": {
            "deleting": false
          }
        }
      },
      "id": "d23b921c-01c6-4e95-8f0a-a37b532a92aa"
    },
    {
      "cell_type": "code",
      "source": [
        "def set_playtime_category(playingtime):\n",
        "    '''Convert maximum playtime provided by developer to playtime_cat string val'''\n",
        "    if playingtime <=30:\n",
        "        return 'very short'\n",
        "    elif playingtime <=60:\n",
        "        return 'short'\n",
        "    elif playingtime <=90:\n",
        "        return 'medium'\n",
        "    else:\n",
        "        return 'long'"
      ],
      "outputs": [],
      "execution_count": 43,
      "metadata": {
        "gather": {
          "logged": 1752537536654
        }
      },
      "id": "a7025314-69aa-4110-8013-c0054db1168e"
    },
    {
      "cell_type": "code",
      "source": [
        "df_bg2_c['playtime_cat'] = df_bg2_c['playingtime'].apply(set_playtime_category)"
      ],
      "outputs": [
        {
          "output_type": "stream",
          "name": "stderr",
          "text": "/tmp/ipykernel_50357/1822557992.py:1: SettingWithCopyWarning: \nA value is trying to be set on a copy of a slice from a DataFrame.\nTry using .loc[row_indexer,col_indexer] = value instead\n\nSee the caveats in the documentation: https://pandas.pydata.org/pandas-docs/stable/user_guide/indexing.html#returning-a-view-versus-a-copy\n  df_bg2_c['playtime_cat'] = df_bg2_c['playingtime'].apply(set_playtime_category)\n"
        }
      ],
      "execution_count": 44,
      "metadata": {
        "gather": {
          "logged": 1752537536815
        }
      },
      "id": "e307bff6-f64d-4d4b-adb8-f5bac1b8e3f8"
    },
    {
      "cell_type": "code",
      "source": [
        "df_bg2_c['playtime_cat'].value_counts()"
      ],
      "outputs": [
        {
          "output_type": "execute_result",
          "execution_count": 45,
          "data": {
            "text/plain": "short         1227\nvery short    1114\nlong           662\nmedium         487\nName: playtime_cat, dtype: int64"
          },
          "metadata": {}
        }
      ],
      "execution_count": 45,
      "metadata": {
        "gather": {
          "logged": 1752537536993
        }
      },
      "id": "2de4ec77-ec59-4b70-b4fa-94944f476320"
    },
    {
      "cell_type": "code",
      "source": [
        "df_bg2_c.drop(columns=['playingtime','minplaytime','maxplaytime'],inplace=True)"
      ],
      "outputs": [
        {
          "output_type": "stream",
          "name": "stderr",
          "text": "/tmp/ipykernel_50357/1164230383.py:1: SettingWithCopyWarning: \nA value is trying to be set on a copy of a slice from a DataFrame\n\nSee the caveats in the documentation: https://pandas.pydata.org/pandas-docs/stable/user_guide/indexing.html#returning-a-view-versus-a-copy\n  df_bg2_c.drop(columns=['playingtime','minplaytime','maxplaytime'],inplace=True)\n"
        }
      ],
      "execution_count": 46,
      "metadata": {
        "gather": {
          "logged": 1752537537152
        }
      },
      "id": "5afa10f3-043d-45c6-b013-b855a6271e00"
    },
    {
      "cell_type": "markdown",
      "source": [
        "**Category**"
      ],
      "metadata": {
        "nteract": {
          "transient": {
            "deleting": false
          }
        }
      },
      "id": "250b0c19-b72b-42a7-b323-a4648cdfa8a1"
    },
    {
      "cell_type": "code",
      "source": [
        "df_bg2_c['boardgamecategory'][0]"
      ],
      "outputs": [
        {
          "output_type": "execute_result",
          "execution_count": 47,
          "data": {
            "text/plain": "\"['Economic', 'Negotiation']\""
          },
          "metadata": {}
        }
      ],
      "execution_count": 47,
      "metadata": {
        "gather": {
          "logged": 1752537537329
        }
      },
      "id": "c0e39691-2c45-48c5-b3cc-bac450b9b755"
    },
    {
      "cell_type": "markdown",
      "source": [
        "These appear meant to be lists but are actually strings. That means I need to interpret them literally before analysis"
      ],
      "metadata": {
        "nteract": {
          "transient": {
            "deleting": false
          }
        }
      },
      "id": "45bf9d26-5371-43f5-9eb2-a6a6e6b2ac43"
    },
    {
      "cell_type": "code",
      "source": [
        "df_bg2_c['boardgamecategory'] = df_bg2_c['boardgamecategory'].fillna('[]').apply(ast.literal_eval)"
      ],
      "outputs": [
        {
          "output_type": "stream",
          "name": "stderr",
          "text": "/tmp/ipykernel_50357/704732331.py:1: SettingWithCopyWarning: \nA value is trying to be set on a copy of a slice from a DataFrame.\nTry using .loc[row_indexer,col_indexer] = value instead\n\nSee the caveats in the documentation: https://pandas.pydata.org/pandas-docs/stable/user_guide/indexing.html#returning-a-view-versus-a-copy\n  df_bg2_c['boardgamecategory'] = df_bg2_c['boardgamecategory'].fillna('[]').apply(ast.literal_eval)\n"
        }
      ],
      "execution_count": 48,
      "metadata": {
        "gather": {
          "logged": 1752537537523
        }
      },
      "id": "58b61cfe-8082-47ca-ab80-d2e356789341"
    },
    {
      "cell_type": "markdown",
      "source": [
        "Because there's a long tail of categories, let's consider only the top 50:"
      ],
      "metadata": {
        "nteract": {
          "transient": {
            "deleting": false
          }
        }
      },
      "id": "70f9312b-0336-4a61-9f0b-83e34817648f"
    },
    {
      "cell_type": "code",
      "source": [
        "keep_cats = pd.Series(df_bg2_c['boardgamecategory'].sum()).value_counts()[:50].index"
      ],
      "outputs": [],
      "execution_count": 49,
      "metadata": {
        "gather": {
          "logged": 1752537537682
        }
      },
      "id": "dc490bb8-5fae-460f-b8c6-dcffec182b3c"
    },
    {
      "cell_type": "markdown",
      "source": [
        "Some categories are major, while others only apply to a few games. Let's only keep the heavy hitters to avoid introducing noise into our model:"
      ],
      "metadata": {
        "nteract": {
          "transient": {
            "deleting": false
          }
        }
      },
      "id": "86665c7e-ef4d-4f80-ba5d-f681db6b32e3"
    },
    {
      "cell_type": "code",
      "source": [
        "df_bg2_c['boardgamecategory'] = df_bg2_c['boardgamecategory'].apply(lambda x: [str.lower(elem).replace(' ','_') for elem in x if elem in keep_cats])"
      ],
      "outputs": [
        {
          "output_type": "stream",
          "name": "stderr",
          "text": "/tmp/ipykernel_50357/2192080588.py:1: SettingWithCopyWarning: \nA value is trying to be set on a copy of a slice from a DataFrame.\nTry using .loc[row_indexer,col_indexer] = value instead\n\nSee the caveats in the documentation: https://pandas.pydata.org/pandas-docs/stable/user_guide/indexing.html#returning-a-view-versus-a-copy\n  df_bg2_c['boardgamecategory'] = df_bg2_c['boardgamecategory'].apply(lambda x: [str.lower(elem).replace(' ','_') for elem in x if elem in keep_cats])\n"
        }
      ],
      "execution_count": 50,
      "metadata": {
        "gather": {
          "logged": 1752537537843
        }
      },
      "id": "5ad154ff-852d-49a7-8d0c-437c7e4b16b5"
    },
    {
      "cell_type": "markdown",
      "source": [
        "**Board Game Mechanic**"
      ],
      "metadata": {
        "nteract": {
          "transient": {
            "deleting": false
          }
        }
      },
      "id": "2117435a-6082-4623-a673-8e45b225ccae"
    },
    {
      "cell_type": "code",
      "source": [
        "df_bg2_c['boardgamemechanic'][0]"
      ],
      "outputs": [
        {
          "output_type": "execute_result",
          "execution_count": 51,
          "data": {
            "text/plain": "\"['Chaining', 'Dice Rolling', 'Hexagon Grid', 'Income', 'Modular Board', 'Negotiation', 'Network and Route Building', 'Race', 'Random Production', 'Trading', 'Variable Set-up']\""
          },
          "metadata": {}
        }
      ],
      "execution_count": 51,
      "metadata": {
        "gather": {
          "logged": 1752537538016
        }
      },
      "id": "bcbfa54b-a208-4984-b32e-e8bd2b31795f"
    },
    {
      "cell_type": "markdown",
      "source": [
        "Here we have the same issue as above, and need to convert these \"string lists\" to simple lists:"
      ],
      "metadata": {
        "nteract": {
          "transient": {
            "deleting": false
          }
        }
      },
      "id": "feefadca-7979-4a31-954c-09fb47881af3"
    },
    {
      "cell_type": "code",
      "source": [
        "df_bg2_c['boardgamemechanic'] = df_bg2_c['boardgamemechanic'].fillna('[]').apply(ast.literal_eval)"
      ],
      "outputs": [
        {
          "output_type": "stream",
          "name": "stderr",
          "text": "/tmp/ipykernel_50357/2164212870.py:1: SettingWithCopyWarning: \nA value is trying to be set on a copy of a slice from a DataFrame.\nTry using .loc[row_indexer,col_indexer] = value instead\n\nSee the caveats in the documentation: https://pandas.pydata.org/pandas-docs/stable/user_guide/indexing.html#returning-a-view-versus-a-copy\n  df_bg2_c['boardgamemechanic'] = df_bg2_c['boardgamemechanic'].fillna('[]').apply(ast.literal_eval)\n"
        }
      ],
      "execution_count": 52,
      "metadata": {
        "gather": {
          "logged": 1752537538270
        }
      },
      "id": "bcc771d4-00b3-40a7-9796-bee0eca2d35b"
    },
    {
      "cell_type": "markdown",
      "source": [
        "And we'll use a similar logic for retaining mechanics:"
      ],
      "metadata": {
        "nteract": {
          "transient": {
            "deleting": false
          }
        }
      },
      "id": "be62ebd6-fc43-4810-bac0-0955796b6683"
    },
    {
      "cell_type": "code",
      "source": [
        "keep_mech = pd.Series(df_bg2_c['boardgamemechanic'].sum()).value_counts()[:50].index"
      ],
      "outputs": [],
      "execution_count": 53,
      "metadata": {
        "gather": {
          "logged": 1752537538422
        }
      },
      "id": "de6a782f-adb5-47b1-980f-508e75654a0e"
    },
    {
      "cell_type": "code",
      "source": [
        "df_bg2_c['boardgamemechanic'] = df_bg2_c['boardgamemechanic'].apply(lambda x: [str.lower(elem).replace(' ','_') for elem in x if elem in keep_mech])"
      ],
      "outputs": [
        {
          "output_type": "stream",
          "name": "stderr",
          "text": "/tmp/ipykernel_50357/763277973.py:1: SettingWithCopyWarning: \nA value is trying to be set on a copy of a slice from a DataFrame.\nTry using .loc[row_indexer,col_indexer] = value instead\n\nSee the caveats in the documentation: https://pandas.pydata.org/pandas-docs/stable/user_guide/indexing.html#returning-a-view-versus-a-copy\n  df_bg2_c['boardgamemechanic'] = df_bg2_c['boardgamemechanic'].apply(lambda x: [str.lower(elem).replace(' ','_') for elem in x if elem in keep_mech])\n"
        }
      ],
      "execution_count": 54,
      "metadata": {
        "gather": {
          "logged": 1752537538561
        }
      },
      "id": "1110d5c3-05a1-47b8-be55-895edce8b76c"
    },
    {
      "cell_type": "code",
      "source": [
        "df_bg2_c.head()"
      ],
      "outputs": [
        {
          "output_type": "execute_result",
          "execution_count": 55,
          "data": {
            "text/plain": "   game_id               name yearpublished  \\\n0       13              CATAN     1980s_90s   \n1      822        Carcassonne         2000s   \n2    30549           Pandemic         2000s   \n3    68448          7 Wonders     2010s_20s   \n4   167791  Terraforming Mars     2010s_20s   \n\n                                   boardgamecategory  \\\n0                            [economic, negotiation]   \n1                     [medieval, territory_building]   \n2                                                 []   \n3  [ancient, card_game, city_building, civilizati...   \n4  [economic, industry_/_manufacturing, science_f...   \n\n                                   boardgamemechanic        player_range  \\\n0  [dice_rolling, hexagon_grid, income, modular_b...              [3, 4]   \n1  [area_majority_/_influence, enclosure, pattern...        [2, 3, 4, 5]   \n2  [action_points, cooperative_game, hand_managem...           [2, 3, 4]   \n3  [hand_management, set_collection, simultaneous...  [2, 3, 4, 5, 6, 7]   \n4  [contracts, end_game_bonuses, hand_management,...     [1, 2, 3, 4, 5]   \n\n  min_age_range playtime_cat  \n0       9_to_12         long  \n1   less_than_8        short  \n2   less_than_8        short  \n3       9_to_12   very short  \n4       9_to_12         long  ",
            "text/html": "<div>\n<style scoped>\n    .dataframe tbody tr th:only-of-type {\n        vertical-align: middle;\n    }\n\n    .dataframe tbody tr th {\n        vertical-align: top;\n    }\n\n    .dataframe thead th {\n        text-align: right;\n    }\n</style>\n<table border=\"1\" class=\"dataframe\">\n  <thead>\n    <tr style=\"text-align: right;\">\n      <th></th>\n      <th>game_id</th>\n      <th>name</th>\n      <th>yearpublished</th>\n      <th>boardgamecategory</th>\n      <th>boardgamemechanic</th>\n      <th>player_range</th>\n      <th>min_age_range</th>\n      <th>playtime_cat</th>\n    </tr>\n  </thead>\n  <tbody>\n    <tr>\n      <th>0</th>\n      <td>13</td>\n      <td>CATAN</td>\n      <td>1980s_90s</td>\n      <td>[economic, negotiation]</td>\n      <td>[dice_rolling, hexagon_grid, income, modular_b...</td>\n      <td>[3, 4]</td>\n      <td>9_to_12</td>\n      <td>long</td>\n    </tr>\n    <tr>\n      <th>1</th>\n      <td>822</td>\n      <td>Carcassonne</td>\n      <td>2000s</td>\n      <td>[medieval, territory_building]</td>\n      <td>[area_majority_/_influence, enclosure, pattern...</td>\n      <td>[2, 3, 4, 5]</td>\n      <td>less_than_8</td>\n      <td>short</td>\n    </tr>\n    <tr>\n      <th>2</th>\n      <td>30549</td>\n      <td>Pandemic</td>\n      <td>2000s</td>\n      <td>[]</td>\n      <td>[action_points, cooperative_game, hand_managem...</td>\n      <td>[2, 3, 4]</td>\n      <td>less_than_8</td>\n      <td>short</td>\n    </tr>\n    <tr>\n      <th>3</th>\n      <td>68448</td>\n      <td>7 Wonders</td>\n      <td>2010s_20s</td>\n      <td>[ancient, card_game, city_building, civilizati...</td>\n      <td>[hand_management, set_collection, simultaneous...</td>\n      <td>[2, 3, 4, 5, 6, 7]</td>\n      <td>9_to_12</td>\n      <td>very short</td>\n    </tr>\n    <tr>\n      <th>4</th>\n      <td>167791</td>\n      <td>Terraforming Mars</td>\n      <td>2010s_20s</td>\n      <td>[economic, industry_/_manufacturing, science_f...</td>\n      <td>[contracts, end_game_bonuses, hand_management,...</td>\n      <td>[1, 2, 3, 4, 5]</td>\n      <td>9_to_12</td>\n      <td>long</td>\n    </tr>\n  </tbody>\n</table>\n</div>"
          },
          "metadata": {}
        }
      ],
      "execution_count": 55,
      "metadata": {
        "gather": {
          "logged": 1752537538731
        }
      },
      "id": "47e81217-f4bf-4ce4-a1b6-720b02b3c9f0"
    },
    {
      "cell_type": "code",
      "source": [
        "#make game_id the index\n",
        "df_bg2_c.set_index('game_id', inplace=True)"
      ],
      "outputs": [],
      "execution_count": 56,
      "metadata": {
        "gather": {
          "logged": 1752537538900
        }
      },
      "id": "1b00b269-77c9-4147-b067-966709570622"
    },
    {
      "cell_type": "markdown",
      "source": [
        "#### Categorical Content-Based Recommender"
      ],
      "metadata": {
        "nteract": {
          "transient": {
            "deleting": false
          }
        }
      },
      "id": "addd5d1c-73cb-4033-bdeb-cb63818e07d3"
    },
    {
      "cell_type": "markdown",
      "source": [
        "My first recommender system will be content-based, relying on the features we just cleaned and developed. This should help us recommend games to people based on their known preferences for things like gameplay lengths, mechanics, themes and age groups. First, I want to split my data into training and test sets so I can eventually evaluate my recommender."
      ],
      "metadata": {
        "nteract": {
          "transient": {
            "deleting": false
          }
        }
      },
      "id": "76090db7-c70a-4a7a-b0e6-a0a8de71fd45"
    },
    {
      "cell_type": "code",
      "source": [
        "#only keep users with ≥2 ratings so we can hold one out\n",
        "user_counts = df_r2['user'].value_counts()\n",
        "eligible   = user_counts[user_counts >= 2].index\n",
        "df2        = df_r2[df_r2['user'].isin(eligible)]\n",
        "\n",
        "#for each user, randomly hold out one interaction\n",
        "rng = np.random.default_rng(905)\n",
        "test_idxs = (\n",
        "    df2\n",
        "    .groupby('user', group_keys=False)\n",
        "    .apply(lambda grp: grp.sample(1, random_state=905))\n",
        "    .index\n",
        ")\n",
        "df_test  = df2.loc[test_idxs].reset_index(drop=True)\n",
        "df_train = df2.drop(test_idxs).reset_index(drop=True)\n",
        "\n",
        "print(f\"Train interactions: {len(df_train):,},  Test interactions: {len(df_test):,}\")"
      ],
      "outputs": [
        {
          "output_type": "stream",
          "name": "stdout",
          "text": "Train interactions: 10,303,961,  Test interactions: 71,058\n"
        }
      ],
      "execution_count": 57,
      "metadata": {
        "gather": {
          "logged": 1752537576190
        }
      },
      "id": "d5d6f047-27aa-4481-a90a-12092f6f8453"
    },
    {
      "cell_type": "markdown",
      "source": [
        "Next, we need to convert df_bg2_c into a proper item x feature matrix, such that each variable represents a simple yes/no 1/0 binary for whether the board game has that feature or not (ie. published in the last 20 years, playable by 3 people, playable by 4 people, involving dice-rolling etc.)"
      ],
      "metadata": {
        "nteract": {
          "transient": {
            "deleting": false
          }
        }
      },
      "id": "c6dadfe9-d8c5-4ae0-b7a5-0586470f4a5f"
    },
    {
      "cell_type": "code",
      "source": [
        "#split cols into whether they contain single or multiple vals\n",
        "single_cats = ['yearpublished', 'min_age_range', 'playtime_cat']\n",
        "multi_cats = ['boardgamecategory', 'boardgamemechanic','player_range']"
      ],
      "outputs": [],
      "execution_count": 58,
      "metadata": {
        "gather": {
          "logged": 1752537576362
        }
      },
      "id": "2dc3c6ad-183d-4024-a485-79759a8eaaf3"
    },
    {
      "cell_type": "code",
      "source": [
        "#single category dummy matrices\n",
        "df_bg2_c_year = pd.get_dummies(df_bg2_c['yearpublished'].astype(str), prefix='year')\n",
        "df_bg2_c_age = pd.get_dummies(df_bg2_c['min_age_range'].astype(str), prefix='age')\n",
        "df_bg2_c_time = pd.get_dummies(df_bg2_c['playtime_cat'].astype(str), prefix='time')"
      ],
      "outputs": [],
      "execution_count": 59,
      "metadata": {
        "gather": {
          "logged": 1752537576519
        }
      },
      "id": "a03b5a68-5c76-4420-964a-f7b438943525"
    },
    {
      "cell_type": "code",
      "source": [
        "#multiple category dummy matrices\n",
        "mlb_pr = MultiLabelBinarizer(sparse_output=False)\n",
        "df_bg2_c_cat  = pd.DataFrame(\n",
        "    mlb_pr.fit_transform(df_bg2_c['boardgamecategory']),\n",
        "    index=df_bg2_c.index,\n",
        "    columns=[f\"cat_{c}\" for c in mlb_pr.classes_]\n",
        ")\n",
        "\n",
        "mlb_pr = MultiLabelBinarizer(sparse_output=False)\n",
        "df_bg2_c_mech  = pd.DataFrame(\n",
        "    mlb_pr.fit_transform(df_bg2_c['boardgamemechanic']),\n",
        "    index=df_bg2_c.index,\n",
        "    columns=[f\"mech_{c}\" for c in mlb_pr.classes_]\n",
        ")\n",
        "\n",
        "mlb_pr = MultiLabelBinarizer(sparse_output=False)\n",
        "df_bg2_c_players  = pd.DataFrame(\n",
        "    mlb_pr.fit_transform(df_bg2_c['player_range']),\n",
        "    index=df_bg2_c.index,\n",
        "    columns=[f\"players_{c}\" for c in mlb_pr.classes_]\n",
        ")"
      ],
      "outputs": [],
      "execution_count": 60,
      "metadata": {
        "gather": {
          "logged": 1752537576698
        }
      },
      "id": "fa926678-f664-462b-ac58-3003db7b80f6"
    },
    {
      "cell_type": "code",
      "source": [
        "#concatenate into one DataFrame\n",
        "item_feats = pd.concat([df_bg2_c_year, df_bg2_c_age, df_bg2_c_time,\n",
        "                        df_bg2_c_cat, df_bg2_c_mech, df_bg2_c_players], axis=1)\n",
        "print(\"Item–feature matrix shape:\", item_feats.shape)"
      ],
      "outputs": [
        {
          "output_type": "stream",
          "name": "stdout",
          "text": "Item–feature matrix shape: (3490, 123)\n"
        }
      ],
      "execution_count": 61,
      "metadata": {
        "gather": {
          "logged": 1752537576848
        }
      },
      "id": "f38f1466-efab-4254-8ba7-57ca54e8ac1a"
    },
    {
      "cell_type": "code",
      "source": [
        "item_feats.head()"
      ],
      "outputs": [
        {
          "output_type": "execute_result",
          "execution_count": 64,
          "data": {
            "text/plain": "         year_1960s_70s  year_1980s_90s  year_2000s  year_2010s_20s  \\\ngame_id                                                               \n13                    0               1           0               0   \n822                   0               0           1               0   \n30549                 0               0           1               0   \n68448                 0               0           0               1   \n167791                0               0           0               1   \n\n         year_early_through_mid_1900s  year_pre_1900  age_13_and_up  \\\ngame_id                                                               \n13                                  0              0              0   \n822                                 0              0              0   \n30549                               0              0              0   \n68448                               0              0              0   \n167791                              0              0              0   \n\n         age_9_to_12  age_less_than_8  time_long  ...  players_0  players_1  \\\ngame_id                                           ...                         \n13                 1                0          1  ...          0          0   \n822                0                1          0  ...          0          0   \n30549              0                1          0  ...          0          0   \n68448              1                0          0  ...          0          0   \n167791             1                0          1  ...          0          1   \n\n         players_2  players_3  players_4  players_5  players_6  players_7  \\\ngame_id                                                                     \n13               0          1          1          0          0          0   \n822              1          1          1          1          0          0   \n30549            1          1          1          0          0          0   \n68448            1          1          1          1          1          1   \n167791           1          1          1          1          0          0   \n\n         players_8  players_more_than_8  \ngame_id                                  \n13               0                    0  \n822              0                    0  \n30549            0                    0  \n68448            0                    0  \n167791           0                    0  \n\n[5 rows x 123 columns]",
            "text/html": "<div>\n<style scoped>\n    .dataframe tbody tr th:only-of-type {\n        vertical-align: middle;\n    }\n\n    .dataframe tbody tr th {\n        vertical-align: top;\n    }\n\n    .dataframe thead th {\n        text-align: right;\n    }\n</style>\n<table border=\"1\" class=\"dataframe\">\n  <thead>\n    <tr style=\"text-align: right;\">\n      <th></th>\n      <th>year_1960s_70s</th>\n      <th>year_1980s_90s</th>\n      <th>year_2000s</th>\n      <th>year_2010s_20s</th>\n      <th>year_early_through_mid_1900s</th>\n      <th>year_pre_1900</th>\n      <th>age_13_and_up</th>\n      <th>age_9_to_12</th>\n      <th>age_less_than_8</th>\n      <th>time_long</th>\n      <th>...</th>\n      <th>players_0</th>\n      <th>players_1</th>\n      <th>players_2</th>\n      <th>players_3</th>\n      <th>players_4</th>\n      <th>players_5</th>\n      <th>players_6</th>\n      <th>players_7</th>\n      <th>players_8</th>\n      <th>players_more_than_8</th>\n    </tr>\n    <tr>\n      <th>game_id</th>\n      <th></th>\n      <th></th>\n      <th></th>\n      <th></th>\n      <th></th>\n      <th></th>\n      <th></th>\n      <th></th>\n      <th></th>\n      <th></th>\n      <th></th>\n      <th></th>\n      <th></th>\n      <th></th>\n      <th></th>\n      <th></th>\n      <th></th>\n      <th></th>\n      <th></th>\n      <th></th>\n      <th></th>\n    </tr>\n  </thead>\n  <tbody>\n    <tr>\n      <th>13</th>\n      <td>0</td>\n      <td>1</td>\n      <td>0</td>\n      <td>0</td>\n      <td>0</td>\n      <td>0</td>\n      <td>0</td>\n      <td>1</td>\n      <td>0</td>\n      <td>1</td>\n      <td>...</td>\n      <td>0</td>\n      <td>0</td>\n      <td>0</td>\n      <td>1</td>\n      <td>1</td>\n      <td>0</td>\n      <td>0</td>\n      <td>0</td>\n      <td>0</td>\n      <td>0</td>\n    </tr>\n    <tr>\n      <th>822</th>\n      <td>0</td>\n      <td>0</td>\n      <td>1</td>\n      <td>0</td>\n      <td>0</td>\n      <td>0</td>\n      <td>0</td>\n      <td>0</td>\n      <td>1</td>\n      <td>0</td>\n      <td>...</td>\n      <td>0</td>\n      <td>0</td>\n      <td>1</td>\n      <td>1</td>\n      <td>1</td>\n      <td>1</td>\n      <td>0</td>\n      <td>0</td>\n      <td>0</td>\n      <td>0</td>\n    </tr>\n    <tr>\n      <th>30549</th>\n      <td>0</td>\n      <td>0</td>\n      <td>1</td>\n      <td>0</td>\n      <td>0</td>\n      <td>0</td>\n      <td>0</td>\n      <td>0</td>\n      <td>1</td>\n      <td>0</td>\n      <td>...</td>\n      <td>0</td>\n      <td>0</td>\n      <td>1</td>\n      <td>1</td>\n      <td>1</td>\n      <td>0</td>\n      <td>0</td>\n      <td>0</td>\n      <td>0</td>\n      <td>0</td>\n    </tr>\n    <tr>\n      <th>68448</th>\n      <td>0</td>\n      <td>0</td>\n      <td>0</td>\n      <td>1</td>\n      <td>0</td>\n      <td>0</td>\n      <td>0</td>\n      <td>1</td>\n      <td>0</td>\n      <td>0</td>\n      <td>...</td>\n      <td>0</td>\n      <td>0</td>\n      <td>1</td>\n      <td>1</td>\n      <td>1</td>\n      <td>1</td>\n      <td>1</td>\n      <td>1</td>\n      <td>0</td>\n      <td>0</td>\n    </tr>\n    <tr>\n      <th>167791</th>\n      <td>0</td>\n      <td>0</td>\n      <td>0</td>\n      <td>1</td>\n      <td>0</td>\n      <td>0</td>\n      <td>0</td>\n      <td>1</td>\n      <td>0</td>\n      <td>1</td>\n      <td>...</td>\n      <td>0</td>\n      <td>1</td>\n      <td>1</td>\n      <td>1</td>\n      <td>1</td>\n      <td>1</td>\n      <td>0</td>\n      <td>0</td>\n      <td>0</td>\n      <td>0</td>\n    </tr>\n  </tbody>\n</table>\n<p>5 rows × 123 columns</p>\n</div>"
          },
          "metadata": {}
        }
      ],
      "execution_count": 64,
      "metadata": {
        "gather": {
          "logged": 1752538350793
        }
      },
      "id": "73922027-d986-4637-b00a-a885ffc92f79"
    },
    {
      "cell_type": "markdown",
      "source": [
        "Next we need to build user profiles. I just want to merge the board game ids back in as my index first:"
      ],
      "metadata": {
        "nteract": {
          "transient": {
            "deleting": false
          }
        }
      },
      "id": "281ac12a-2875-4d96-a6fb-2b0ef7a164b2"
    },
    {
      "cell_type": "code",
      "source": [
        "#extract item IDs and feature matrix\n",
        "item_ids = item_feats.index.to_numpy()\n",
        "X_items  = item_feats.to_numpy()\n",
        "\n",
        "#build a lookup from game_id → row index in X_items\n",
        "id2idx = {gid: idx for idx, gid in enumerate(item_ids)}\n",
        "\n",
        "#define function to build user profiles\n",
        "def build_user_profiles(ratings_df):\n",
        "    \"\"\"\n",
        "    Build a dict of { user_id: profile_vector } where profile_vector\n",
        "    is the weighted average of item feature rows (weights = ratings).\n",
        "    \"\"\"\n",
        "    profiles = {}\n",
        "    for user, grp in ratings_df.groupby(\"user\"):\n",
        "        # keep only ratings for games present in iteam_feats\n",
        "        valid = grp[grp[\"game_id\"].isin(id2idx)]\n",
        "        if valid.empty:\n",
        "            continue\n",
        "\n",
        "        # map each game_id to its feature-row index\n",
        "        idxs = [ id2idx[g] for g in valid[\"game_id\"] ]\n",
        "        weights = valid[\"rating\"].to_numpy()\n",
        "\n",
        "        # slice out the feature rows and compute weighted average\n",
        "        mat = X_items[idxs]\n",
        "        profile = (weights[:, None] * mat).sum(axis=0) / weights.sum()\n",
        "\n",
        "        profiles[user] = profile\n",
        "\n",
        "    return profiles\n",
        "\n",
        "#build the profiles\n",
        "user_profiles = build_user_profiles(df_train)\n"
      ],
      "outputs": [],
      "execution_count": 67,
      "metadata": {
        "gather": {
          "logged": 1752538476337
        }
      },
      "id": "0bcefde2-d256-4591-9680-f2df79fdac57"
    },
    {
      "cell_type": "markdown",
      "source": [
        "Each user profile here is effectively a weighted average of features the user *seems* to care about, based on the features of games they previously rated in our training data and how highly they rated them. We'll build recommendations for that user, and all of them, by looking for the closest matches to this user profile among real board games they haven't yet rated."
      ],
      "metadata": {
        "nteract": {
          "transient": {
            "deleting": false
          }
        }
      },
      "id": "384064a5-0816-4aa2-a1d0-a0c66078dc83"
    },
    {
      "cell_type": "code",
      "source": [
        "#what each user has already seen in train\n",
        "train_seen = df_train.groupby('user')['game_id'].agg(set).to_dict()\n",
        "\n",
        "#recommendation function\n",
        "def recommend_for_user(uprof, seen_items, K=10):\n",
        "    \"\"\"\n",
        "    uprof: 1D np.array user profile\n",
        "    seen_items: set of game_ids the user rated in train\n",
        "    returns: list of top-K recommended game_ids\n",
        "    \"\"\"\n",
        "    # compute similarity to all items\n",
        "    sims = cosine_similarity(uprof.reshape(1, -1), X_items).flatten()\n",
        "    # mask out already-seen items\n",
        "    for gid in seen_items:\n",
        "        idx = id2idx.get(gid)\n",
        "        if idx is not None:\n",
        "            sims[idx] = -np.inf\n",
        "    # grab top-K indices\n",
        "    topk = np.argpartition(-sims, K)[:K]\n",
        "    topk = topk[np.argsort(-sims[topk])]\n",
        "    return [item_ids[i] for i in topk]\n",
        "\n",
        "#try it for one user\n",
        "example_user = next(iter(user_profiles))\n",
        "recs5 = recommend_for_user(\n",
        "    user_profiles[example_user],\n",
        "    train_seen.get(example_user, set()),\n",
        "    K=5\n",
        ")\n",
        "print(f\"Top-5 recommendations for user {example_user}: {recs5}\")\n",
        "\n",
        "#evaluate Recall@K on test set\n",
        "def recall_at_k(K=10):\n",
        "    hits = 0\n",
        "    total = 0\n",
        "    for user, true_game in zip(df_test['user'], df_test['game_id']):\n",
        "        prof = user_profiles.get(user)\n",
        "        if prof is None:\n",
        "            continue\n",
        "        recs = recommend_for_user(prof, train_seen.get(user, set()), K)\n",
        "        hits += int(true_game in recs)\n",
        "        total += 1\n",
        "    return hits / total if total else 0.0\n",
        "\n",
        "for K in [5, 10, 20]:\n",
        "    print(f\"Recall@{K}: {recall_at_k(K):.4f}\")"
      ],
      "outputs": [
        {
          "output_type": "stream",
          "name": "stdout",
          "text": "Top-5 recommendations for user -=Yod@=-: [137155, 235512, 96260, 223049, 1324]\nRecall@5: 0.0035\nRecall@10: 0.0067\nRecall@20: 0.0123\n"
        }
      ],
      "execution_count": 68,
      "metadata": {
        "gather": {
          "logged": 1752539052629
        }
      },
      "id": "e27f0cd8-24b4-46c9-9c44-673faf3722f3"
    },
    {
      "cell_type": "markdown",
      "source": [
        "Those figures are hard to evaluate without a baseline, so let's test them against a random sampling of games:"
      ],
      "metadata": {
        "nteract": {
          "transient": {
            "deleting": false
          }
        }
      },
      "id": "6f2bab94-52e5-46a3-82ba-5dc8dfe4f28f"
    },
    {
      "cell_type": "code",
      "source": [
        "#random baseline\n",
        "N = len(item_ids)\n",
        "print(\"Random Recall@5:\", 5/N)\n",
        "print(\"Random Recall@10:\", 10/N)\n",
        "print(\"Random Recall@20:\", 20/N)"
      ],
      "outputs": [
        {
          "output_type": "stream",
          "name": "stdout",
          "text": "Random Recall@5: 0.0014326647564469914\nRandom Recall@10: 0.0028653295128939827\nRandom Recall@20: 0.0057306590257879654\n"
        }
      ],
      "execution_count": 69,
      "metadata": {
        "gather": {
          "logged": 1752539052821
        }
      },
      "id": "be003cb3-23d1-48aa-abc1-e38cbd272fc8"
    },
    {
      "cell_type": "markdown",
      "source": [
        "Wow--so my categorical feature recommender is considerably better than random! Still, there could be room to improve, and certainly to compare against other sorts of content-based recommenders."
      ],
      "metadata": {
        "nteract": {
          "transient": {
            "deleting": false
          }
        }
      },
      "id": "c1fffe45-6f95-47c1-a936-556283599786"
    },
    {
      "cell_type": "markdown",
      "source": [
        "#### Text-Focused Content-Based Recommender"
      ],
      "metadata": {
        "nteract": {
          "transient": {
            "deleting": false
          }
        }
      },
      "id": "c21b8484-aca1-4c4b-89e4-3fe0a13cddc6"
    },
    {
      "cell_type": "markdown",
      "source": [
        "Let's start by vectorizing our description field into 5k max features and removing English stop-words."
      ],
      "metadata": {
        "nteract": {
          "transient": {
            "deleting": false
          }
        }
      },
      "id": "893e1214-6c69-4cb0-b644-37aa7428ed21"
    },
    {
      "cell_type": "code",
      "source": [
        "#index metadata by game_id (if you haven’t already)\n",
        "df_desc = df_bg2.set_index(\"game_id\")[\"description\"]"
      ],
      "outputs": [],
      "execution_count": 70,
      "metadata": {
        "gather": {
          "logged": 1752539053069
        }
      },
      "id": "32493e5a-7db1-42ff-9cd0-2a1d7137d20f"
    },
    {
      "cell_type": "code",
      "source": [
        "#TF–IDF vectorize\n",
        "tfv = TfidfVectorizer(\n",
        "    max_features=5000,\n",
        "    stop_words=\"english\"\n",
        ")\n",
        "\n",
        "#fit transform to matrix\n",
        "tfidf_matrix = tfv.fit_transform(df_desc.values)"
      ],
      "outputs": [],
      "execution_count": 71,
      "metadata": {
        "gather": {
          "logged": 1752539053305
        }
      },
      "id": "348142cb-6557-42ac-8194-61aea8d093f3"
    },
    {
      "cell_type": "code",
      "source": [
        "#dimensionality reduction with SVD\n",
        "svd = TruncatedSVD(n_components=100, random_state=905)\n",
        "X_text = svd.fit_transform(tfidf_matrix)"
      ],
      "outputs": [],
      "execution_count": 72,
      "metadata": {
        "gather": {
          "logged": 1752539053639
        }
      },
      "id": "144b449f-3188-4212-8da9-e397dcfc4d02"
    },
    {
      "cell_type": "code",
      "source": [
        "#build index mapping\n",
        "item_ids = df_desc.index.to_numpy()\n",
        "id2idx    = {gid:i for i,gid in enumerate(item_ids)}\n",
        "\n",
        "#make user profiles from text features\n",
        "def build_profiles_from_matrix(ratings_df, id2idx_map, feature_mat):\n",
        "    profiles = {}\n",
        "    for user, grp in ratings_df.groupby(\"user\"):\n",
        "        # keep only games that exist in our text feature matrix\n",
        "        valid = grp[grp[\"game_id\"].isin(id2idx_map)]\n",
        "        if valid.empty:\n",
        "            continue\n",
        "        idxs    = [ id2idx_map[g] for g in valid[\"game_id\"] ]\n",
        "        weights = valid[\"rating\"].to_numpy()\n",
        "        mat     = feature_mat[idxs, :]              # slice rows\n",
        "        prof    = (weights[:, None] * mat).sum(axis=0) / weights.sum()\n",
        "        profiles[user] = prof\n",
        "    return profiles\n",
        "\n",
        "user_profiles_text = build_profiles_from_matrix(df_train, id2idx, X_text)\n",
        "print(\"Built text-based profiles for\", len(user_profiles_text), \"users\")"
      ],
      "outputs": [
        {
          "output_type": "stream",
          "name": "stdout",
          "text": "Built text-based profiles for 71058 users\n"
        }
      ],
      "execution_count": 73,
      "metadata": {
        "gather": {
          "logged": 1752539143621
        }
      },
      "id": "2fe44522-dac5-4ff5-9964-b8085418e5d0"
    },
    {
      "cell_type": "markdown",
      "source": [
        "Now that we have user profiles, we build recommendations and evaluate them against the test data as we did earlier."
      ],
      "metadata": {
        "nteract": {
          "transient": {
            "deleting": false
          }
        }
      },
      "id": "7f61e3b5-1cc2-47eb-a23a-e7e98604ff6f"
    },
    {
      "cell_type": "code",
      "source": [
        "#2hat each user has already seen in train\n",
        "train_seen = df_train.groupby('user')['game_id'].agg(set).to_dict()\n",
        "\n",
        "#4ecommend function\n",
        "def recommend_for_user(uprof, seen, K=10):\n",
        "    sims = cosine_similarity(uprof.reshape(1,-1), X_text).flatten()\n",
        "    for gid in seen:\n",
        "        idx = id2idx.get(gid)\n",
        "        if idx is not None:\n",
        "            sims[idx] = -np.inf\n",
        "    topk = np.argpartition(-sims, K)[:K]\n",
        "    topk = topk[np.argsort(-sims[topk])]\n",
        "    return [item_ids[i] for i in topk]\n",
        "\n",
        "#quick sanity check\n",
        "u0 = next(iter(user_profiles_text))\n",
        "print(\"Top-5 text-based recs for user\", u0, recommend_for_user(\n",
        "    user_profiles_text[u0], train_seen.get(u0, set()), K=5\n",
        "))\n",
        "\n",
        "#Recall@K\n",
        "def recall_at_k_text(K=10):\n",
        "    hits = 0\n",
        "    total= 0\n",
        "    for u,true in zip(df_test['user'], df_test['game_id']):\n",
        "        prof = user_profiles_text.get(u)\n",
        "        if prof is None:\n",
        "            continue\n",
        "        recs = recommend_for_user(prof, train_seen.get(u, set()), K)\n",
        "        hits += int(true in recs)\n",
        "        total+= 1\n",
        "    return hits/total if total else 0.0\n",
        "\n",
        "for K in [5, 10, 20]:\n",
        "    print(f\"Text Recall@{K}: {recall_at_k_text(K):.4f}\")"
      ],
      "outputs": [
        {
          "output_type": "stream",
          "name": "stdout",
          "text": "Top-5 text-based recs for user -=Yod@=- [1044, 192638, 153999, 168054, 1041]\nText Recall@5: 0.0023\nText Recall@10: 0.0044\nText Recall@20: 0.0088\n"
        }
      ],
      "execution_count": 74,
      "metadata": {
        "gather": {
          "logged": 1752539571570
        }
      },
      "id": "fcdfba2f-4de7-4c58-94f7-278b6a990d5f"
    },
    {
      "cell_type": "markdown",
      "source": [
        "Wow--this remains better than random, but worse than both our popularity-based recommender and our categorical one! Let's try to combine the two:"
      ],
      "metadata": {
        "nteract": {
          "transient": {
            "deleting": false
          }
        }
      },
      "id": "dc89532e-1ad1-4394-8934-d2ba8bfbd1ca"
    },
    {
      "cell_type": "markdown",
      "source": [
        "#### Hybrid Content-Based Recommender"
      ],
      "metadata": {
        "nteract": {
          "transient": {
            "deleting": false
          }
        }
      },
      "id": "7e4aebdf-83a3-4365-8c8d-b289b17f5043"
    },
    {
      "cell_type": "markdown",
      "source": [
        "At this stage, we can combine our two separate approaches to see if our categorical and raw text features are complimentary."
      ],
      "metadata": {
        "nteract": {
          "transient": {
            "deleting": false
          }
        }
      },
      "id": "da8890c5-3e6f-41f1-a271-7216de03b448"
    },
    {
      "cell_type": "code",
      "source": [
        "#metadata block:\n",
        "# item_feats is a DataFrame indexed by game_id, shape (n_items, 123)\n",
        "item_ids = item_feats.index.to_numpy()     # [game_id_0, game_id_1, …]\n",
        "X_meta   = item_feats.values               # shape (n_items, 123)\n",
        "\n",
        "#Normalize & concatenate\n",
        "\n",
        "#L2‐normalize each row in its own block\n",
        "X_meta_norm = normalize(X_meta, axis=1)\n",
        "X_text_norm = normalize(X_text, axis=1)\n",
        "\n",
        "#optionally re‐weight blocks: here I keep them equal\n",
        "alpha = 1.0\n",
        "beta  = 1.0\n",
        "\n",
        "X_hybrid = np.hstack([ alpha * X_meta_norm,\n",
        "                       beta  * X_text_norm ])   # shape (n_items, 223)\n",
        "\n",
        "#Build lookup & hybrid user profiles\n",
        "\n",
        "#map game_id → row index\n",
        "id2idx = {gid: i for i, gid in enumerate(item_ids)}\n",
        "\n",
        "def build_hybrid_profiles(ratings_df):\n",
        "    profiles = {}\n",
        "    for user, grp in ratings_df.groupby(\"user\"):\n",
        "        valid = grp[grp[\"game_id\"].isin(id2idx)]\n",
        "        if valid.empty: continue\n",
        "\n",
        "        idxs    = [id2idx[g] for g in valid[\"game_id\"]]\n",
        "        weights = valid[\"rating\"].to_numpy()\n",
        "        mat     = X_hybrid[idxs]               # (n_rated, 223)\n",
        "\n",
        "        # weighted average\n",
        "        prof    = (weights[:,None] * mat).sum(axis=0) / weights.sum()\n",
        "        profiles[user] = prof\n",
        "    return profiles\n",
        "\n",
        "user_profiles_hybrid = build_hybrid_profiles(df_train)\n",
        "\n",
        "#Recommendation and Eval\n",
        "\n",
        "# what each user saw in train\n",
        "train_seen = df_train.groupby(\"user\")[\"game_id\"].agg(set).to_dict()\n",
        "\n",
        "def recommend_for_user(uprof, seen, K=10):\n",
        "    sims = cosine_similarity(uprof.reshape(1,-1), X_hybrid).flatten()\n",
        "    for gid in seen:\n",
        "        idx = id2idx.get(gid)\n",
        "        if idx is not None:\n",
        "            sims[idx] = -np.inf\n",
        "    topk = np.argpartition(-sims, K)[:K]\n",
        "    topk = topk[np.argsort(-sims[topk])]\n",
        "    return [item_ids[i] for i in topk]\n",
        "\n",
        "def recall_at_k_hybrid(K=10):\n",
        "    hits = total = 0\n",
        "    for u, true in zip(df_test[\"user\"], df_test[\"game_id\"]):\n",
        "        prof = user_profiles_hybrid.get(u)\n",
        "        if prof is None: continue\n",
        "        recs = recommend_for_user(prof, train_seen.get(u, set()), K)\n",
        "        hits += int(true in recs)\n",
        "        total += 1\n",
        "    return hits/total if total else 0.0\n",
        "\n",
        "for K in (5, 10, 20):\n",
        "    print(f\"Hybrid Recall@{K}: {recall_at_k_hybrid(K):.4f}\")\n"
      ],
      "outputs": [
        {
          "output_type": "stream",
          "name": "stdout",
          "text": "Hybrid Recall@5: 0.0031\nHybrid Recall@10: 0.0061\nHybrid Recall@20: 0.0117\n"
        }
      ],
      "execution_count": 75,
      "metadata": {
        "gather": {
          "logged": 1752540400069
        }
      },
      "id": "7ebe6459-4355-4091-acf9-f872f00891ac"
    },
    {
      "cell_type": "markdown",
      "source": [
        "Interesting--these results mirror my category-focused recommender, suggesting those features could be doing most of the heavy lifting here, and the text descriptions (which focus more on game aesthetics) aren't doing much.\n",
        "\n",
        "Below, I can run a quick, lean collaborative-filtering based model for the sake of comparison, to see if it would be worth pursuing that approach as an alternative."
      ],
      "metadata": {
        "nteract": {
          "transient": {
            "deleting": false
          }
        }
      },
      "id": "cc3afc18-05d0-4f1c-b98b-46f0571be947"
    },
    {
      "cell_type": "code",
      "source": [
        "# build user/item mappings\n",
        "users    = df_train['user'].unique().tolist()\n",
        "user2idx = {u:i for i,u in enumerate(users)}\n",
        "items    = item_ids.tolist()\n",
        "item2idx = {g:i for i,g in enumerate(items)}\n",
        "\n",
        "# build user–item matrix\n",
        "df_cf    = df_train[df_train['game_id'].isin(item2idx)]\n",
        "rows     = df_cf['user'].map(user2idx).to_numpy(dtype=int)\n",
        "cols     = df_cf['game_id'].map(item2idx).to_numpy(dtype=int)\n",
        "data     = df_cf['rating'].to_numpy(dtype=float)\n",
        "user_item = sp.coo_matrix((data, (rows, cols)),\n",
        "                          shape=(len(users), len(items))).tocsr()\n",
        "\n",
        "# fit and extract factors\n",
        "model = AlternatingLeastSquares(factors=50,\n",
        "                                regularization=0.01,\n",
        "                                iterations=15)\n",
        "model.fit(user_item)\n",
        "user_factors = model.user_factors\n",
        "item_factors = model.item_factors\n",
        "\n",
        "#precompute seen\n",
        "train_seen = df_train.groupby('user')['game_id'].agg(set).to_dict()\n",
        "\n",
        "#compute recall@K\n",
        "total = len(df_test)\n",
        "for K in (5, 10, 20):\n",
        "    hits = 0\n",
        "    for user, true in zip(df_test['user'], df_test['game_id']):\n",
        "        uidx = user2idx.get(user)\n",
        "        if uidx is None: \n",
        "            continue\n",
        "        scores = user_factors[uidx] @ item_factors.T\n",
        "        for gid in train_seen.get(user, ()):\n",
        "            idx = item2idx.get(gid)\n",
        "            if idx is not None:\n",
        "                scores[idx] = -np.inf\n",
        "        topk = np.argpartition(-scores, K)[:K]\n",
        "        hits += int(true in [items[j] for j in topk])\n",
        "    print(f\"cf recall@{K}: {hits/total:.4f}\")"
      ],
      "outputs": [
        {
          "output_type": "stream",
          "name": "stderr",
          "text": "/anaconda/envs/azureml_py38/lib/python3.10/site-packages/implicit/cpu/als.py:95: RuntimeWarning: OpenBLAS is configured to use 4 threads. It is highly recommended to disable its internal threadpool by setting the environment variable 'OPENBLAS_NUM_THREADS=1' or by calling 'threadpoolctl.threadpool_limits(1, \"blas\")'. Having OpenBLAS use a threadpool can lead to severe performance issues here.\n  check_blas_config()\n100%|██████████| 15/15 [00:59<00:00,  3.99s/it]\n"
        },
        {
          "output_type": "stream",
          "name": "stdout",
          "text": "cf recall@5: 0.1458\ncf recall@10: 0.2206\ncf recall@20: 0.3165\n"
        }
      ],
      "execution_count": 76,
      "metadata": {
        "gather": {
          "logged": 1752540497600
        }
      },
      "id": "8d68a875-6a35-44b6-ac69-5c513a269111"
    },
    {
      "cell_type": "markdown",
      "source": [
        "WOW! That's a **marked** improvement over any of my content-based models, speaking to the power of ALS with such a high volume of reviews to pull from, and reminding us of the limitations of content-based models when there are not terribly many features (category-based) or there are plenty, but they aren't necessarily reflective of the features that are important to users (text description-based)."
      ],
      "metadata": {
        "nteract": {
          "transient": {
            "deleting": false
          }
        }
      },
      "id": "0ccaa8fb-412f-4c5c-942c-f7cfdf762267"
    },
    {
      "cell_type": "markdown",
      "source": [
        "#### Conclusion"
      ],
      "metadata": {
        "nteract": {
          "transient": {
            "deleting": false
          }
        }
      },
      "id": "4e6e88a8-336f-4c2d-a2bb-78ef0353d10c"
    },
    {
      "cell_type": "markdown",
      "source": [
        "I was somewhat, but not entirely surprised to see that my content-based recommender relying on gameplay features was more effective than the system using the text-based descriptions for each board game. This suggests that board game enthusiasts may be swayed more by things that have a material impact on the playing experience, such as playing time and game mechanics, than by thematics or aesthetics (ie. fantasy, science fiction, animals). This tracks with my own personal experience, as I tend to play board games in groups of 4-6, so oftentimes a 2-person or 8-person game simply won't interest me. A game's description may be, in some ways, window-dressing. For example, I love the game \"Code Names,\" but not at all because it has a spy theme. Rather, I enjoy it because of the clever wordplay and teamwork aspects. I expect this is rather different than movies or TV shows, where preferences may well track along genre lines like spy thrillers, fantasy realms or superheroes.\n",
        "\n",
        "It was also telling that my quick collaborative-filtering model, which I spent much less time developing, performed so much better in terms of recall than any of my content-based models. This shows the power of recommending based on like preferences, and the degree to which board game fans tend to cluster around certain categories of game. I would be interested to proceed with an even more hybrid model drawing on the strengths of my feature-based learnings and the recall gains from Alternating Least Squares. But ultimately, this speaks to the power of sheer memory and compute power. With so many reviews to learn from, a collaborative-filtering approach using ALS can be tough to beat.\n"
      ],
      "metadata": {
        "nteract": {
          "transient": {
            "deleting": false
          }
        }
      },
      "id": "0e539ceb-1673-4525-b48d-a1adbdc67ee5"
    }
  ],
  "metadata": {
    "kernelspec": {
      "name": "python38-azureml",
      "language": "python",
      "display_name": "Python 3.10 - AzureML"
    },
    "language_info": {
      "name": "python",
      "version": "3.10.11",
      "mimetype": "text/x-python",
      "codemirror_mode": {
        "name": "ipython",
        "version": 3
      },
      "pygments_lexer": "ipython3",
      "nbconvert_exporter": "python",
      "file_extension": ".py"
    },
    "microsoft": {
      "ms_spell_check": {
        "ms_spell_check_language": "en"
      },
      "host": {
        "AzureML": {
          "notebookHasBeenCompleted": true
        }
      }
    },
    "kernel_info": {
      "name": "python38-azureml"
    },
    "nteract": {
      "version": "nteract-front-end@1.0.0"
    }
  },
  "nbformat": 4,
  "nbformat_minor": 5
}