{
 "cells": [
  {
   "cell_type": "markdown",
   "id": "2109d0bf-a084-47e4-b9c4-0125f246e98f",
   "metadata": {},
   "source": [
    "#### Final Project Plan"
   ]
  },
  {
   "cell_type": "markdown",
   "id": "c122d51a-bd35-45fc-aab8-4929f3cb1b4f",
   "metadata": {},
   "source": [
    "As a big fan of social table-top gaming, and all manner of board, card and dice games, I was thrilled to find a rich set of review data from BoardGameGeek.com [on kaggle](https://www.kaggle.com/datasets/jvanelteren/boardgamegeek-reviews/data?select=games_detailed_info2025.csv). The data consists of at least 15 million user reviews of various games on the site, with metadata on over 21 thousand distinct items (games).\n",
    "\n",
    "Because that metadata is itself quite rich, it lends itself a content-based approach for recommender systems. Games are tagged with useful attributes like category and game mechanic, as well as numerical values like recommended player count, age and release date (which could be reduced to categories themselves as needed). I expect that with this approach, I could get a strong sense of what to recommend for, say, someone who wants quick card games for their kids, or someone who wants complex, violent war games for their adult friend group and everything in between.\n",
    "\n",
    "But something else that really excited me about the data was that it includes a text description for each game as well. This affords me the opportunity to use a more \"unstructured\" data approach, converting those text strings into vectors, valued by wordcount or TF-IDF, and assessing potential recommendations that way. Then, I could compare which content-based approach is stronger, and make recommendations to game developers based on my findings--for example, to ensure that their descriptions are as detailed as possible, or that they tag their games accurately and comprehensively.\n",
    "\n",
    "Lastly, given I will have reduced everything to individual features, I would have the opportunity to combine each of them into a singular item x feature matrix, and see if such a hybrid approach is stronger than its individual components.\n",
    "\n",
    "I propose to do all of this on the Microsoft Azure platform in alignment with Project 6, as I struggled to build both content-based and collaborative filtering models on my local machine with *much* smaller data than this set, particularly given the amount of features in the board game metadata, and the sheer count of reviews."
   ]
  }
 ],
 "metadata": {
  "kernelspec": {
   "display_name": "Python 3 (ipykernel)",
   "language": "python",
   "name": "python3"
  },
  "language_info": {
   "codemirror_mode": {
    "name": "ipython",
    "version": 3
   },
   "file_extension": ".py",
   "mimetype": "text/x-python",
   "name": "python",
   "nbconvert_exporter": "python",
   "pygments_lexer": "ipython3",
   "version": "3.12.9"
  }
 },
 "nbformat": 4,
 "nbformat_minor": 5
}
