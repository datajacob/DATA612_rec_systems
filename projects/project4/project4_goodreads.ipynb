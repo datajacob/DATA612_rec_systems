{
 "cells": [
  {
   "cell_type": "code",
   "execution_count": 1,
   "id": "e38f5f36-eeea-40ee-82ea-8a5fa0a4f1ef",
   "metadata": {},
   "outputs": [
    {
     "name": "stderr",
     "output_type": "stream",
     "text": [
      "/Users/jacobsilver/miniconda3/lib/python3.12/site-packages/tqdm/auto.py:21: TqdmWarning: IProgress not found. Please update jupyter and ipywidgets. See https://ipywidgets.readthedocs.io/en/stable/user_install.html\n",
      "  from .autonotebook import tqdm as notebook_tqdm\n"
     ]
    }
   ],
   "source": [
    "import pandas as pd\n",
    "import numpy as np\n",
    "import requests\n",
    "import os\n",
    "import json\n",
    "import ijson\n",
    "import pyarrow as pa\n",
    "import pyarrow.parquet as pq\n",
    "from pathlib import Path\n",
    "from tqdm import tqdm\n",
    "from tqdm.auto import tqdm\n",
    "from scipy.sparse import csr_matrix\n",
    "from scipy.sparse.linalg import svds\n",
    "from sklearn.metrics import mean_squared_error\n",
    "from sklearn.metrics.pairwise import cosine_similarity, linear_kernel\n",
    "from sklearn.feature_extraction.text import TfidfVectorizer\n",
    "from sklearn.model_selection import train_test_split\n",
    "from sklearn.neighbors import NearestNeighbors\n",
    "from surprise import Dataset, Reader, SVD, KNNBasic, accuracy, SlopeOne\n",
    "from surprise.model_selection import GridSearchCV\n",
    "from implicit.bpr import BayesianPersonalizedRanking"
   ]
  },
  {
   "cell_type": "markdown",
   "id": "2424c3bd-0b1a-4e87-946e-1cc61782708c",
   "metadata": {},
   "source": [
    "#### Introduction"
   ]
  },
  {
   "cell_type": "markdown",
   "id": "ced46c01-835d-4255-ae64-097130d3f2e8",
   "metadata": {},
   "source": [
    "For this project, I will be using Goodreads data (https://cseweb.ucsd.edu/~jmcauley/datasets/goodreads.html) to build a book recommendation engine. The researchers who have curated this data helpfully split it up into different genres, and due to the limitations of working with very large data in a local environment, I will be building only off of the comic/graphic novel data. While genre spread is often a way recommender systems seek to maximize outside of accuracy, such as through diversity or serendipity, there is a great deal of variability even within particular genres (consider for example, the tonal difference between a teen-focused Spiderman comic as opposed to *Maus*, a postmodern Holocaust analogy).\n",
    "\n",
    "This is also an area of book sales that may see special benefit from optimizations beyond accuracy. Pure similarity may select for the appearance of particular superheroes, who tend to recur and intersect across many different storylines (I mean, think of how hard it is to keep up with Marvel movies!), or even within the same series. It is easy to imagine a recommender system over-indexing on particular characters or series at the expense of exploration and new frontiers.\n",
    "\n",
    "Nonetheless, we will begin with a content-based system leveraging the description 'blurbs' included in the book data. But first, let's pull in the data and get an understanding of its contents."
   ]
  },
  {
   "cell_type": "code",
   "execution_count": 2,
   "id": "3584db40-a299-45df-aed7-006d3a6d1cfa",
   "metadata": {},
   "outputs": [],
   "source": [
    "#os.listdir('data_comics')"
   ]
  },
  {
   "cell_type": "markdown",
   "id": "7c86c2ba-266c-4a78-ae8d-e31e2f13401b",
   "metadata": {},
   "source": [
    "**Books data:**"
   ]
  },
  {
   "cell_type": "code",
   "execution_count": 3,
   "id": "ffa20bfc-2dfd-475d-9d04-24ba8f57fcfc",
   "metadata": {},
   "outputs": [],
   "source": [
    "#Books data + metadata fields\n",
    "df_b = pd.read_json('data_comics/goodreads_books_comics_graphic.json', lines=True)"
   ]
  },
  {
   "cell_type": "code",
   "execution_count": 4,
   "id": "fcc8fe56-34ae-4225-bf5e-76c3a68a9007",
   "metadata": {},
   "outputs": [
    {
     "data": {
      "text/html": [
       "<div>\n",
       "<style scoped>\n",
       "    .dataframe tbody tr th:only-of-type {\n",
       "        vertical-align: middle;\n",
       "    }\n",
       "\n",
       "    .dataframe tbody tr th {\n",
       "        vertical-align: top;\n",
       "    }\n",
       "\n",
       "    .dataframe thead th {\n",
       "        text-align: right;\n",
       "    }\n",
       "</style>\n",
       "<table border=\"1\" class=\"dataframe\">\n",
       "  <thead>\n",
       "    <tr style=\"text-align: right;\">\n",
       "      <th></th>\n",
       "      <th>isbn</th>\n",
       "      <th>text_reviews_count</th>\n",
       "      <th>series</th>\n",
       "      <th>country_code</th>\n",
       "      <th>language_code</th>\n",
       "      <th>popular_shelves</th>\n",
       "      <th>asin</th>\n",
       "      <th>is_ebook</th>\n",
       "      <th>average_rating</th>\n",
       "      <th>kindle_asin</th>\n",
       "      <th>...</th>\n",
       "      <th>publication_month</th>\n",
       "      <th>edition_information</th>\n",
       "      <th>publication_year</th>\n",
       "      <th>url</th>\n",
       "      <th>image_url</th>\n",
       "      <th>book_id</th>\n",
       "      <th>ratings_count</th>\n",
       "      <th>work_id</th>\n",
       "      <th>title</th>\n",
       "      <th>title_without_series</th>\n",
       "    </tr>\n",
       "  </thead>\n",
       "  <tbody>\n",
       "    <tr>\n",
       "      <th>0</th>\n",
       "      <td></td>\n",
       "      <td>1</td>\n",
       "      <td>[]</td>\n",
       "      <td>US</td>\n",
       "      <td></td>\n",
       "      <td>[{'count': '228', 'name': 'to-read'}, {'count'...</td>\n",
       "      <td>B00NLXQ534</td>\n",
       "      <td>true</td>\n",
       "      <td>4.12</td>\n",
       "      <td></td>\n",
       "      <td>...</td>\n",
       "      <td></td>\n",
       "      <td></td>\n",
       "      <td></td>\n",
       "      <td>https://www.goodreads.com/book/show/25742454-t...</td>\n",
       "      <td>https://s.gr-assets.com/assets/nophoto/book/11...</td>\n",
       "      <td>25742454</td>\n",
       "      <td>1</td>\n",
       "      <td>42749946</td>\n",
       "      <td>The Switchblade Mamma</td>\n",
       "      <td>The Switchblade Mamma</td>\n",
       "    </tr>\n",
       "    <tr>\n",
       "      <th>1</th>\n",
       "      <td>2205073346</td>\n",
       "      <td>2</td>\n",
       "      <td>[]</td>\n",
       "      <td>US</td>\n",
       "      <td>fre</td>\n",
       "      <td>[{'count': '2', 'name': 'bd'}, {'count': '2', ...</td>\n",
       "      <td></td>\n",
       "      <td>false</td>\n",
       "      <td>3.94</td>\n",
       "      <td></td>\n",
       "      <td>...</td>\n",
       "      <td>1</td>\n",
       "      <td></td>\n",
       "      <td>2016</td>\n",
       "      <td>https://www.goodreads.com/book/show/30128855-c...</td>\n",
       "      <td>https://images.gr-assets.com/books/1462644346m...</td>\n",
       "      <td>30128855</td>\n",
       "      <td>16</td>\n",
       "      <td>50558228</td>\n",
       "      <td>Cruelle</td>\n",
       "      <td>Cruelle</td>\n",
       "    </tr>\n",
       "    <tr>\n",
       "      <th>2</th>\n",
       "      <td></td>\n",
       "      <td>5</td>\n",
       "      <td>[246830, 362583, 362581, 623032]</td>\n",
       "      <td>US</td>\n",
       "      <td>eng</td>\n",
       "      <td>[{'count': '493', 'name': 'to-read'}, {'count'...</td>\n",
       "      <td></td>\n",
       "      <td>false</td>\n",
       "      <td>4.28</td>\n",
       "      <td></td>\n",
       "      <td>...</td>\n",
       "      <td></td>\n",
       "      <td></td>\n",
       "      <td>2012</td>\n",
       "      <td>https://www.goodreads.com/book/show/13571772-c...</td>\n",
       "      <td>https://images.gr-assets.com/books/1333287305m...</td>\n",
       "      <td>13571772</td>\n",
       "      <td>51</td>\n",
       "      <td>102217</td>\n",
       "      <td>Captain America: Winter Soldier (The Ultimate ...</td>\n",
       "      <td>Captain America: Winter Soldier (The Ultimate ...</td>\n",
       "    </tr>\n",
       "    <tr>\n",
       "      <th>3</th>\n",
       "      <td></td>\n",
       "      <td>1</td>\n",
       "      <td>[]</td>\n",
       "      <td>US</td>\n",
       "      <td>eng</td>\n",
       "      <td>[{'count': '222', 'name': 'to-read'}, {'count'...</td>\n",
       "      <td>B06XKGGSB7</td>\n",
       "      <td>true</td>\n",
       "      <td>4.05</td>\n",
       "      <td>B06XKGGSB7</td>\n",
       "      <td>...</td>\n",
       "      <td></td>\n",
       "      <td></td>\n",
       "      <td></td>\n",
       "      <td>https://www.goodreads.com/book/show/35452242-b...</td>\n",
       "      <td>https://s.gr-assets.com/assets/nophoto/book/11...</td>\n",
       "      <td>35452242</td>\n",
       "      <td>6</td>\n",
       "      <td>54276229</td>\n",
       "      <td>Bounty Hunter 4/3: My Life in Combat from Mari...</td>\n",
       "      <td>Bounty Hunter 4/3: My Life in Combat from Mari...</td>\n",
       "    </tr>\n",
       "    <tr>\n",
       "      <th>4</th>\n",
       "      <td>0930289765</td>\n",
       "      <td>6</td>\n",
       "      <td>[266759, 1096220]</td>\n",
       "      <td>US</td>\n",
       "      <td>en-US</td>\n",
       "      <td>[{'count': '20', 'name': 'to-read'}, {'count':...</td>\n",
       "      <td></td>\n",
       "      <td>false</td>\n",
       "      <td>4.06</td>\n",
       "      <td></td>\n",
       "      <td>...</td>\n",
       "      <td>11</td>\n",
       "      <td></td>\n",
       "      <td>1997</td>\n",
       "      <td>https://www.goodreads.com/book/show/707611.Sup...</td>\n",
       "      <td>https://images.gr-assets.com/books/1307838888m...</td>\n",
       "      <td>707611</td>\n",
       "      <td>51</td>\n",
       "      <td>693886</td>\n",
       "      <td>Superman Archives, Vol. 2</td>\n",
       "      <td>Superman Archives, Vol. 2</td>\n",
       "    </tr>\n",
       "  </tbody>\n",
       "</table>\n",
       "<p>5 rows × 29 columns</p>\n",
       "</div>"
      ],
      "text/plain": [
       "         isbn  text_reviews_count                            series  \\\n",
       "0                               1                                []   \n",
       "1  2205073346                   2                                []   \n",
       "2                               5  [246830, 362583, 362581, 623032]   \n",
       "3                               1                                []   \n",
       "4  0930289765                   6                 [266759, 1096220]   \n",
       "\n",
       "  country_code language_code  \\\n",
       "0           US                 \n",
       "1           US           fre   \n",
       "2           US           eng   \n",
       "3           US           eng   \n",
       "4           US         en-US   \n",
       "\n",
       "                                     popular_shelves        asin is_ebook  \\\n",
       "0  [{'count': '228', 'name': 'to-read'}, {'count'...  B00NLXQ534     true   \n",
       "1  [{'count': '2', 'name': 'bd'}, {'count': '2', ...                false   \n",
       "2  [{'count': '493', 'name': 'to-read'}, {'count'...                false   \n",
       "3  [{'count': '222', 'name': 'to-read'}, {'count'...  B06XKGGSB7     true   \n",
       "4  [{'count': '20', 'name': 'to-read'}, {'count':...                false   \n",
       "\n",
       "   average_rating kindle_asin  ... publication_month edition_information  \\\n",
       "0            4.12              ...                                         \n",
       "1            3.94              ...                 1                       \n",
       "2            4.28              ...                                         \n",
       "3            4.05  B06XKGGSB7  ...                                         \n",
       "4            4.06              ...                11                       \n",
       "\n",
       "  publication_year                                                url  \\\n",
       "0                   https://www.goodreads.com/book/show/25742454-t...   \n",
       "1             2016  https://www.goodreads.com/book/show/30128855-c...   \n",
       "2             2012  https://www.goodreads.com/book/show/13571772-c...   \n",
       "3                   https://www.goodreads.com/book/show/35452242-b...   \n",
       "4             1997  https://www.goodreads.com/book/show/707611.Sup...   \n",
       "\n",
       "                                           image_url   book_id ratings_count  \\\n",
       "0  https://s.gr-assets.com/assets/nophoto/book/11...  25742454             1   \n",
       "1  https://images.gr-assets.com/books/1462644346m...  30128855            16   \n",
       "2  https://images.gr-assets.com/books/1333287305m...  13571772            51   \n",
       "3  https://s.gr-assets.com/assets/nophoto/book/11...  35452242             6   \n",
       "4  https://images.gr-assets.com/books/1307838888m...    707611            51   \n",
       "\n",
       "    work_id                                              title  \\\n",
       "0  42749946                              The Switchblade Mamma   \n",
       "1  50558228                                            Cruelle   \n",
       "2    102217  Captain America: Winter Soldier (The Ultimate ...   \n",
       "3  54276229  Bounty Hunter 4/3: My Life in Combat from Mari...   \n",
       "4    693886                          Superman Archives, Vol. 2   \n",
       "\n",
       "                                title_without_series  \n",
       "0                              The Switchblade Mamma  \n",
       "1                                            Cruelle  \n",
       "2  Captain America: Winter Soldier (The Ultimate ...  \n",
       "3  Bounty Hunter 4/3: My Life in Combat from Mari...  \n",
       "4                          Superman Archives, Vol. 2  \n",
       "\n",
       "[5 rows x 29 columns]"
      ]
     },
     "execution_count": 4,
     "metadata": {},
     "output_type": "execute_result"
    }
   ],
   "source": [
    "df_b.head()"
   ]
  },
  {
   "cell_type": "markdown",
   "id": "c4eaa39f-4d39-45fa-9155-9caae27832b6",
   "metadata": {},
   "source": [
    "There is a lot of information contained here which, while interesting, is not material either to building a recommender or understanding its outputs. Let's filter down only the most important fields: isbn and book_id (identifiers), description (the text field we'll use to define book similarity), and a few additional fields of analytical interest:"
   ]
  },
  {
   "cell_type": "code",
   "execution_count": 5,
   "id": "f400c324-3cef-440a-9288-6d357c5dcab8",
   "metadata": {},
   "outputs": [],
   "source": [
    "#paring down cols but retaining some basic information that might be worth analyzing\n",
    "df_b = df_b[['isbn', 'country_code', 'language_code', 'average_rating',\n",
    "      'description', 'authors','num_pages', 'publication_year',\n",
    "      'book_id', 'ratings_count',  'title']]"
   ]
  },
  {
   "cell_type": "code",
   "execution_count": 6,
   "id": "cd38636e-135c-4581-82e4-d4dca6b98b0b",
   "metadata": {},
   "outputs": [
    {
     "data": {
      "text/html": [
       "<div>\n",
       "<style scoped>\n",
       "    .dataframe tbody tr th:only-of-type {\n",
       "        vertical-align: middle;\n",
       "    }\n",
       "\n",
       "    .dataframe tbody tr th {\n",
       "        vertical-align: top;\n",
       "    }\n",
       "\n",
       "    .dataframe thead th {\n",
       "        text-align: right;\n",
       "    }\n",
       "</style>\n",
       "<table border=\"1\" class=\"dataframe\">\n",
       "  <thead>\n",
       "    <tr style=\"text-align: right;\">\n",
       "      <th></th>\n",
       "      <th>isbn</th>\n",
       "      <th>country_code</th>\n",
       "      <th>language_code</th>\n",
       "      <th>average_rating</th>\n",
       "      <th>description</th>\n",
       "      <th>authors</th>\n",
       "      <th>num_pages</th>\n",
       "      <th>publication_year</th>\n",
       "      <th>book_id</th>\n",
       "      <th>ratings_count</th>\n",
       "      <th>title</th>\n",
       "    </tr>\n",
       "  </thead>\n",
       "  <tbody>\n",
       "    <tr>\n",
       "      <th>0</th>\n",
       "      <td></td>\n",
       "      <td>US</td>\n",
       "      <td></td>\n",
       "      <td>4.12</td>\n",
       "      <td>Lillian Ann Cross is forced to live the worst ...</td>\n",
       "      <td>[{'author_id': '8551671', 'role': ''}]</td>\n",
       "      <td></td>\n",
       "      <td></td>\n",
       "      <td>25742454</td>\n",
       "      <td>1</td>\n",
       "      <td>The Switchblade Mamma</td>\n",
       "    </tr>\n",
       "    <tr>\n",
       "      <th>1</th>\n",
       "      <td>2205073346</td>\n",
       "      <td>US</td>\n",
       "      <td>fre</td>\n",
       "      <td>3.94</td>\n",
       "      <td>Florence Dupre Latour raconte comment, de son ...</td>\n",
       "      <td>[{'author_id': '3274315', 'role': ''}]</td>\n",
       "      <td></td>\n",
       "      <td>2016</td>\n",
       "      <td>30128855</td>\n",
       "      <td>16</td>\n",
       "      <td>Cruelle</td>\n",
       "    </tr>\n",
       "    <tr>\n",
       "      <th>2</th>\n",
       "      <td></td>\n",
       "      <td>US</td>\n",
       "      <td>eng</td>\n",
       "      <td>4.28</td>\n",
       "      <td>The questions plaguing Captain America's dream...</td>\n",
       "      <td>[{'author_id': '37450', 'role': ''}]</td>\n",
       "      <td>146</td>\n",
       "      <td>2012</td>\n",
       "      <td>13571772</td>\n",
       "      <td>51</td>\n",
       "      <td>Captain America: Winter Soldier (The Ultimate ...</td>\n",
       "    </tr>\n",
       "    <tr>\n",
       "      <th>3</th>\n",
       "      <td></td>\n",
       "      <td>US</td>\n",
       "      <td>eng</td>\n",
       "      <td>4.05</td>\n",
       "      <td>The fight for Jason Delgado's life and soul be...</td>\n",
       "      <td>[{'author_id': '16209952', 'role': ''}, {'auth...</td>\n",
       "      <td></td>\n",
       "      <td></td>\n",
       "      <td>35452242</td>\n",
       "      <td>6</td>\n",
       "      <td>Bounty Hunter 4/3: My Life in Combat from Mari...</td>\n",
       "    </tr>\n",
       "    <tr>\n",
       "      <th>4</th>\n",
       "      <td>0930289765</td>\n",
       "      <td>US</td>\n",
       "      <td>en-US</td>\n",
       "      <td>4.06</td>\n",
       "      <td>These are the stories that catapulted Superman...</td>\n",
       "      <td>[{'author_id': '81563', 'role': ''}, {'author_...</td>\n",
       "      <td>272</td>\n",
       "      <td>1997</td>\n",
       "      <td>707611</td>\n",
       "      <td>51</td>\n",
       "      <td>Superman Archives, Vol. 2</td>\n",
       "    </tr>\n",
       "  </tbody>\n",
       "</table>\n",
       "</div>"
      ],
      "text/plain": [
       "         isbn country_code language_code  average_rating  \\\n",
       "0                       US                          4.12   \n",
       "1  2205073346           US           fre            3.94   \n",
       "2                       US           eng            4.28   \n",
       "3                       US           eng            4.05   \n",
       "4  0930289765           US         en-US            4.06   \n",
       "\n",
       "                                         description  \\\n",
       "0  Lillian Ann Cross is forced to live the worst ...   \n",
       "1  Florence Dupre Latour raconte comment, de son ...   \n",
       "2  The questions plaguing Captain America's dream...   \n",
       "3  The fight for Jason Delgado's life and soul be...   \n",
       "4  These are the stories that catapulted Superman...   \n",
       "\n",
       "                                             authors num_pages  \\\n",
       "0             [{'author_id': '8551671', 'role': ''}]             \n",
       "1             [{'author_id': '3274315', 'role': ''}]             \n",
       "2               [{'author_id': '37450', 'role': ''}]       146   \n",
       "3  [{'author_id': '16209952', 'role': ''}, {'auth...             \n",
       "4  [{'author_id': '81563', 'role': ''}, {'author_...       272   \n",
       "\n",
       "  publication_year   book_id  ratings_count  \\\n",
       "0                   25742454              1   \n",
       "1             2016  30128855             16   \n",
       "2             2012  13571772             51   \n",
       "3                   35452242              6   \n",
       "4             1997    707611             51   \n",
       "\n",
       "                                               title  \n",
       "0                              The Switchblade Mamma  \n",
       "1                                            Cruelle  \n",
       "2  Captain America: Winter Soldier (The Ultimate ...  \n",
       "3  Bounty Hunter 4/3: My Life in Combat from Mari...  \n",
       "4                          Superman Archives, Vol. 2  "
      ]
     },
     "execution_count": 6,
     "metadata": {},
     "output_type": "execute_result"
    }
   ],
   "source": [
    "df_b.head()"
   ]
  },
  {
   "cell_type": "code",
   "execution_count": 7,
   "id": "92f1a991-87e0-4875-a340-e3658a60e5e8",
   "metadata": {},
   "outputs": [
    {
     "data": {
      "text/plain": [
       "country_code\n",
       "US    89411\n",
       "Name: count, dtype: int64"
      ]
     },
     "execution_count": 7,
     "metadata": {},
     "output_type": "execute_result"
    }
   ],
   "source": [
    "df_b['country_code'].value_counts()"
   ]
  },
  {
   "cell_type": "code",
   "execution_count": 8,
   "id": "51ffe420-d24e-4fb0-a311-e45289e9d94d",
   "metadata": {},
   "outputs": [
    {
     "data": {
      "text/plain": [
       "<Axes: xlabel='language_code'>"
      ]
     },
     "execution_count": 8,
     "metadata": {},
     "output_type": "execute_result"
    },
    {
     "data": {
      "image/png": "[encoded data removed]",
      "text/plain": [
       "<Figure size 640x480 with 1 Axes>"
      ]
     },
     "metadata": {},
     "output_type": "display_data"
    }
   ],
   "source": [
    "df_b['language_code'].value_counts()[:10].plot(kind='bar')"
   ]
  },
  {
   "cell_type": "markdown",
   "id": "5e32f6db-5550-4b80-9fbb-d971b5808289",
   "metadata": {},
   "source": [
    "We can see that according to the data, all of the books are from the US, though there is greater linguistic spread. A slight plurality of books do not have a language marked, while most of the marked books are in English. That said, there are thousands of entries in French, Indonesian, Spanish, Japanese and more. "
   ]
  },
  {
   "cell_type": "code",
   "execution_count": 9,
   "id": "0ed56ffd-afb5-49cd-81a6-701adf0c918a",
   "metadata": {},
   "outputs": [
    {
     "data": {
      "text/plain": [
       "<Axes: >"
      ]
     },
     "execution_count": 9,
     "metadata": {},
     "output_type": "execute_result"
    },
    {
     "data": {
      "image/png": "[encoded data removed]",
      "text/plain": [
       "<Figure size 640x480 with 1 Axes>"
      ]
     },
     "metadata": {},
     "output_type": "display_data"
    }
   ],
   "source": [
    "#histogram of rough word count\n",
    "df_b['description'].apply(lambda x: len(x.split(' '))).hist(bins=100)"
   ]
  },
  {
   "cell_type": "markdown",
   "id": "10011ec0-319f-4081-abc9-ff0f94330e5b",
   "metadata": {},
   "source": [
    "We have a rather normal distribution of wordcounts, though there are clearly a large number of books with a null description. Since we are depending on that field to gauge similarity, we'll need to filter out books with that quality, both from our books data and in the ratings data below."
   ]
  },
  {
   "cell_type": "code",
   "execution_count": 10,
   "id": "22955adf-fa13-4f4d-922c-7435cc040f72",
   "metadata": {},
   "outputs": [],
   "source": [
    "df_b = df_b[df_b['description'].apply(len)!=0]"
   ]
  },
  {
   "cell_type": "code",
   "execution_count": 11,
   "id": "f7d2603e-236b-43cc-b4d4-cda92073da3a",
   "metadata": {},
   "outputs": [
    {
     "data": {
      "text/plain": [
       "<Axes: >"
      ]
     },
     "execution_count": 11,
     "metadata": {},
     "output_type": "execute_result"
    },
    {
     "data": {
      "image/png": "[encoded data removed]",
      "text/plain": [
       "<Figure size 640x480 with 1 Axes>"
      ]
     },
     "metadata": {},
     "output_type": "display_data"
    }
   ],
   "source": [
    "df_b['description'].apply(lambda x: len(x.split(' '))).hist(bins=100)"
   ]
  },
  {
   "cell_type": "markdown",
   "id": "0aa6a397-a557-467e-bf04-5f7b73a25920",
   "metadata": {},
   "source": [
    "Much better--we can see that the standard description contains 100-200 words or so. Here's a brief sampling of them:"
   ]
  },
  {
   "cell_type": "code",
   "execution_count": 12,
   "id": "bbdadbb8-e27b-47f5-9342-8c651165ca76",
   "metadata": {},
   "outputs": [
    {
     "name": "stdout",
     "output_type": "stream",
     "text": [
      "SHIRLEY JACKSON'S \"THE LOTTERY\": THE AUTHORIZED GRAPHIC ADAPTATION\n",
      "The classic short story--now in full color\n",
      "Shirley Jackson's \"The Lottery\" continues to thrill and unsettle readers nearly seven decades after it was first published. By turns puzzling and harrowing, it raises troubling questions about conformity, tradition, and the specter of ritualized violence that haunts even the most bucolic, peaceful village. This graphic adaptation, published in time for Jackson's centennial, allows readers to experience \"The Lottery\" as never before, or discover it anew. The visual artist--and Jackson's grandson--Miles Hyman has crafted an eerie vision of the hamlet where the tale unfolds, its inhabitants, and the unforgettable ritual they set into motion. His four-color, meticulously detailed panels create a noirish atmosphere that adds a new dimension of dread to the original tale. Perfectly timed to the current resurgence of interest in Jackson and her work, Shirley Jackson's \"The Lottery\": The Authorized Graphic Adaptationmasterfully reimagines her iconic story with a striking visual narrative.\n",
      "SATSUMA GISHIDEN: VOLUME 1 THE LEGEND OF THE SATSUMA SAMURAI\n",
      "This is the Edo-era samurai guts. Controversial, tough, angry, highly skilled and lost in a time of peace, the characters of Satsuma Gishiden tell a quasi-historical tale of social caste and brutal reprisal.\n",
      "Readers with a taste for Kazuo Koike s gritty Lone Wolf & Cub will go nuts for master gekiga artist Hiroshi Hirata s tome of samurai struggle. Hirata s art and calligraphy leap off the page during scenes of action, only to unfold upon a full bleed that looks like a fine plate print. It s art at is most expressive, accentuating the classic stoic samurai characters you ve come to know, only with a little more true society thrown in to help the reader understand what it was really like to be a warrior without a war.\"\n",
      "DRAGONLAST\n",
      "\"In the beggining of time, dragons ruled over the world.They were mighty creatures, gifted, with intellect and magic skills. Yet despite their intellect, they were selfish and cruel... Which drove them into a war for supremacy. And that became the cause of their downfall. Over the centuries they slew each other without mercy, bringing misfortune to ebery creature great and small...\n",
      "And that is now - from gods - they turned into beasts. But in their shadow another race arose...\n",
      "...humans. \"\n",
      "This is a story about the change of times when the old gods lose their power and have been replaced from the humanity. Two legendary heroes born from the violent contact between the dragons and humans establish the new world order.\n"
     ]
    }
   ],
   "source": [
    "for i in range(0, 3):\n",
    "    print(str.upper(df_b.sample(5, random_state=905)[['title','description']].iloc[i,0]))\n",
    "    print(df_b.sample(5, random_state=905)[['title','description']].iloc[i,1])"
   ]
  },
  {
   "cell_type": "markdown",
   "id": "1d8dbf42-08bf-4fe1-9915-09a677c738f6",
   "metadata": {},
   "source": [
    "Here we can already get a sense of the rich texture of these descriptions, and some of the vibes (\"eerie\", \"quasi-historical\", \"legendary\") that different snippets seek to convey."
   ]
  },
  {
   "cell_type": "markdown",
   "id": "b8854b3a-72f1-470e-aa46-6bbdb116cc7a",
   "metadata": {},
   "source": [
    "**Ratings Data:**"
   ]
  },
  {
   "cell_type": "markdown",
   "id": "ebf76033-acfa-43b1-8866-97de78215fb7",
   "metadata": {},
   "source": [
    "Because the ratings data is significantly bigger, it needs to be imported in chunks."
   ]
  },
  {
   "cell_type": "code",
   "execution_count": 13,
   "id": "327b26a1-aa4c-448e-a4cc-8e6a7fc8f349",
   "metadata": {},
   "outputs": [
    {
     "name": "stderr",
     "output_type": "stream",
     "text": [
      "Loading JSON chunks: 100%|████████████████████| 294/294 [03:22<00:00,  1.45it/s]\n"
     ]
    }
   ],
   "source": [
    "chunks = pd.read_json(\n",
    "    'data_comics/goodreads_interactions_comics_graphic.json',\n",
    "    lines=True,\n",
    "    chunksize=25_000\n",
    ")\n",
    "\n",
    "# if you don’t know the total up front, tqdm will just show an indeterminate spinner\n",
    "df_i = pd.concat(\n",
    "    tqdm(chunks, desc='Loading JSON chunks', total=294),\n",
    "    ignore_index=True\n",
    ")"
   ]
  },
  {
   "cell_type": "code",
   "execution_count": 14,
   "id": "67cb5dfb-21f9-4fc1-9c9f-bae036603414",
   "metadata": {},
   "outputs": [
    {
     "data": {
      "text/html": [
       "<div>\n",
       "<style scoped>\n",
       "    .dataframe tbody tr th:only-of-type {\n",
       "        vertical-align: middle;\n",
       "    }\n",
       "\n",
       "    .dataframe tbody tr th {\n",
       "        vertical-align: top;\n",
       "    }\n",
       "\n",
       "    .dataframe thead th {\n",
       "        text-align: right;\n",
       "    }\n",
       "</style>\n",
       "<table border=\"1\" class=\"dataframe\">\n",
       "  <thead>\n",
       "    <tr style=\"text-align: right;\">\n",
       "      <th></th>\n",
       "      <th>user_id</th>\n",
       "      <th>book_id</th>\n",
       "      <th>review_id</th>\n",
       "      <th>is_read</th>\n",
       "      <th>rating</th>\n",
       "      <th>review_text_incomplete</th>\n",
       "      <th>date_added</th>\n",
       "      <th>date_updated</th>\n",
       "      <th>read_at</th>\n",
       "      <th>started_at</th>\n",
       "    </tr>\n",
       "  </thead>\n",
       "  <tbody>\n",
       "    <tr>\n",
       "      <th>0</th>\n",
       "      <td>8842281e1d1347389f2ab93d60773d4d</td>\n",
       "      <td>836610</td>\n",
       "      <td>6b4db26aafeaf0da77c7de6214331e1e</td>\n",
       "      <td>False</td>\n",
       "      <td>0</td>\n",
       "      <td></td>\n",
       "      <td>Mon Aug 21 12:11:00 -0700 2017</td>\n",
       "      <td>Mon Aug 21 12:11:00 -0700 2017</td>\n",
       "      <td></td>\n",
       "      <td></td>\n",
       "    </tr>\n",
       "    <tr>\n",
       "      <th>1</th>\n",
       "      <td>8842281e1d1347389f2ab93d60773d4d</td>\n",
       "      <td>7648967</td>\n",
       "      <td>99b27059f711c37de8f90ee8e4dc0d1b</td>\n",
       "      <td>False</td>\n",
       "      <td>0</td>\n",
       "      <td></td>\n",
       "      <td>Fri Feb 24 08:59:44 -0800 2017</td>\n",
       "      <td>Fri Feb 24 08:59:44 -0800 2017</td>\n",
       "      <td></td>\n",
       "      <td></td>\n",
       "    </tr>\n",
       "    <tr>\n",
       "      <th>2</th>\n",
       "      <td>8842281e1d1347389f2ab93d60773d4d</td>\n",
       "      <td>15704307</td>\n",
       "      <td>cb944d94854df5afd22210bb0aa0c903</td>\n",
       "      <td>False</td>\n",
       "      <td>0</td>\n",
       "      <td></td>\n",
       "      <td>Wed May 20 21:28:56 -0700 2015</td>\n",
       "      <td>Wed May 20 21:28:57 -0700 2015</td>\n",
       "      <td></td>\n",
       "      <td></td>\n",
       "    </tr>\n",
       "    <tr>\n",
       "      <th>3</th>\n",
       "      <td>8842281e1d1347389f2ab93d60773d4d</td>\n",
       "      <td>6902644</td>\n",
       "      <td>2711bac2a8cc600dae1590a6ca0edb34</td>\n",
       "      <td>False</td>\n",
       "      <td>0</td>\n",
       "      <td></td>\n",
       "      <td>Sun Jun 01 17:25:23 -0700 2014</td>\n",
       "      <td>Sun Jun 01 17:25:23 -0700 2014</td>\n",
       "      <td></td>\n",
       "      <td></td>\n",
       "    </tr>\n",
       "    <tr>\n",
       "      <th>4</th>\n",
       "      <td>8842281e1d1347389f2ab93d60773d4d</td>\n",
       "      <td>9844623</td>\n",
       "      <td>b72979076d1cded25dded922195e5b1c</td>\n",
       "      <td>False</td>\n",
       "      <td>0</td>\n",
       "      <td></td>\n",
       "      <td>Sun Sep 02 08:45:08 -0700 2012</td>\n",
       "      <td>Sun Sep 02 08:45:08 -0700 2012</td>\n",
       "      <td></td>\n",
       "      <td></td>\n",
       "    </tr>\n",
       "  </tbody>\n",
       "</table>\n",
       "</div>"
      ],
      "text/plain": [
       "                            user_id   book_id  \\\n",
       "0  8842281e1d1347389f2ab93d60773d4d    836610   \n",
       "1  8842281e1d1347389f2ab93d60773d4d   7648967   \n",
       "2  8842281e1d1347389f2ab93d60773d4d  15704307   \n",
       "3  8842281e1d1347389f2ab93d60773d4d   6902644   \n",
       "4  8842281e1d1347389f2ab93d60773d4d   9844623   \n",
       "\n",
       "                          review_id  is_read  rating review_text_incomplete  \\\n",
       "0  6b4db26aafeaf0da77c7de6214331e1e    False       0                          \n",
       "1  99b27059f711c37de8f90ee8e4dc0d1b    False       0                          \n",
       "2  cb944d94854df5afd22210bb0aa0c903    False       0                          \n",
       "3  2711bac2a8cc600dae1590a6ca0edb34    False       0                          \n",
       "4  b72979076d1cded25dded922195e5b1c    False       0                          \n",
       "\n",
       "                       date_added                    date_updated read_at  \\\n",
       "0  Mon Aug 21 12:11:00 -0700 2017  Mon Aug 21 12:11:00 -0700 2017           \n",
       "1  Fri Feb 24 08:59:44 -0800 2017  Fri Feb 24 08:59:44 -0800 2017           \n",
       "2  Wed May 20 21:28:56 -0700 2015  Wed May 20 21:28:57 -0700 2015           \n",
       "3  Sun Jun 01 17:25:23 -0700 2014  Sun Jun 01 17:25:23 -0700 2014           \n",
       "4  Sun Sep 02 08:45:08 -0700 2012  Sun Sep 02 08:45:08 -0700 2012           \n",
       "\n",
       "  started_at  \n",
       "0             \n",
       "1             \n",
       "2             \n",
       "3             \n",
       "4             "
      ]
     },
     "execution_count": 14,
     "metadata": {},
     "output_type": "execute_result"
    }
   ],
   "source": [
    "df_i.head()"
   ]
  },
  {
   "cell_type": "markdown",
   "id": "bf1f6c83-d13b-4f99-849a-e01e876f53be",
   "metadata": {},
   "source": [
    "The ratings data is less cluttered, but still, for our purposes all we need is a the user_id for the user giving a rating, the book_id of the rated book and the rating itself."
   ]
  },
  {
   "cell_type": "code",
   "execution_count": 15,
   "id": "52b9c283-9ae6-498c-a1f9-862635cf838c",
   "metadata": {},
   "outputs": [],
   "source": [
    "#reducing to only user, book and rating\n",
    "df_i = df_i[['user_id','book_id','rating']]"
   ]
  },
  {
   "cell_type": "markdown",
   "id": "8e279495-ccb2-4937-adca-63fa111e4218",
   "metadata": {},
   "source": [
    "Now we need to filter this data down, both for reasonability and size. We can start by eliminating any reviews of the books we took out of the books data for lacking a description:"
   ]
  },
  {
   "cell_type": "code",
   "execution_count": 27,
   "id": "1d37a7c1-aa12-4ba9-9ef3-c4fd80f1c565",
   "metadata": {},
   "outputs": [],
   "source": [
    "df_i = df_i[df_i['book_id'].isin(df_b['book_id'])]"
   ]
  },
  {
   "cell_type": "markdown",
   "id": "fcc37262-dbd6-45a7-a0d3-ac056dbd7007",
   "metadata": {},
   "source": [
    "Now let's get a quick sense of the rating scale and how the ratings themselves shake out:"
   ]
  },
  {
   "cell_type": "code",
   "execution_count": 28,
   "id": "089bd9b7-023d-4f3c-9e93-41963d583443",
   "metadata": {},
   "outputs": [
    {
     "data": {
      "text/plain": [
       "<Axes: >"
      ]
     },
     "execution_count": 28,
     "metadata": {},
     "output_type": "execute_result"
    },
    {
     "data": {
      "image/png": "[encoded data removed]",
      "text/plain": [
       "<Figure size 640x480 with 1 Axes>"
      ]
     },
     "metadata": {},
     "output_type": "display_data"
    }
   ],
   "source": [
    "df_i['rating'].hist()"
   ]
  },
  {
   "cell_type": "markdown",
   "id": "96002a91-6102-4bc8-9f3f-2fba7e4ef6c5",
   "metadata": {},
   "source": [
    "Two major takeaways from the above. One is that the ratings themselves skew high (most are 4s and 5s), possibly speaking to the fandom-driven nature of the comic and graphic novel genres. In order to understand if that's a true effect, we'd need to pull in the data for other genres, which is out of scope for this analysis.\n",
    "\n",
    "**More importantly for the task at hand**, there is a proliferation of \"0\" ratings. Desk research shows that Goodreads does not offer the option to give zero stars, so we're left to understand that these are actually null values that we can filter out, as they don't provide useful numerical data on which to train our model."
   ]
  },
  {
   "cell_type": "code",
   "execution_count": 29,
   "id": "e27a524d-d23a-434d-a1a5-64cb96e883be",
   "metadata": {},
   "outputs": [],
   "source": [
    "df_i = df_i[df_i['rating']>0]"
   ]
  },
  {
   "cell_type": "markdown",
   "id": "6e86195c-5de0-4ddf-97a3-a39a88903d00",
   "metadata": {},
   "source": [
    "Next, we'll set some thresholds for the minimum amount of ratings required of a user. These thresholds correspond roughly to the 80th percentile for each variable, meaning we retain the bulk of useful information while cutting off a long tail that could make our system too noisy."
   ]
  },
  {
   "cell_type": "code",
   "execution_count": 30,
   "id": "a6f64608-7acb-4377-8fb4-e74291aeadbd",
   "metadata": {},
   "outputs": [
    {
     "name": "stdout",
     "output_type": "stream",
     "text": [
      "Final: 35022 users, 11068 books, 2628384 interactions\n"
     ]
    }
   ],
   "source": [
    "MIN_BOOK_RATINGS = 50\n",
    "MIN_USER_RATINGS = 20\n",
    "\n",
    "df_i2 = df_i.copy()\n",
    "\n",
    "while True:\n",
    "    before = df_i2.shape[0]\n",
    "    \n",
    "    #drop books with too few reviews\n",
    "    df_i2 = df_i2.groupby('book_id').filter(lambda x: len(x) >= MIN_BOOK_RATINGS)\n",
    "    #drop users with too few reviews\n",
    "    df_i2 = df_i2.groupby('user_id').filter(lambda x: len(x) >= MIN_USER_RATINGS)\n",
    "    \n",
    "    after = df_i2.shape[0]\n",
    "    if after == before:\n",
    "        break\n",
    "\n",
    "print(f\"Final: {df_i2.user_id.nunique()} users, {df_i2.book_id.nunique()} books, {len(df_i2)} interactions\")"
   ]
  },
  {
   "cell_type": "markdown",
   "id": "9c3d854f-7fdd-49fd-ba2c-af342ae84d4e",
   "metadata": {},
   "source": [
    "Now we can re-filter our books data to account for these changes as well:"
   ]
  },
  {
   "cell_type": "code",
   "execution_count": 31,
   "id": "132d8687-cba6-486b-a49a-a5f79cdf5d8a",
   "metadata": {},
   "outputs": [],
   "source": [
    "df_b2 = df_b[df_b['book_id'].isin(df_i2['book_id'].value_counts().index)]"
   ]
  },
  {
   "cell_type": "markdown",
   "id": "f3d9c3dd-c8cc-4f51-a40c-88d5ac7b7ddc",
   "metadata": {},
   "source": [
    "EDA"
   ]
  },
  {
   "cell_type": "code",
   "execution_count": 32,
   "id": "4609bf63-85ba-4d46-8a7b-f5c1beea0556",
   "metadata": {},
   "outputs": [
    {
     "data": {
      "text/plain": [
       "<Axes: >"
      ]
     },
     "execution_count": 32,
     "metadata": {},
     "output_type": "execute_result"
    },
    {
     "data": {
      "image/png": "[encoded data removed]",
      "text/plain": [
       "<Figure size 640x480 with 1 Axes>"
      ]
     },
     "metadata": {},
     "output_type": "display_data"
    }
   ],
   "source": [
    "df_i2['rating'].hist()"
   ]
  },
  {
   "cell_type": "code",
   "execution_count": 33,
   "id": "9b04c845-3156-4afa-8a60-f7840c5598dc",
   "metadata": {},
   "outputs": [],
   "source": [
    "#tk tk "
   ]
  },
  {
   "cell_type": "code",
   "execution_count": 34,
   "id": "d0495f3a-3659-43b3-abb3-788f27c9297a",
   "metadata": {},
   "outputs": [],
   "source": [
    "#tk tk "
   ]
  },
  {
   "cell_type": "markdown",
   "id": "7ed1c4ac-6960-49b0-841b-9bea743f3e10",
   "metadata": {},
   "source": [
    "#### Content-Based Recommender with TF-IDF Similarity"
   ]
  },
  {
   "cell_type": "markdown",
   "id": "6b00a736-bcae-474f-b3af-90980a1839a2",
   "metadata": {},
   "source": [
    "Now we can begin building our first recommendation system: a content-based recommender based on the similarity of descriptions."
   ]
  },
  {
   "cell_type": "code",
   "execution_count": 37,
   "id": "69fd6bf6-96dd-4d27-862a-bfee803fdb29",
   "metadata": {},
   "outputs": [
    {
     "name": "stdout",
     "output_type": "stream",
     "text": [
      "Train size: 1921081, Test size: 34969\n"
     ]
    }
   ],
   "source": [
    "#reset index\n",
    "df_i2 = df_i2.reset_index().drop(columns='index')\n",
    "#filter to only positive ratings for test data (since we'll be looking predicting top-K recs)\n",
    "df_pos = df_i2[df_i2['rating']>=4]\n",
    "#build test data by removing one review per user\n",
    "test_i = df_pos.groupby('user_id').sample(n=1, random_state=905)\n",
    "#preserve those removed reviews as test data\n",
    "train_i = df_pos.drop(test_i.index)\n",
    "print(f\"Train size: {len(train_i)}, Test size: {len(test_i)}\")"
   ]
  },
  {
   "cell_type": "markdown",
   "id": "fbfa97b3-40ff-466d-81ec-0323c613761a",
   "metadata": {},
   "source": [
    "Let's run some routine text cleaning before building our TF-IDF vectors:"
   ]
  },
  {
   "cell_type": "code",
   "execution_count": 38,
   "id": "cb432d31-ede5-4c3c-a9a8-aaa431b9878d",
   "metadata": {},
   "outputs": [
    {
     "name": "stderr",
     "output_type": "stream",
     "text": [
      "/var/folders/sk/5p5s43w94rlf_9j_h77yytpc0000gn/T/ipykernel_68349/448535004.py:1: SettingWithCopyWarning: \n",
      "A value is trying to be set on a copy of a slice from a DataFrame.\n",
      "Try using .loc[row_indexer,col_indexer] = value instead\n",
      "\n",
      "See the caveats in the documentation: https://pandas.pydata.org/pandas-docs/stable/user_guide/indexing.html#returning-a-view-versus-a-copy\n",
      "  df_b2['clean_desc'] = (\n"
     ]
    }
   ],
   "source": [
    "df_b2['clean_desc'] = (\n",
    "    df_b2['description']\n",
    "       .fillna('')\n",
    "       .str.lower()\n",
    "       .str.replace(r'[^a-z0-9\\s]', ' ', regex=True)\n",
    "       .str.split()\n",
    "       .apply(lambda toks: [t for t in toks if len(t)>2])\n",
    "       .apply(lambda toks: ' '.join(toks))\n",
    ")"
   ]
  },
  {
   "cell_type": "code",
   "execution_count": 39,
   "id": "c5ee35bb-ffcf-40b8-9dbb-8a564837c1cd",
   "metadata": {},
   "outputs": [],
   "source": [
    "#build a TF-IDF vectorizer with up to 10k features\n",
    "tfidf = TfidfVectorizer(max_features=10_000)\n",
    "#convert our clean description column into numerical vectors weighted by TF-IDF\n",
    "X_tfidf = tfidf.fit_transform(df_b2['clean_desc'])\n",
    "\n",
    "#preserve book indices\n",
    "book_idx = {book_id: i for i, book_id in enumerate(df_b2['book_id'])}\n",
    "\n",
    "#build similarity matrix based on cosine similarity for every book with one another\n",
    "item_sim = cosine_similarity(X_tfidf, X_tfidf)"
   ]
  },
  {
   "cell_type": "code",
   "execution_count": 40,
   "id": "cf1bd51c-3244-4fdf-a628-6f36c34b3cf0",
   "metadata": {},
   "outputs": [],
   "source": [
    "#build user -> list of (item_idx, rating)\n",
    "user_ratings = {}\n",
    "for _, row in train_i.iterrows():\n",
    "    u, b, r = row['user_id'], row['book_id'], row['rating']\n",
    "    idx = book_idx.get(b)\n",
    "    if idx is not None:\n",
    "        user_ratings.setdefault(u, []).append((idx, r))\n",
    "\n",
    "#save global_mean\n",
    "global_mean = train_i['rating'].mean()"
   ]
  },
  {
   "cell_type": "markdown",
   "id": "f2db048c-016d-4507-97bd-0c178119e0d8",
   "metadata": {},
   "source": [
    "Next is the bulk of the training and model running, with an eye toward three main metrics:\n",
    "- Recall@K, which tells us how often our held-out, positive rating appears among the K recommendations for each user.\n",
    "- NDCG@K (Normalized Discounted Cumulative Gain), which is similar to Recall@K, but is weighted to reward the test item appearing more highly in the rankings.\n",
    "- ILD@K (Intra-List Diversity), which measures how different the K recommendations provided for individual users are from each other. This is not an accuracy metric per se, but in practice a higher score for this metric may lead to better recommendations by ensuring they are not too similar/boring or over-indexing on a particular observed preference."
   ]
  },
  {
   "cell_type": "code",
   "execution_count": 41,
   "id": "9f5f3129-6306-492c-9b25-0f4e750c2f95",
   "metadata": {},
   "outputs": [
    {
     "name": "stderr",
     "output_type": "stream",
     "text": [
      "Evaluating TF-IDF Base: 100%|█████████████| 34926/34926 [59:29<00:00,  9.78it/s]"
     ]
    },
    {
     "name": "stdout",
     "output_type": "stream",
     "text": [
      "▶ Recall@10 Base : 0.1361\n",
      "▶ NDCG@10    Base : 0.0753\n",
      "▶ ILD@10     Base : 0.7506\n"
     ]
    },
    {
     "name": "stderr",
     "output_type": "stream",
     "text": [
      "\n"
     ]
    }
   ],
   "source": [
    "#prep: train‐seen map and parameters\n",
    "train_seen = {u: {idx for idx,_ in user_ratings[u]} for u in user_ratings}\n",
    "#will ultimately use 10 as target list size for recommendations\n",
    "K = 10\n",
    "pool_size = 5 * K\n",
    "\n",
    "#fit TF-IDF KNN to id \"neighbors\" of each book based on cosine similarity\n",
    "knn_tfidf_base = NearestNeighbors(\n",
    "    n_neighbors=pool_size,\n",
    "    metric='cosine',\n",
    "    algorithm='brute',\n",
    "    n_jobs=-1\n",
    ")\n",
    "knn_tfidf_base.fit(X_tfidf)\n",
    "\n",
    "#baseline ranking\n",
    "recall_base, ndcg_base, ild_base = [], [], []\n",
    "\n",
    "for u, ratings in tqdm(user_ratings.items(), desc=\"Evaluating TF-IDF Base\"):\n",
    "    #build user profile\n",
    "    idxs = [idx for idx, _ in ratings]\n",
    "    rts = np.array([r for _, r in ratings], dtype=float)\n",
    "    M_user = X_tfidf[idxs]\n",
    "    weighted = M_user.T.dot(rts)\n",
    "    profile = weighted / rts.sum()\n",
    "\n",
    "    #get same pool of candidates via cosine‐KNN\n",
    "    dists, neighs = knn_tfidf_base.kneighbors(\n",
    "        profile.reshape(1, -1), return_distance=True\n",
    "    )\n",
    "    all_cands    = neighs.ravel().tolist()\n",
    "\n",
    "    #only consider unseen candidates\n",
    "    unseen_cands = [i for i in all_cands if i not in train_seen[u]]\n",
    "\n",
    "    #take the first K as baseline recommendations\n",
    "    rec_base = unseen_cands[:K]\n",
    "\n",
    "    #locate held-out test index\n",
    "    test_book = test_i.loc[test_i['user_id']==u, 'book_id'].iloc[0]\n",
    "    test_idx  = book_idx[test_book]\n",
    "\n",
    "    #Recall@K\n",
    "    recall_base.append(int(test_idx in rec_base))\n",
    "\n",
    "    #NDCG@K\n",
    "    if test_idx in rec_base:\n",
    "        pos = rec_base.index(test_idx)\n",
    "        ndcg_base.append(1.0 / np.log2(pos + 2))\n",
    "    else:\n",
    "        ndcg_base.append(0.0)\n",
    "\n",
    "    # H) ILD@K\n",
    "    M = len(rec_base)\n",
    "    if M > 1:\n",
    "        sims_sub = item_sim[np.ix_(rec_base, rec_base)]\n",
    "        diss     = (1 - sims_sub)[np.triu_indices(M, k=1)].sum()\n",
    "        ild_base.append((2.0 / (M*(M-1))) * diss)\n",
    "    else:\n",
    "        ild_base.append(0.0)\n",
    "\n",
    "# ── 4) Print baseline metrics ─────────────────────────────────────────────\n",
    "print(f\"▶ Recall@{K} Base : {np.mean(recall_base):.4f}\")\n",
    "print(f\"▶ NDCG@{K}    Base : {np.mean(ndcg_base):.4f}\")\n",
    "print(f\"▶ ILD@{K}     Base : {np.mean(ild_base):.4f}\")\n"
   ]
  },
  {
   "cell_type": "markdown",
   "id": "a9174aa5-1592-4945-9123-79e22e675085",
   "metadata": {},
   "source": [
    "While 13.61% would be very low recall for some ML systems, for a recommender like this it is actually quite high! Our NDCG is decent as well, and the ILD suggests pretty strong diversity in the recommendations."
   ]
  },
  {
   "cell_type": "markdown",
   "id": "781e453f-a038-4b5b-99c9-f07f6b5cb5b6",
   "metadata": {},
   "source": [
    "Next, we'll build a light-weight collaborative filtering model using the surprise package, chosen specifically for its efficiency with moderately large data. (Full disclosure, my attempts to use other CF methdodologies including matrix factorizations resulted in crashed notebook kernels)."
   ]
  },
  {
   "cell_type": "markdown",
   "id": "2af45377-b8d8-46bb-ae11-d329cc1240ef",
   "metadata": {},
   "source": [
    "#### Collaborative Filtering with Surprise"
   ]
  },
  {
   "cell_type": "code",
   "execution_count": 46,
   "id": "06e92ad1-eec1-4583-90e2-198860b56dc5",
   "metadata": {},
   "outputs": [
    {
     "name": "stderr",
     "output_type": "stream",
     "text": [
      "Evaluating SlopeOne: 100%|████████████████| 34926/34926 [24:40<00:00, 23.58it/s]"
     ]
    },
    {
     "name": "stdout",
     "output_type": "stream",
     "text": [
      "▶ Recall@10: 0.0120\n",
      "▶ NDCG@10:   0.0063\n",
      "▶ ILD@10:    0.8558\n"
     ]
    },
    {
     "name": "stderr",
     "output_type": "stream",
     "text": [
      "\n"
     ]
    }
   ],
   "source": [
    "#build surprise train/test sets\n",
    "r_min, r_max = train_i['rating'].min(), train_i['rating'].max()\n",
    "reader = Reader(rating_scale=(r_min, r_max))\n",
    "\n",
    "trainset = Dataset.load_from_df(\n",
    "    train_i[['user_id','book_id','rating']],\n",
    "    reader\n",
    ").build_full_trainset()\n",
    "\n",
    "#test dataframe\n",
    "test_df = test_i[['user_id','book_id','rating']]\n",
    "\n",
    "#initialize and train SlopeOne model\n",
    "algo = SlopeOne()\n",
    "algo.fit(trainset)\n",
    "\n",
    "#get training history & global mean\n",
    "train_hist = train_i.groupby('user_id')['book_id'].apply(set).to_dict()\n",
    "global_mean = train_i['rating'].mean()\n",
    "\n",
    "#overall book popularity for candidate restriction\n",
    "popularity = train_i['book_id'].value_counts()\n",
    "popular_books = popularity.index.tolist()\n",
    "\n",
    "#ranking‐based evaluation\n",
    "K = 10\n",
    "recall_list, ndcg_list, ild_list = [], [], []\n",
    "\n",
    "#also need book_ids and a small helper for ILD\n",
    "all_books = df_b2['book_id'].tolist()\n",
    "\n",
    "for u in tqdm(train_hist.keys(), desc=\"Evaluating SlopeOne\"):\n",
    "    seen = train_hist[u]\n",
    "    #build candidate list: most popular unseen books\n",
    "    #(this restriction makes it ~1000 predictions per user)\n",
    "    cands = [b for b in popular_books if b not in seen][:1000]\n",
    "\n",
    "    #score each candidate\n",
    "    scores = []\n",
    "    for b in cands:\n",
    "        pred = algo.predict(u, b).est\n",
    "        scores.append((b, pred))\n",
    "    #take top-K by score\n",
    "    topk = [b for b,_ in sorted(scores, key=lambda x: x[1], reverse=True)[:K]]\n",
    "\n",
    "    #held-out test book for this user\n",
    "    true_b = test_df.loc[test_df['user_id']==u, 'book_id'].iloc[0]\n",
    "\n",
    "    #Recall@K\n",
    "    recall_list.append(int(true_b in topk))\n",
    "\n",
    "    #NDCG@K\n",
    "    if true_b in topk:\n",
    "        pos = topk.index(true_b)\n",
    "        ndcg_list.append(1.0 / np.log2(pos + 2))\n",
    "    else:\n",
    "        ndcg_list.append(0.0)\n",
    "\n",
    "    #ILD@K using existing TF-IDF item_sim\n",
    "    #convert topk book_ids to their indices in df_b2\n",
    "    idxs = [book_idx[b] for b in topk]\n",
    "    sims = item_sim[np.ix_(idxs, idxs)]\n",
    "    M    = len(idxs)\n",
    "    diss = (1 - sims)[np.triu_indices(M, k=1)].sum()\n",
    "    ild_list.append((2.0 / (M*(M-1))) * diss)\n",
    "\n",
    "#metrics\n",
    "print(f\"▶ Recall@{K}: {np.mean(recall_list):.4f}\")\n",
    "print(f\"▶ NDCG@{K}:   {np.mean(ndcg_list):.4f}\")\n",
    "print(f\"▶ ILD@{K}:    {np.mean(ild_list):.4f}\")"
   ]
  },
  {
   "cell_type": "markdown",
   "id": "be1a7832-d823-47c4-b54e-d0e8c364543c",
   "metadata": {},
   "source": [
    "This is an interesting result. Compared to my content-based model, this collaborative-filtering approach achieved **much** lower accuracy in terms of both recall and NDCG. However, the results were much more diverse on a user-by-user basis. This is likely because, for the sake of performance, I limited the model to only the top 1000 most popular books in the data, severely limiting potential matches outside of that set. At the same time, there may be a natural level of diversity among that biased sample of popular books, contributing to a high ILD down the recommendation pipeline.\n",
    "\n",
    "Now, I want to see if I can strike an even better balance overall, by improving the diversity of my content-based model (without sacrificing much accuracy) and improving the accuracy of my CF model (without sacrificing much diversity)."
   ]
  },
  {
   "cell_type": "markdown",
   "id": "40b4bda7-c01e-4dc2-a2a2-e17e2d100cff",
   "metadata": {},
   "source": [
    "#### Improving Accuracy-Diversity Balance"
   ]
  },
  {
   "cell_type": "markdown",
   "id": "af0f92dc-72e6-4bbe-832c-3ef69ce314ef",
   "metadata": {},
   "source": [
    "My process for improving the diversity of my content-based model is to use Maximal Marginal Relevance (MMR), which is a new step that can be injected into the recommendation process. Essentially, it allows for re-ranking of recommendations to optimize the diversity of selections. "
   ]
  },
  {
   "cell_type": "code",
   "execution_count": 70,
   "id": "4b4b909a-7a04-44b4-9009-c724b113a0d6",
   "metadata": {},
   "outputs": [],
   "source": [
    "#mmr function\n",
    "def mmr_rerank(candidates, base_scores, item_vecs, lambda_div=0.5, top_n=K):\n",
    "    selected = []\n",
    "    pool = candidates.copy()\n",
    "    while len(selected) < top_n and pool:\n",
    "        mmr_vals = {}\n",
    "        for i in pool:\n",
    "            rel = base_scores[i]\n",
    "            if not selected:\n",
    "                mmr_vals[i] = lambda_div * rel\n",
    "            else:\n",
    "                div = max(np.dot(item_vecs[i], item_vecs[j]) for j in selected)\n",
    "                mmr_vals[i] = lambda_div * rel - (1 - lambda_div) * div\n",
    "        best = max(mmr_vals, key=mmr_vals.get)\n",
    "        selected.append(best)\n",
    "        pool.remove(best)\n",
    "    return selected"
   ]
  },
  {
   "cell_type": "code",
   "execution_count": 71,
   "id": "293f51d1-fa23-416b-a993-3ad9bb0967dc",
   "metadata": {
    "scrolled": true
   },
   "outputs": [
    {
     "name": "stderr",
     "output_type": "stream",
     "text": [
      "Evaluating TF-IDF + MMR: 100%|████████████| 34926/34926 [18:30<00:00, 31.45it/s]"
     ]
    },
    {
     "name": "stdout",
     "output_type": "stream",
     "text": [
      "▶ Recall@10 (MMR): 0.0977\n",
      "▶ NDCG@10   (MMR): 0.0618\n",
      "▶ ILD@10    (MMR): 0.8552\n"
     ]
    },
    {
     "name": "stderr",
     "output_type": "stream",
     "text": [
      "\n"
     ]
    }
   ],
   "source": [
    "#prepare what each user has seen and set parameters\n",
    "train_seen = {u: {idx for idx,_ in user_ratings[u]} for u in user_ratings}\n",
    "K = 10\n",
    "pool_size = 5 * K\n",
    "\n",
    "#build new KNN on TF-IDF vectors\n",
    "knn_tfidf_mmr = NearestNeighbors(\n",
    "    n_neighbors=pool_size,\n",
    "    metric='cosine',\n",
    "    algorithm='brute',\n",
    "    n_jobs=-1\n",
    ")\n",
    "knn_tfidf_mmr.fit(X_tfidf)\n",
    "\n",
    "#evaluate TF-IDF + MMR for each user (with ILD guard)\n",
    "recall_mmr2, ndcg_mmr2, ild_mmr2 = [], [], []\n",
    "\n",
    "for u, ratings in tqdm(user_ratings.items(), desc=\"Evaluating TF-IDF + MMR\"):\n",
    "    # 1) Build the user profile\n",
    "    idxs = [idx for idx, _ in ratings]\n",
    "    rts = np.array([r for _, r in ratings], dtype=float)\n",
    "    M_user = X_tfidf[idxs]\n",
    "    weighted = M_user.T.dot(rts)\n",
    "    profile  = weighted / rts.sum()\n",
    "\n",
    "    #get pool_size nearest TF-IDF neighbors\n",
    "    dists, neighs = knn_tfidf_mmr.kneighbors(profile.reshape(1, -1),\n",
    "                                               return_distance=True)\n",
    "    all_cands = neighs.ravel().tolist()\n",
    "\n",
    "    #filter out seen items\n",
    "    unseen_cands    = [i for i in all_cands if i not in train_seen[u]]\n",
    "\n",
    "    #compute base TF-IDF scores & normalized candidate vectors\n",
    "    base_scores = {i: float(profile.dot(X_tfidf[i].toarray().ravel()))\n",
    "                   for i in unseen_cands}\n",
    "    item_vecs = {}\n",
    "    for i in unseen_cands:\n",
    "        v = X_tfidf[i].toarray().ravel()\n",
    "        item_vecs[i] = v / np.linalg.norm(v)\n",
    "\n",
    "    #MMR re-rank down to top-K\n",
    "    rec_sorted = mmr_rerank(\n",
    "        candidates=unseen_cands,\n",
    "        base_scores=base_scores,\n",
    "        item_vecs=item_vecs,\n",
    "        lambda_div=0.5,\n",
    "        top_n=K\n",
    "    )\n",
    "\n",
    "    #Locate held-out test item index\n",
    "    test_book = test_i.loc[test_i['user_id']==u, 'book_id'].iloc[0]\n",
    "    test_idx  = book_idx[test_book]\n",
    "\n",
    "    #Recall@K\n",
    "    recall_mmr2.append(int(test_idx in rec_sorted))\n",
    "\n",
    "    #NDCG@K\n",
    "    if test_idx in rec_sorted:\n",
    "        pos = rec_sorted.index(test_idx)\n",
    "        ndcg_mmr2.append(1.0 / np.log2(pos + 2))\n",
    "    else:\n",
    "        ndcg_mmr2.append(0.0)\n",
    "\n",
    "    #ILD@K with zero-division guard\n",
    "    M = len(rec_sorted)\n",
    "    if M > 1:\n",
    "        sims_sub = item_sim[np.ix_(rec_sorted, rec_sorted)]\n",
    "        diss     = (1 - sims_sub)[np.triu_indices(M, k=1)].sum()\n",
    "        ild_mmr2.append((2.0 / (M * (M - 1))) * diss)\n",
    "    else:\n",
    "        ild_mmr2.append(0.0)\n",
    "\n",
    "#metrics\n",
    "print(f\"▶ Recall@{K} (MMR): {np.mean(recall_mmr2):.4f}\")\n",
    "print(f\"▶ NDCG@{K}   (MMR): {np.mean(ndcg_mmr2):.4f}\")\n",
    "print(f\"▶ ILD@{K}    (MMR): {np.mean(ild_mmr2):.4f}\")"
   ]
  },
  {
   "cell_type": "markdown",
   "id": "d9b50235-cfc9-4e53-b26d-2a472b9a5fd1",
   "metadata": {},
   "source": [
    "Using MMR, I was indeed able to boost my ILD score. However, accuracy went down notably in the process. Overall, I'm not sure the losses to recall are worth the 10-point gain in ILD, but I would need to spend more time in the system to truly be able to know. It is only through long-term observation that we can observe the potential gains from diversity, such as the non-attrition of graphic novel fans who are excited short-term for accurate recommendations, but become less engaged over time due to boredom.\n",
    "\n",
    "Let's now see if we can achieve higher accuracy with our collaborative-filtering system, which already had a diversity score at the same level as our MMR-infused content-based system. I'll tune the model by increasing the number of top-books considered from 1000 to 2000:"
   ]
  },
  {
   "cell_type": "code",
   "execution_count": 72,
   "id": "1c970ce3-4bbe-47b2-abab-4a789a5b26ed",
   "metadata": {},
   "outputs": [
    {
     "name": "stderr",
     "output_type": "stream",
     "text": [
      "Evaluating SlopeOne: 100%|████████████████| 34926/34926 [23:15<00:00, 25.03it/s]"
     ]
    },
    {
     "name": "stdout",
     "output_type": "stream",
     "text": [
      "▶ Recall@10: 0.0103\n",
      "▶ NDCG@10:   0.0056\n",
      "▶ ILD@10:    0.8880\n"
     ]
    },
    {
     "name": "stderr",
     "output_type": "stream",
     "text": [
      "\n"
     ]
    }
   ],
   "source": [
    "#build surprise train/test sets\n",
    "r_min, r_max = train_i['rating'].min(), train_i['rating'].max()\n",
    "reader = Reader(rating_scale=(r_min, r_max))\n",
    "\n",
    "trainset = Dataset.load_from_df(\n",
    "    train_i[['user_id','book_id','rating']],\n",
    "    reader\n",
    ").build_full_trainset()\n",
    "\n",
    "#test dataframe\n",
    "test_df = test_i[['user_id','book_id','rating']]\n",
    "\n",
    "#initialize and train SlopeOne model\n",
    "algo = SlopeOne()\n",
    "algo.fit(trainset)\n",
    "\n",
    "#get training history & global mean\n",
    "train_hist = train_i.groupby('user_id')['book_id'].apply(set).to_dict()\n",
    "global_mean = train_i['rating'].mean()\n",
    "\n",
    "#overall book popularity for candidate restriction\n",
    "popularity = train_i['book_id'].value_counts()\n",
    "popular_books = popularity.index.tolist()\n",
    "\n",
    "#ranking‐based evaluation\n",
    "K = 10\n",
    "recall_list, ndcg_list, ild_list = [], [], []\n",
    "\n",
    "#also need book_ids and a small helper for ILD\n",
    "all_books = df_b2['book_id'].tolist()\n",
    "\n",
    "for u in tqdm(train_hist.keys(), desc=\"Evaluating SlopeOne\"):\n",
    "    seen = train_hist[u]\n",
    "    #build candidate list: most popular unseen books\n",
    "    #(this restriction makes it ~1000 predictions per user)\n",
    "    cands = [b for b in popular_books if b not in seen][:2000]\n",
    "\n",
    "    #score each candidate\n",
    "    scores = []\n",
    "    for b in cands:\n",
    "        pred = algo.predict(u, b).est\n",
    "        scores.append((b, pred))\n",
    "    #take top-K by score\n",
    "    topk = [b for b,_ in sorted(scores, key=lambda x: x[1], reverse=True)[:K]]\n",
    "\n",
    "    #held-out test book for this user\n",
    "    true_b = test_df.loc[test_df['user_id']==u, 'book_id'].iloc[0]\n",
    "\n",
    "    #Recall@K\n",
    "    recall_list.append(int(true_b in topk))\n",
    "\n",
    "    #NDCG@K\n",
    "    if true_b in topk:\n",
    "        pos = topk.index(true_b)\n",
    "        ndcg_list.append(1.0 / np.log2(pos + 2))\n",
    "    else:\n",
    "        ndcg_list.append(0.0)\n",
    "\n",
    "    #ILD@K using existing TF-IDF item_sim\n",
    "    #convert topk book_ids to their indices in df_b2\n",
    "    idxs = [book_idx[b] for b in topk]\n",
    "    sims = item_sim[np.ix_(idxs, idxs)]\n",
    "    M    = len(idxs)\n",
    "    diss = (1 - sims)[np.triu_indices(M, k=1)].sum()\n",
    "    ild_list.append((2.0 / (M*(M-1))) * diss)\n",
    "\n",
    "#metrics\n",
    "print(f\"▶ Recall@{K}: {np.mean(recall_list):.4f}\")\n",
    "print(f\"▶ NDCG@{K}:   {np.mean(ndcg_list):.4f}\")\n",
    "print(f\"▶ ILD@{K}:    {np.mean(ild_list):.4f}\")"
   ]
  },
  {
   "cell_type": "markdown",
   "id": "8393ae87-1106-414f-bbd0-d38fc7c624c9",
   "metadata": {},
   "source": [
    "We do not see a Recall increase from this attempt, although interesting there appears to be a bit more diversity. Unfortunately, memory constraints preclude more comprehensive tuning, though the baseline accuracy is low enough that this model is unlikely to surpass our robust content-based recommender all told."
   ]
  },
  {
   "cell_type": "markdown",
   "id": "13b30dfe-a3e5-493c-9433-a8aa311de42a",
   "metadata": {},
   "source": [
    "#### Conclusion"
   ]
  },
  {
   "cell_type": "markdown",
   "id": "ddf3b745-3db3-4da1-9bb4-b842c883bb9c",
   "metadata": {},
   "source": [
    "In the end, I believe my best bet is to go with my content-based model, but continue to monitor it to ensure that diversity never falls far below its current levels of ~0.75. This is because when it comes to comics and graphic novels, I'm likely to see diminishing returns from continuing to recommend highly similar editions. Sure, a fan of Watchmen author Alan Moore (such as myself) is likely to enjoy V for Vendetta, as well as other gritty graphic novels by him and other authors with similar sensibilities. But tastes change over time, and even if they didn't there is not an unlimited supply of such titles. At some point, I would want that customer to tap into other aspects of what they enjoy, such as more 'sincere' superhero titles, or more non-superhero related graphic novels and comics. And of course, with a more performant set up, I would love to expand beyond comics/graphic novels into other genres entirely.\n",
    "\n",
    "As for additional experiments and metrics using online data, I would want to a.) ensure that diversity is prioritized in my model, but b.) measure user behavior to determine whether users are indeed selecting and eventually rating the \"diverse\" options they are served. In my offline data, I take for granted that diversity is a potential virtue for long-term customer satisfaction. However, comics and graphic novels are, more-so than other genres, heavily fandom driven. That means there may actually be less demand for diverse options and, unlike say, movies (where franchises are lucky to get a trilogy) there is actually enough supply to keep people happy long term. There are over 1000 titles mentioning \"Batman\" in this data alone!"
   ]
  },
  {
   "cell_type": "code",
   "execution_count": 75,
   "id": "3d6a39ba-ec8c-47df-aa6e-6ee5133d1c89",
   "metadata": {},
   "outputs": [
    {
     "data": {
      "text/plain": [
       "1595"
      ]
     },
     "execution_count": 75,
     "metadata": {},
     "output_type": "execute_result"
    }
   ],
   "source": [
    "len(df_b[df_b['title'].apply(lambda x: 'batman' in str.lower(x))])"
   ]
  }
 ],
 "metadata": {
  "kernelspec": {
   "display_name": "Python 3 (ipykernel)",
   "language": "python",
   "name": "python3"
  },
  "language_info": {
   "codemirror_mode": {
    "name": "ipython",
    "version": 3
   },
   "file_extension": ".py",
   "mimetype": "text/x-python",
   "name": "python",
   "nbconvert_exporter": "python",
   "pygments_lexer": "ipython3",
   "version": "3.12.9"
  }
 },
 "nbformat": 4,
 "nbformat_minor": 5
}
