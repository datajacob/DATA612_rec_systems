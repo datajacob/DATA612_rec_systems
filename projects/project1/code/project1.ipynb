{
 "cells": [
  {
   "cell_type": "code",
   "execution_count": 29,
   "id": "196cc18e-b464-4d69-a619-298f98e5b82e",
   "metadata": {},
   "outputs": [],
   "source": [
    "import numpy as np\n",
    "import pandas as pd"
   ]
  },
  {
   "cell_type": "markdown",
   "id": "faa80020-fde5-4293-b903-e1ac5ea15ad3",
   "metadata": {},
   "source": [
    "#### Business Goals"
   ]
  },
  {
   "cell_type": "markdown",
   "id": "58aa7638-50fa-423d-8c14-759216365482",
   "metadata": {},
   "source": [
    "For the purposes of this project, I work for a company called **Big Apple Tix**, an event ticketing company for the NYC area. I've been asked to develop a recommender system to promote events to users based on their previous patterns of attending and rating other events. Our objective is to ensure that the events we promote to individual users lead to a.) additional purchases, so we can collect transaction fees, and b.) customers being satisfied with the events we show them, so they keep coming back to our service to figure out where they should go next. Continued business also benefits us by making our ratings data more robust, improving our ability to promote events effectively in the future."
   ]
  },
  {
   "cell_type": "markdown",
   "id": "0a26bbd9-50da-47d0-9eb2-ed90978bf8c9",
   "metadata": {},
   "source": [
    "I'll start by pulling in my (dummy) data for events and user ratings. This data is already formatted as a dataframe with null values--functionally a matrix--so it is suitable for future calculations we'll need to run."
   ]
  },
  {
   "cell_type": "code",
   "execution_count": 84,
   "id": "8f1d50dc-4954-4685-96b5-6a18f563245a",
   "metadata": {},
   "outputs": [],
   "source": [
    "df = pd.read_csv('data/nyc_event_ratings.csv', index_col='user')"
   ]
  },
  {
   "cell_type": "markdown",
   "id": "2aac6852-9945-492d-aab1-f62e08a9fa5c",
   "metadata": {},
   "source": [
    "Let's quickly examine a subset of the data:"
   ]
  },
  {
   "cell_type": "code",
   "execution_count": 85,
   "id": "b83e6beb-70d9-4051-8201-40bd2515d77a",
   "metadata": {},
   "outputs": [
    {
     "data": {
      "text/plain": [
       "(50, 20)"
      ]
     },
     "execution_count": 85,
     "metadata": {},
     "output_type": "execute_result"
    }
   ],
   "source": [
    "df.shape"
   ]
  },
  {
   "cell_type": "code",
   "execution_count": 86,
   "id": "27e5e789-1c5f-47df-b85f-5ebace26f93c",
   "metadata": {},
   "outputs": [
    {
     "data": {
      "text/html": [
       "<div>\n",
       "<style scoped>\n",
       "    .dataframe tbody tr th:only-of-type {\n",
       "        vertical-align: middle;\n",
       "    }\n",
       "\n",
       "    .dataframe tbody tr th {\n",
       "        vertical-align: top;\n",
       "    }\n",
       "\n",
       "    .dataframe thead th {\n",
       "        text-align: right;\n",
       "    }\n",
       "</style>\n",
       "<table border=\"1\" class=\"dataframe\">\n",
       "  <thead>\n",
       "    <tr style=\"text-align: right;\">\n",
       "      <th></th>\n",
       "      <th>Brooklyn Street Art Tour</th>\n",
       "      <th>Carnegie Hall Classical Concert</th>\n",
       "      <th>Caroline's on Broadway</th>\n",
       "      <th>Comedy Cellar Stand-up Night</th>\n",
       "      <th>Death of a Salesman</th>\n",
       "      <th>Glengarry Glen Ross</th>\n",
       "      <th>Guggenheim Retrospective</th>\n",
       "      <th>Hadestown</th>\n",
       "      <th>Hamilton</th>\n",
       "      <th>Jets Game</th>\n",
       "      <th>Knicks Game</th>\n",
       "      <th>Mets Game</th>\n",
       "      <th>MoMA Contemporary Exhibit</th>\n",
       "      <th>NYC Jazz Festival</th>\n",
       "      <th>Oh, Mary!</th>\n",
       "      <th>Rangers Game</th>\n",
       "      <th>The Lion King</th>\n",
       "      <th>Tribeca Film Festival</th>\n",
       "      <th>Wicked</th>\n",
       "      <th>Yankees Game</th>\n",
       "    </tr>\n",
       "    <tr>\n",
       "      <th>user</th>\n",
       "      <th></th>\n",
       "      <th></th>\n",
       "      <th></th>\n",
       "      <th></th>\n",
       "      <th></th>\n",
       "      <th></th>\n",
       "      <th></th>\n",
       "      <th></th>\n",
       "      <th></th>\n",
       "      <th></th>\n",
       "      <th></th>\n",
       "      <th></th>\n",
       "      <th></th>\n",
       "      <th></th>\n",
       "      <th></th>\n",
       "      <th></th>\n",
       "      <th></th>\n",
       "      <th></th>\n",
       "      <th></th>\n",
       "      <th></th>\n",
       "    </tr>\n",
       "  </thead>\n",
       "  <tbody>\n",
       "    <tr>\n",
       "      <th>User_001</th>\n",
       "      <td>7.0</td>\n",
       "      <td>4.0</td>\n",
       "      <td>5.0</td>\n",
       "      <td>10.0</td>\n",
       "      <td>6.0</td>\n",
       "      <td>6.0</td>\n",
       "      <td>5.0</td>\n",
       "      <td>NaN</td>\n",
       "      <td>4.0</td>\n",
       "      <td>9.0</td>\n",
       "      <td>5.0</td>\n",
       "      <td>NaN</td>\n",
       "      <td>5.0</td>\n",
       "      <td>NaN</td>\n",
       "      <td>5.0</td>\n",
       "      <td>6.0</td>\n",
       "      <td>NaN</td>\n",
       "      <td>NaN</td>\n",
       "      <td>NaN</td>\n",
       "      <td>9.0</td>\n",
       "    </tr>\n",
       "    <tr>\n",
       "      <th>User_002</th>\n",
       "      <td>NaN</td>\n",
       "      <td>8.0</td>\n",
       "      <td>6.0</td>\n",
       "      <td>NaN</td>\n",
       "      <td>9.0</td>\n",
       "      <td>5.0</td>\n",
       "      <td>NaN</td>\n",
       "      <td>NaN</td>\n",
       "      <td>8.0</td>\n",
       "      <td>9.0</td>\n",
       "      <td>8.0</td>\n",
       "      <td>NaN</td>\n",
       "      <td>NaN</td>\n",
       "      <td>7.0</td>\n",
       "      <td>6.0</td>\n",
       "      <td>NaN</td>\n",
       "      <td>NaN</td>\n",
       "      <td>NaN</td>\n",
       "      <td>8.0</td>\n",
       "      <td>10.0</td>\n",
       "    </tr>\n",
       "    <tr>\n",
       "      <th>User_003</th>\n",
       "      <td>NaN</td>\n",
       "      <td>NaN</td>\n",
       "      <td>NaN</td>\n",
       "      <td>6.0</td>\n",
       "      <td>10.0</td>\n",
       "      <td>9.0</td>\n",
       "      <td>6.0</td>\n",
       "      <td>8.0</td>\n",
       "      <td>7.0</td>\n",
       "      <td>NaN</td>\n",
       "      <td>NaN</td>\n",
       "      <td>NaN</td>\n",
       "      <td>NaN</td>\n",
       "      <td>NaN</td>\n",
       "      <td>8.0</td>\n",
       "      <td>NaN</td>\n",
       "      <td>10.0</td>\n",
       "      <td>6.0</td>\n",
       "      <td>9.0</td>\n",
       "      <td>NaN</td>\n",
       "    </tr>\n",
       "    <tr>\n",
       "      <th>User_004</th>\n",
       "      <td>8.0</td>\n",
       "      <td>6.0</td>\n",
       "      <td>NaN</td>\n",
       "      <td>NaN</td>\n",
       "      <td>6.0</td>\n",
       "      <td>8.0</td>\n",
       "      <td>7.0</td>\n",
       "      <td>10.0</td>\n",
       "      <td>8.0</td>\n",
       "      <td>7.0</td>\n",
       "      <td>5.0</td>\n",
       "      <td>7.0</td>\n",
       "      <td>8.0</td>\n",
       "      <td>NaN</td>\n",
       "      <td>9.0</td>\n",
       "      <td>7.0</td>\n",
       "      <td>NaN</td>\n",
       "      <td>NaN</td>\n",
       "      <td>NaN</td>\n",
       "      <td>5.0</td>\n",
       "    </tr>\n",
       "    <tr>\n",
       "      <th>User_005</th>\n",
       "      <td>7.0</td>\n",
       "      <td>8.0</td>\n",
       "      <td>NaN</td>\n",
       "      <td>NaN</td>\n",
       "      <td>8.0</td>\n",
       "      <td>7.0</td>\n",
       "      <td>7.0</td>\n",
       "      <td>6.0</td>\n",
       "      <td>6.0</td>\n",
       "      <td>7.0</td>\n",
       "      <td>8.0</td>\n",
       "      <td>NaN</td>\n",
       "      <td>NaN</td>\n",
       "      <td>9.0</td>\n",
       "      <td>NaN</td>\n",
       "      <td>NaN</td>\n",
       "      <td>8.0</td>\n",
       "      <td>NaN</td>\n",
       "      <td>7.0</td>\n",
       "      <td>7.0</td>\n",
       "    </tr>\n",
       "  </tbody>\n",
       "</table>\n",
       "</div>"
      ],
      "text/plain": [
       "          Brooklyn Street Art Tour  Carnegie Hall Classical Concert  \\\n",
       "user                                                                  \n",
       "User_001                       7.0                              4.0   \n",
       "User_002                       NaN                              8.0   \n",
       "User_003                       NaN                              NaN   \n",
       "User_004                       8.0                              6.0   \n",
       "User_005                       7.0                              8.0   \n",
       "\n",
       "          Caroline's on Broadway  Comedy Cellar Stand-up Night  \\\n",
       "user                                                             \n",
       "User_001                     5.0                          10.0   \n",
       "User_002                     6.0                           NaN   \n",
       "User_003                     NaN                           6.0   \n",
       "User_004                     NaN                           NaN   \n",
       "User_005                     NaN                           NaN   \n",
       "\n",
       "          Death of a Salesman  Glengarry Glen Ross  Guggenheim Retrospective  \\\n",
       "user                                                                           \n",
       "User_001                  6.0                  6.0                       5.0   \n",
       "User_002                  9.0                  5.0                       NaN   \n",
       "User_003                 10.0                  9.0                       6.0   \n",
       "User_004                  6.0                  8.0                       7.0   \n",
       "User_005                  8.0                  7.0                       7.0   \n",
       "\n",
       "          Hadestown  Hamilton  Jets Game  Knicks Game  Mets Game  \\\n",
       "user                                                               \n",
       "User_001        NaN       4.0        9.0          5.0        NaN   \n",
       "User_002        NaN       8.0        9.0          8.0        NaN   \n",
       "User_003        8.0       7.0        NaN          NaN        NaN   \n",
       "User_004       10.0       8.0        7.0          5.0        7.0   \n",
       "User_005        6.0       6.0        7.0          8.0        NaN   \n",
       "\n",
       "          MoMA Contemporary Exhibit  NYC Jazz Festival  Oh, Mary!  \\\n",
       "user                                                                \n",
       "User_001                        5.0                NaN        5.0   \n",
       "User_002                        NaN                7.0        6.0   \n",
       "User_003                        NaN                NaN        8.0   \n",
       "User_004                        8.0                NaN        9.0   \n",
       "User_005                        NaN                9.0        NaN   \n",
       "\n",
       "          Rangers Game  The Lion King  Tribeca Film Festival  Wicked  \\\n",
       "user                                                                   \n",
       "User_001           6.0            NaN                    NaN     NaN   \n",
       "User_002           NaN            NaN                    NaN     8.0   \n",
       "User_003           NaN           10.0                    6.0     9.0   \n",
       "User_004           7.0            NaN                    NaN     NaN   \n",
       "User_005           NaN            8.0                    NaN     7.0   \n",
       "\n",
       "          Yankees Game  \n",
       "user                    \n",
       "User_001           9.0  \n",
       "User_002          10.0  \n",
       "User_003           NaN  \n",
       "User_004           5.0  \n",
       "User_005           7.0  "
      ]
     },
     "execution_count": 86,
     "metadata": {},
     "output_type": "execute_result"
    }
   ],
   "source": [
    "df.head()"
   ]
  },
  {
   "cell_type": "markdown",
   "id": "438fae4e-bffa-463d-a3a6-a9f9152cc325",
   "metadata": {},
   "source": [
    "We can see that our data consists of 50 users of the ticketing platform as rows, and the columns are 20 distinct events they could have attended in NYC. Users have rated the events they've attended from 1 to 10, and events that have not attended (or at least not rated) are null."
   ]
  },
  {
   "cell_type": "markdown",
   "id": "c88c7b69-ff1d-45f3-a6d6-e3626b4bed2e",
   "metadata": {},
   "source": [
    "Now, we can split the data into testing and training sets by randomly removing values from the data and reserving them as test data. We'll use a standard of 20% per-user removal (or 1, as a minimum)."
   ]
  },
  {
   "cell_type": "code",
   "execution_count": 87,
   "id": "9702e02b-c3bb-4451-a2c9-0fae2f30f038",
   "metadata": {},
   "outputs": [],
   "source": [
    "#training data is copy of main df, will REMOVE test values\n",
    "df_train = df.copy()\n",
    "#test data starts as empty df with same index and cols, will ADD test values\n",
    "df_test = pd.DataFrame(np.nan, index=df.index, columns=df.columns)"
   ]
  },
  {
   "cell_type": "code",
   "execution_count": 88,
   "id": "b1c7a33f-b71f-4252-9619-014b7d18ff9b",
   "metadata": {},
   "outputs": [],
   "source": [
    "#set the testing split % at 20%\n",
    "test_perc = 0.2\n",
    "#set a seed for consistent randomness\n",
    "rng = np.random.default_rng(905)"
   ]
  },
  {
   "cell_type": "code",
   "execution_count": 89,
   "id": "cb959a42-3880-4a77-bc3e-0b17e8cdf332",
   "metadata": {},
   "outputs": [],
   "source": [
    "for user in df.index:\n",
    "    #all items this user has rated\n",
    "    rated_items = df.loc[user].dropna().index\n",
    "    if len(rated_items) == 0:\n",
    "        continue\n",
    "    #how many to hold out (at least 1)\n",
    "    n_test = max(1, int(len(rated_items) * test_perc))\n",
    "    test_items = rng.choice(rated_items, size=n_test, replace=False)\n",
    "    \n",
    "    #move to test_df and blank out in train_df\n",
    "    df_test.loc[user, test_items] = df.loc[user, test_items]\n",
    "    df_train.loc[user, test_items] = np.nan"
   ]
  },
  {
   "cell_type": "markdown",
   "id": "845f2e83-ca2b-4338-a08f-37b589283a42",
   "metadata": {},
   "source": [
    "**Raw Average**"
   ]
  },
  {
   "cell_type": "markdown",
   "id": "395f2b85-e010-4120-92f3-8026ecc61794",
   "metadata": {},
   "source": [
    "As an initial predictor, we can set all expected values to the global average of all known event ratings. This will serve as a baseline against which we can compare our (hopefully) improved model that accounts for which users tend to rate things higher or lower, and which events themselves tend to be rated higher or lower."
   ]
  },
  {
   "cell_type": "code",
   "execution_count": 90,
   "id": "a6baf685-63c6-4c2e-9d1c-ab782e560de3",
   "metadata": {},
   "outputs": [],
   "source": [
    "#put all values in a single array and take the mean (method ignores nulls)\n",
    "global_avg = df_train.stack().mean()"
   ]
  },
  {
   "cell_type": "code",
   "execution_count": 91,
   "id": "36c3c080-6f81-4f2d-aaa0-687d41b9614f",
   "metadata": {},
   "outputs": [
    {
     "data": {
      "text/plain": [
       "np.float64(6.83015873015873)"
      ]
     },
     "execution_count": 91,
     "metadata": {},
     "output_type": "execute_result"
    }
   ],
   "source": [
    "global_avg"
   ]
  },
  {
   "cell_type": "markdown",
   "id": "83ac50e2-cbe7-42e5-bf85-e20aecb12dec",
   "metadata": {},
   "source": [
    "So my mean rating throughout all the data is about **6.8**. Let's plug that in as the baseline rating for all user-event pairs."
   ]
  },
  {
   "cell_type": "code",
   "execution_count": 92,
   "id": "3fc4169b-3286-4447-9d36-5801203fd013",
   "metadata": {},
   "outputs": [],
   "source": [
    "#build df with all values as global average for comparison\n",
    "df_raw_avg = pd.DataFrame(global_avg,\n",
    "                          index=df_train.index,\n",
    "                          columns=df_train.columns)"
   ]
  },
  {
   "cell_type": "markdown",
   "id": "acebae17-3e83-4c90-ba66-1d8039b2687b",
   "metadata": {},
   "source": [
    "Now I just need a function to check the RMSE for my predictions against my known values. Earlier, I split those knowns into training and testing data so I could get a sense of how well my system would work on genuinely unknown future data."
   ]
  },
  {
   "cell_type": "code",
   "execution_count": 93,
   "id": "ba7f3902-5796-4f15-9b63-eccc6dd83633",
   "metadata": {},
   "outputs": [],
   "source": [
    "#build function to compare predictions with actual\n",
    "def calc_rmse(pred_df, actual_df):\n",
    "    #mask of observed entries\n",
    "    mask = actual_df.notna()\n",
    "    #squared errors only where mask=True\n",
    "    se = (pred_df[mask] - actual_df[mask])**2\n",
    "    #stack() will turn that into a single Series of all squared errors\n",
    "    return np.sqrt(se.stack().mean())"
   ]
  },
  {
   "cell_type": "markdown",
   "id": "a69d98c0-8d99-445c-a554-1d342aafe743",
   "metadata": {},
   "source": [
    "My first \"predictor\" is simply to expect every rating will be the global average we previously calculated. Let's first try this against the the **training data**:"
   ]
  },
  {
   "cell_type": "code",
   "execution_count": 94,
   "id": "568d79e4-6aec-4ef2-912e-b323524614c8",
   "metadata": {},
   "outputs": [
    {
     "data": {
      "text/plain": [
       "np.float64(1.682225936605682)"
      ]
     },
     "execution_count": 94,
     "metadata": {},
     "output_type": "execute_result"
    }
   ],
   "source": [
    "calc_rmse(df_raw_avg, df_train)"
   ]
  },
  {
   "cell_type": "markdown",
   "id": "9e604c40-fc49-40e0-90f4-6bdf40825cb4",
   "metadata": {},
   "source": [
    "And now the **test data**:"
   ]
  },
  {
   "cell_type": "code",
   "execution_count": 95,
   "id": "079e0867-ee8d-4a4b-93a8-b44839f8ee44",
   "metadata": {},
   "outputs": [
    {
     "data": {
      "text/plain": [
       "np.float64(1.7900331930760587)"
      ]
     },
     "execution_count": 95,
     "metadata": {},
     "output_type": "execute_result"
    }
   ],
   "source": [
    "calc_rmse(df_raw_avg, df_test)"
   ]
  },
  {
   "cell_type": "markdown",
   "id": "8f60b4db-1a5a-4fe4-b55b-4499a45e6f2f",
   "metadata": {},
   "source": [
    "**User and Event Biases**"
   ]
  },
  {
   "cell_type": "markdown",
   "id": "72e6abe2-cac7-442b-aba1-469dbcafcac8",
   "metadata": {},
   "source": [
    "Now that we have the baseline RMSE for the global average of event event ratings, let's try to improve the model by accounting for user- and event- level biases. This bias reflects how the average rating for a given user or event differs from the global average. In other words, how \"generous\" is each user in rating events than average? And how much higher or lower are the ratings for a particular event than all events in aggregate?"
   ]
  },
  {
   "cell_type": "markdown",
   "id": "3c777e04-f65c-4067-8745-bf19d42a2b4d",
   "metadata": {},
   "source": [
    "*User Biases*"
   ]
  },
  {
   "cell_type": "code",
   "execution_count": 96,
   "id": "634174fc-dcfe-4fa5-aac2-3d41645f845c",
   "metadata": {},
   "outputs": [
    {
     "data": {
      "text/plain": [
       "user\n",
       "User_046    5.750000\n",
       "User_021    7.600000\n",
       "User_035    5.266667\n",
       "User_017    8.916667\n",
       "User_019    7.100000\n",
       "User_006    7.000000\n",
       "User_003    8.250000\n",
       "User_016    6.083333\n",
       "User_049    8.538462\n",
       "User_005    7.272727\n",
       "dtype: float64"
      ]
     },
     "execution_count": 96,
     "metadata": {},
     "output_type": "execute_result"
    }
   ],
   "source": [
    "#10 random users - average event scores\n",
    "df_train.mean(axis=1).sample(10, random_state=905)"
   ]
  },
  {
   "cell_type": "markdown",
   "id": "a9aaaa4e-2f88-477e-9c36-e8829e1d5f30",
   "metadata": {},
   "source": [
    "Here are 10 random users from the data and their average scores for the events they attended. Our global average of ~6.8 passes the sense check here, but we can see some real variance. For example, user 35 has an average score of ~5.3 for the events they attended, and user 17 rated events an average of 8.9. That means their **user biases** are roughtly -1.5 and +2.1, respectively. We can calculate this bias for every user and use it as a starting point for all predictions for that user. In all likelihood, this will get us a better RMSE than the global average alone."
   ]
  },
  {
   "cell_type": "code",
   "execution_count": 97,
   "id": "f6c55395-ccfd-4c49-8476-8e2969848274",
   "metadata": {},
   "outputs": [],
   "source": [
    "#calculate all user biases\n",
    "user_biases = df_train.mean(axis=1) - global_avg"
   ]
  },
  {
   "cell_type": "code",
   "execution_count": 98,
   "id": "c6ac9df2-8d79-4ebd-9bbe-dc2b5dd526fe",
   "metadata": {},
   "outputs": [],
   "source": [
    "#make new prediction df with biases added to global averages\n",
    "df_biases = df_raw_avg.add(user_biases, axis=0)"
   ]
  },
  {
   "cell_type": "code",
   "execution_count": 99,
   "id": "9f9cf344-504f-4ba3-995f-2e974d4c46eb",
   "metadata": {},
   "outputs": [
    {
     "data": {
      "text/html": [
       "<div>\n",
       "<style scoped>\n",
       "    .dataframe tbody tr th:only-of-type {\n",
       "        vertical-align: middle;\n",
       "    }\n",
       "\n",
       "    .dataframe tbody tr th {\n",
       "        vertical-align: top;\n",
       "    }\n",
       "\n",
       "    .dataframe thead th {\n",
       "        text-align: right;\n",
       "    }\n",
       "</style>\n",
       "<table border=\"1\" class=\"dataframe\">\n",
       "  <thead>\n",
       "    <tr style=\"text-align: right;\">\n",
       "      <th></th>\n",
       "      <th>Brooklyn Street Art Tour</th>\n",
       "      <th>Carnegie Hall Classical Concert</th>\n",
       "      <th>Caroline's on Broadway</th>\n",
       "      <th>Comedy Cellar Stand-up Night</th>\n",
       "      <th>Death of a Salesman</th>\n",
       "      <th>Glengarry Glen Ross</th>\n",
       "      <th>Guggenheim Retrospective</th>\n",
       "      <th>Hadestown</th>\n",
       "      <th>Hamilton</th>\n",
       "      <th>Jets Game</th>\n",
       "      <th>Knicks Game</th>\n",
       "      <th>Mets Game</th>\n",
       "      <th>MoMA Contemporary Exhibit</th>\n",
       "      <th>NYC Jazz Festival</th>\n",
       "      <th>Oh, Mary!</th>\n",
       "      <th>Rangers Game</th>\n",
       "      <th>The Lion King</th>\n",
       "      <th>Tribeca Film Festival</th>\n",
       "      <th>Wicked</th>\n",
       "      <th>Yankees Game</th>\n",
       "    </tr>\n",
       "    <tr>\n",
       "      <th>user</th>\n",
       "      <th></th>\n",
       "      <th></th>\n",
       "      <th></th>\n",
       "      <th></th>\n",
       "      <th></th>\n",
       "      <th></th>\n",
       "      <th></th>\n",
       "      <th></th>\n",
       "      <th></th>\n",
       "      <th></th>\n",
       "      <th></th>\n",
       "      <th></th>\n",
       "      <th></th>\n",
       "      <th></th>\n",
       "      <th></th>\n",
       "      <th></th>\n",
       "      <th></th>\n",
       "      <th></th>\n",
       "      <th></th>\n",
       "      <th></th>\n",
       "    </tr>\n",
       "  </thead>\n",
       "  <tbody>\n",
       "    <tr>\n",
       "      <th>User_001</th>\n",
       "      <td>6.083333</td>\n",
       "      <td>6.083333</td>\n",
       "      <td>6.083333</td>\n",
       "      <td>6.083333</td>\n",
       "      <td>6.083333</td>\n",
       "      <td>6.083333</td>\n",
       "      <td>6.083333</td>\n",
       "      <td>6.083333</td>\n",
       "      <td>6.083333</td>\n",
       "      <td>6.083333</td>\n",
       "      <td>6.083333</td>\n",
       "      <td>6.083333</td>\n",
       "      <td>6.083333</td>\n",
       "      <td>6.083333</td>\n",
       "      <td>6.083333</td>\n",
       "      <td>6.083333</td>\n",
       "      <td>6.083333</td>\n",
       "      <td>6.083333</td>\n",
       "      <td>6.083333</td>\n",
       "      <td>6.083333</td>\n",
       "    </tr>\n",
       "    <tr>\n",
       "      <th>User_002</th>\n",
       "      <td>7.666667</td>\n",
       "      <td>7.666667</td>\n",
       "      <td>7.666667</td>\n",
       "      <td>7.666667</td>\n",
       "      <td>7.666667</td>\n",
       "      <td>7.666667</td>\n",
       "      <td>7.666667</td>\n",
       "      <td>7.666667</td>\n",
       "      <td>7.666667</td>\n",
       "      <td>7.666667</td>\n",
       "      <td>7.666667</td>\n",
       "      <td>7.666667</td>\n",
       "      <td>7.666667</td>\n",
       "      <td>7.666667</td>\n",
       "      <td>7.666667</td>\n",
       "      <td>7.666667</td>\n",
       "      <td>7.666667</td>\n",
       "      <td>7.666667</td>\n",
       "      <td>7.666667</td>\n",
       "      <td>7.666667</td>\n",
       "    </tr>\n",
       "    <tr>\n",
       "      <th>User_003</th>\n",
       "      <td>8.250000</td>\n",
       "      <td>8.250000</td>\n",
       "      <td>8.250000</td>\n",
       "      <td>8.250000</td>\n",
       "      <td>8.250000</td>\n",
       "      <td>8.250000</td>\n",
       "      <td>8.250000</td>\n",
       "      <td>8.250000</td>\n",
       "      <td>8.250000</td>\n",
       "      <td>8.250000</td>\n",
       "      <td>8.250000</td>\n",
       "      <td>8.250000</td>\n",
       "      <td>8.250000</td>\n",
       "      <td>8.250000</td>\n",
       "      <td>8.250000</td>\n",
       "      <td>8.250000</td>\n",
       "      <td>8.250000</td>\n",
       "      <td>8.250000</td>\n",
       "      <td>8.250000</td>\n",
       "      <td>8.250000</td>\n",
       "    </tr>\n",
       "    <tr>\n",
       "      <th>User_004</th>\n",
       "      <td>6.833333</td>\n",
       "      <td>6.833333</td>\n",
       "      <td>6.833333</td>\n",
       "      <td>6.833333</td>\n",
       "      <td>6.833333</td>\n",
       "      <td>6.833333</td>\n",
       "      <td>6.833333</td>\n",
       "      <td>6.833333</td>\n",
       "      <td>6.833333</td>\n",
       "      <td>6.833333</td>\n",
       "      <td>6.833333</td>\n",
       "      <td>6.833333</td>\n",
       "      <td>6.833333</td>\n",
       "      <td>6.833333</td>\n",
       "      <td>6.833333</td>\n",
       "      <td>6.833333</td>\n",
       "      <td>6.833333</td>\n",
       "      <td>6.833333</td>\n",
       "      <td>6.833333</td>\n",
       "      <td>6.833333</td>\n",
       "    </tr>\n",
       "    <tr>\n",
       "      <th>User_005</th>\n",
       "      <td>7.272727</td>\n",
       "      <td>7.272727</td>\n",
       "      <td>7.272727</td>\n",
       "      <td>7.272727</td>\n",
       "      <td>7.272727</td>\n",
       "      <td>7.272727</td>\n",
       "      <td>7.272727</td>\n",
       "      <td>7.272727</td>\n",
       "      <td>7.272727</td>\n",
       "      <td>7.272727</td>\n",
       "      <td>7.272727</td>\n",
       "      <td>7.272727</td>\n",
       "      <td>7.272727</td>\n",
       "      <td>7.272727</td>\n",
       "      <td>7.272727</td>\n",
       "      <td>7.272727</td>\n",
       "      <td>7.272727</td>\n",
       "      <td>7.272727</td>\n",
       "      <td>7.272727</td>\n",
       "      <td>7.272727</td>\n",
       "    </tr>\n",
       "  </tbody>\n",
       "</table>\n",
       "</div>"
      ],
      "text/plain": [
       "          Brooklyn Street Art Tour  Carnegie Hall Classical Concert  \\\n",
       "user                                                                  \n",
       "User_001                  6.083333                         6.083333   \n",
       "User_002                  7.666667                         7.666667   \n",
       "User_003                  8.250000                         8.250000   \n",
       "User_004                  6.833333                         6.833333   \n",
       "User_005                  7.272727                         7.272727   \n",
       "\n",
       "          Caroline's on Broadway  Comedy Cellar Stand-up Night  \\\n",
       "user                                                             \n",
       "User_001                6.083333                      6.083333   \n",
       "User_002                7.666667                      7.666667   \n",
       "User_003                8.250000                      8.250000   \n",
       "User_004                6.833333                      6.833333   \n",
       "User_005                7.272727                      7.272727   \n",
       "\n",
       "          Death of a Salesman  Glengarry Glen Ross  Guggenheim Retrospective  \\\n",
       "user                                                                           \n",
       "User_001             6.083333             6.083333                  6.083333   \n",
       "User_002             7.666667             7.666667                  7.666667   \n",
       "User_003             8.250000             8.250000                  8.250000   \n",
       "User_004             6.833333             6.833333                  6.833333   \n",
       "User_005             7.272727             7.272727                  7.272727   \n",
       "\n",
       "          Hadestown  Hamilton  Jets Game  Knicks Game  Mets Game  \\\n",
       "user                                                               \n",
       "User_001   6.083333  6.083333   6.083333     6.083333   6.083333   \n",
       "User_002   7.666667  7.666667   7.666667     7.666667   7.666667   \n",
       "User_003   8.250000  8.250000   8.250000     8.250000   8.250000   \n",
       "User_004   6.833333  6.833333   6.833333     6.833333   6.833333   \n",
       "User_005   7.272727  7.272727   7.272727     7.272727   7.272727   \n",
       "\n",
       "          MoMA Contemporary Exhibit  NYC Jazz Festival  Oh, Mary!  \\\n",
       "user                                                                \n",
       "User_001                   6.083333           6.083333   6.083333   \n",
       "User_002                   7.666667           7.666667   7.666667   \n",
       "User_003                   8.250000           8.250000   8.250000   \n",
       "User_004                   6.833333           6.833333   6.833333   \n",
       "User_005                   7.272727           7.272727   7.272727   \n",
       "\n",
       "          Rangers Game  The Lion King  Tribeca Film Festival    Wicked  \\\n",
       "user                                                                     \n",
       "User_001      6.083333       6.083333               6.083333  6.083333   \n",
       "User_002      7.666667       7.666667               7.666667  7.666667   \n",
       "User_003      8.250000       8.250000               8.250000  8.250000   \n",
       "User_004      6.833333       6.833333               6.833333  6.833333   \n",
       "User_005      7.272727       7.272727               7.272727  7.272727   \n",
       "\n",
       "          Yankees Game  \n",
       "user                    \n",
       "User_001      6.083333  \n",
       "User_002      7.666667  \n",
       "User_003      8.250000  \n",
       "User_004      6.833333  \n",
       "User_005      7.272727  "
      ]
     },
     "execution_count": 99,
     "metadata": {},
     "output_type": "execute_result"
    }
   ],
   "source": [
    "df_biases.head()"
   ]
  },
  {
   "cell_type": "markdown",
   "id": "52800c00-dae6-4a4a-b3b7-8240bce36ed7",
   "metadata": {},
   "source": [
    "Calculate RMSE for user-biased predictions against training data:"
   ]
  },
  {
   "cell_type": "code",
   "execution_count": 100,
   "id": "5f0d0f4f-11a7-42ab-9517-e5bee160ebe0",
   "metadata": {},
   "outputs": [
    {
     "data": {
      "text/plain": [
       "np.float64(1.3642360587512585)"
      ]
     },
     "execution_count": 100,
     "metadata": {},
     "output_type": "execute_result"
    }
   ],
   "source": [
    "calc_rmse(df_biases, df_train)"
   ]
  },
  {
   "cell_type": "markdown",
   "id": "ad02e7f3-3d5a-4827-9db4-b2eac656f2c4",
   "metadata": {},
   "source": [
    "And the same against the test data:"
   ]
  },
  {
   "cell_type": "code",
   "execution_count": 101,
   "id": "d0195694-eab9-41df-bc64-fd4e3760463b",
   "metadata": {},
   "outputs": [
    {
     "data": {
      "text/plain": [
       "np.float64(1.6515574619992706)"
      ]
     },
     "execution_count": 101,
     "metadata": {},
     "output_type": "execute_result"
    }
   ],
   "source": [
    "calc_rmse(df_biases, df_test)"
   ]
  },
  {
   "cell_type": "markdown",
   "id": "ace9c415-7b43-4130-8e0a-1636c4f4270a",
   "metadata": {},
   "source": [
    "Already we see a substantial decrease in the RMSE for these predictions, representing an improvement. In other words, these predictions are less far off from reality than when we predicted all values would be the global average."
   ]
  },
  {
   "cell_type": "markdown",
   "id": "4869f328-a728-4da9-8355-87a45c1bbb78",
   "metadata": {},
   "source": [
    "Now, let's examine a random assortment of events and their average scores:"
   ]
  },
  {
   "cell_type": "code",
   "execution_count": 102,
   "id": "9b861c4d-c0c9-42e3-97ae-0ebc770e87b3",
   "metadata": {},
   "outputs": [
    {
     "data": {
      "text/plain": [
       "Tribeca Film Festival              6.928571\n",
       "Oh, Mary!                          7.343750\n",
       "Glengarry Glen Ross                7.166667\n",
       "Carnegie Hall Classical Concert    6.621622\n",
       "Brooklyn Street Art Tour           6.303030\n",
       "Caroline's on Broadway             7.200000\n",
       "NYC Jazz Festival                  7.428571\n",
       "Wicked                             6.871795\n",
       "Jets Game                          6.548387\n",
       "Hadestown                          6.833333\n",
       "dtype: float64"
      ]
     },
     "execution_count": 102,
     "metadata": {},
     "output_type": "execute_result"
    }
   ],
   "source": [
    "#10 random events - average user scores\n",
    "df_train.mean(axis=0).sample(10, random_state=905)"
   ]
  },
  {
   "cell_type": "markdown",
   "id": "7673f873-11b2-42fd-87f4-de9bb6a20bed",
   "metadata": {},
   "source": [
    "Here we can see a similar dynamic to the user scores above, where the average event scores hover around our global average of 6.8, but are all some differing amount above or below it. Incidentally, there appears to be less variability among average event scores than user scores. That should be fine--it just may mean the biases are smaller for this dimension, and therefore impact our predictions less than user biases."
   ]
  },
  {
   "cell_type": "code",
   "execution_count": 103,
   "id": "37a083e4-e3b8-43b6-9c16-b4950ead8007",
   "metadata": {},
   "outputs": [],
   "source": [
    "#calculate event biases\n",
    "event_biases = df_train.mean(axis=0) - global_avg"
   ]
  },
  {
   "cell_type": "markdown",
   "id": "83976870-a060-41c9-9718-29795bff068c",
   "metadata": {},
   "source": [
    "Now I can update my prediction df with the additional bias information obtained from the event biases:"
   ]
  },
  {
   "cell_type": "code",
   "execution_count": 104,
   "id": "4a1237ba-3eb9-41e4-bd01-54c7414fa61a",
   "metadata": {},
   "outputs": [],
   "source": [
    "df_biases = df_biases.add(event_biases, axis=1)"
   ]
  },
  {
   "cell_type": "markdown",
   "id": "cfe43ecc-8267-4977-891e-637f36054882",
   "metadata": {},
   "source": [
    "RMSE for the training data:"
   ]
  },
  {
   "cell_type": "code",
   "execution_count": 105,
   "id": "605386bb-ceb2-4ad0-a8c9-42b498e4a99f",
   "metadata": {},
   "outputs": [
    {
     "data": {
      "text/plain": [
       "np.float64(1.3528542437780882)"
      ]
     },
     "execution_count": 105,
     "metadata": {},
     "output_type": "execute_result"
    }
   ],
   "source": [
    "calc_rmse(df_biases, df_train)"
   ]
  },
  {
   "cell_type": "markdown",
   "id": "e460acec-5f20-4a40-88b8-f2929294a5d7",
   "metadata": {},
   "source": [
    "And finally, for the test data:"
   ]
  },
  {
   "cell_type": "code",
   "execution_count": 106,
   "id": "7b9c61a7-d736-4aae-8750-3bce8a58d19e",
   "metadata": {},
   "outputs": [
    {
     "data": {
      "text/plain": [
       "np.float64(1.6335358785834804)"
      ]
     },
     "execution_count": 106,
     "metadata": {},
     "output_type": "execute_result"
    }
   ],
   "source": [
    "calc_rmse(df_biases, df_test)"
   ]
  },
  {
   "cell_type": "markdown",
   "id": "72c4262d-dca0-400b-b3e4-6ad9284a49da",
   "metadata": {},
   "source": [
    "As expected, the RMSE did go down when accounting for event biases, but only slightly. Overall, we have achieved a somewhat blunt but decently effective model by starting with the overall average of known scores for every user-event-rating, and accounting for the user and event biases for all pairs.\n",
    "\n",
    "Below, I can build a function to list out, in order, what the recommendations would be for a specified user based on our predictions. The results only account for nulls in the original dataframe (in other words, events that user hasn't attended/rated)."
   ]
  },
  {
   "cell_type": "code",
   "execution_count": 107,
   "id": "efa685b2-ecf9-45ae-9ccb-9990608b1a03",
   "metadata": {},
   "outputs": [],
   "source": [
    "def extract_recommendation_rankings(df_actual, df_pred, user_id):\n",
    "    '''Returns list of events the specified user hasn't yet attended/rated,\n",
    "    Ordered by highest predicted rating'''\n",
    "    df_list = df_actual.loc[[user_id]].transpose().join(df_pred.loc[[user_id]].transpose(), rsuffix='_pred')\n",
    "    df_list = df_list[df_list[user_id].isnull()]\n",
    "    return df_list.sort_values(by = user_id+'_pred', ascending=False)"
   ]
  },
  {
   "cell_type": "code",
   "execution_count": 108,
   "id": "1e276655-e0b1-496f-a95c-0688928689d8",
   "metadata": {},
   "outputs": [
    {
     "data": {
      "text/html": [
       "<div>\n",
       "<style scoped>\n",
       "    .dataframe tbody tr th:only-of-type {\n",
       "        vertical-align: middle;\n",
       "    }\n",
       "\n",
       "    .dataframe tbody tr th {\n",
       "        vertical-align: top;\n",
       "    }\n",
       "\n",
       "    .dataframe thead th {\n",
       "        text-align: right;\n",
       "    }\n",
       "</style>\n",
       "<table border=\"1\" class=\"dataframe\">\n",
       "  <thead>\n",
       "    <tr style=\"text-align: right;\">\n",
       "      <th>user</th>\n",
       "      <th>User_025</th>\n",
       "      <th>User_025_pred</th>\n",
       "    </tr>\n",
       "  </thead>\n",
       "  <tbody>\n",
       "    <tr>\n",
       "      <th>NYC Jazz Festival</th>\n",
       "      <td>NaN</td>\n",
       "      <td>7.598413</td>\n",
       "    </tr>\n",
       "    <tr>\n",
       "      <th>Oh, Mary!</th>\n",
       "      <td>NaN</td>\n",
       "      <td>7.513591</td>\n",
       "    </tr>\n",
       "    <tr>\n",
       "      <th>Glengarry Glen Ross</th>\n",
       "      <td>NaN</td>\n",
       "      <td>7.336508</td>\n",
       "    </tr>\n",
       "    <tr>\n",
       "      <th>Guggenheim Retrospective</th>\n",
       "      <td>NaN</td>\n",
       "      <td>7.169841</td>\n",
       "    </tr>\n",
       "    <tr>\n",
       "      <th>Death of a Salesman</th>\n",
       "      <td>NaN</td>\n",
       "      <td>7.109235</td>\n",
       "    </tr>\n",
       "    <tr>\n",
       "      <th>Tribeca Film Festival</th>\n",
       "      <td>NaN</td>\n",
       "      <td>7.098413</td>\n",
       "    </tr>\n",
       "    <tr>\n",
       "      <th>Carnegie Hall Classical Concert</th>\n",
       "      <td>NaN</td>\n",
       "      <td>6.791463</td>\n",
       "    </tr>\n",
       "    <tr>\n",
       "      <th>Brooklyn Street Art Tour</th>\n",
       "      <td>NaN</td>\n",
       "      <td>6.472872</td>\n",
       "    </tr>\n",
       "  </tbody>\n",
       "</table>\n",
       "</div>"
      ],
      "text/plain": [
       "user                             User_025  User_025_pred\n",
       "NYC Jazz Festival                     NaN       7.598413\n",
       "Oh, Mary!                             NaN       7.513591\n",
       "Glengarry Glen Ross                   NaN       7.336508\n",
       "Guggenheim Retrospective              NaN       7.169841\n",
       "Death of a Salesman                   NaN       7.109235\n",
       "Tribeca Film Festival                 NaN       7.098413\n",
       "Carnegie Hall Classical Concert       NaN       6.791463\n",
       "Brooklyn Street Art Tour              NaN       6.472872"
      ]
     },
     "execution_count": 108,
     "metadata": {},
     "output_type": "execute_result"
    }
   ],
   "source": [
    "extract_recommendation_rankings(df, df_biases, 'User_025')"
   ]
  },
  {
   "cell_type": "markdown",
   "id": "3be39c2c-29cb-496f-b70e-062094ece17a",
   "metadata": {},
   "source": [
    "So, for this user, we would recommend they go see the NYC Jazz Festival first, predicting they might rate it at about a 7.6."
   ]
  }
 ],
 "metadata": {
  "kernelspec": {
   "display_name": "Python 3 (ipykernel)",
   "language": "python",
   "name": "python3"
  },
  "language_info": {
   "codemirror_mode": {
    "name": "ipython",
    "version": 3
   },
   "file_extension": ".py",
   "mimetype": "text/x-python",
   "name": "python",
   "nbconvert_exporter": "python",
   "pygments_lexer": "ipython3",
   "version": "3.12.9"
  }
 },
 "nbformat": 4,
 "nbformat_minor": 5
}
